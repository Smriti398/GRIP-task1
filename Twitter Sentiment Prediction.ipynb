{
  "nbformat": 4,
  "nbformat_minor": 0,
  "metadata": {
    "colab": {
      "name": "Untitled1.ipynb",
      "provenance": [],
      "collapsed_sections": [],
      "authorship_tag": "ABX9TyOHAeJWfeajcwj2keP1YFXx",
      "include_colab_link": true
    },
    "kernelspec": {
      "display_name": "Python 3",
      "name": "python3"
    },
    "language_info": {
      "name": "python"
    }
  },
  "cells": [
    {
      "cell_type": "markdown",
      "metadata": {
        "id": "view-in-github",
        "colab_type": "text"
      },
      "source": [
        "<a href=\"https://colab.research.google.com/github/Smriti398/GRIP-task1/blob/main/Twitter%20Sentiment%20Prediction.ipynb\" target=\"_parent\"><img src=\"https://colab.research.google.com/assets/colab-badge.svg\" alt=\"Open In Colab\"/></a>"
      ]
    },
    {
      "cell_type": "code",
      "metadata": {
        "colab": {
          "base_uri": "https://localhost:8080/",
          "height": 717
        },
        "id": "0YicF-WLVDqj",
        "outputId": "868b77d3-72e6-4282-8404-6fb67a9262f6"
      },
      "source": [
        "!pip install gensim --upgrade\n",
        "!pip install keras --upgrade\n",
        "!pip install pandas --upgrade"
      ],
      "execution_count": 34,
      "outputs": [
        {
          "output_type": "stream",
          "text": [
            "Collecting gensim\n",
            "\u001b[?25l  Downloading https://files.pythonhosted.org/packages/44/52/f1417772965652d4ca6f901515debcd9d6c5430969e8c02ee7737e6de61c/gensim-4.0.1-cp37-cp37m-manylinux1_x86_64.whl (23.9MB)\n",
            "\u001b[K     |████████████████████████████████| 23.9MB 1.4MB/s \n",
            "\u001b[?25hRequirement already satisfied, skipping upgrade: smart-open>=1.8.1 in /usr/local/lib/python3.7/dist-packages (from gensim) (5.0.0)\n",
            "Requirement already satisfied, skipping upgrade: scipy>=0.18.1 in /usr/local/lib/python3.7/dist-packages (from gensim) (1.4.1)\n",
            "Requirement already satisfied, skipping upgrade: numpy>=1.11.3 in /usr/local/lib/python3.7/dist-packages (from gensim) (1.19.5)\n",
            "Installing collected packages: gensim\n",
            "  Found existing installation: gensim 3.6.0\n",
            "    Uninstalling gensim-3.6.0:\n",
            "      Successfully uninstalled gensim-3.6.0\n",
            "Successfully installed gensim-4.0.1\n"
          ],
          "name": "stdout"
        },
        {
          "output_type": "display_data",
          "data": {
            "application/vnd.colab-display-data+json": {
              "pip_warning": {
                "packages": [
                  "gensim"
                ]
              }
            }
          },
          "metadata": {
            "tags": []
          }
        },
        {
          "output_type": "stream",
          "text": [
            "Requirement already up-to-date: keras in /usr/local/lib/python3.7/dist-packages (2.4.3)\n",
            "Requirement already satisfied, skipping upgrade: scipy>=0.14 in /usr/local/lib/python3.7/dist-packages (from keras) (1.4.1)\n",
            "Requirement already satisfied, skipping upgrade: numpy>=1.9.1 in /usr/local/lib/python3.7/dist-packages (from keras) (1.19.5)\n",
            "Requirement already satisfied, skipping upgrade: h5py in /usr/local/lib/python3.7/dist-packages (from keras) (2.10.0)\n",
            "Requirement already satisfied, skipping upgrade: pyyaml in /usr/local/lib/python3.7/dist-packages (from keras) (3.13)\n",
            "Requirement already satisfied, skipping upgrade: six in /usr/local/lib/python3.7/dist-packages (from h5py->keras) (1.15.0)\n",
            "Collecting pandas\n",
            "\u001b[?25l  Downloading https://files.pythonhosted.org/packages/51/51/48f3fc47c4e2144da2806dfb6629c4dd1fa3d5a143f9652b141e979a8ca9/pandas-1.2.4-cp37-cp37m-manylinux1_x86_64.whl (9.9MB)\n",
            "\u001b[K     |████████████████████████████████| 9.9MB 6.5MB/s \n",
            "\u001b[?25hRequirement already satisfied, skipping upgrade: python-dateutil>=2.7.3 in /usr/local/lib/python3.7/dist-packages (from pandas) (2.8.1)\n",
            "Requirement already satisfied, skipping upgrade: numpy>=1.16.5 in /usr/local/lib/python3.7/dist-packages (from pandas) (1.19.5)\n",
            "Requirement already satisfied, skipping upgrade: pytz>=2017.3 in /usr/local/lib/python3.7/dist-packages (from pandas) (2018.9)\n",
            "Requirement already satisfied, skipping upgrade: six>=1.5 in /usr/local/lib/python3.7/dist-packages (from python-dateutil>=2.7.3->pandas) (1.15.0)\n",
            "\u001b[31mERROR: google-colab 1.0.0 has requirement pandas~=1.1.0; python_version >= \"3.0\", but you'll have pandas 1.2.4 which is incompatible.\u001b[0m\n",
            "Installing collected packages: pandas\n",
            "  Found existing installation: pandas 1.1.5\n",
            "    Uninstalling pandas-1.1.5:\n",
            "      Successfully uninstalled pandas-1.1.5\n",
            "Successfully installed pandas-1.2.4\n"
          ],
          "name": "stdout"
        },
        {
          "output_type": "display_data",
          "data": {
            "application/vnd.colab-display-data+json": {
              "pip_warning": {
                "packages": [
                  "pandas"
                ]
              }
            }
          },
          "metadata": {
            "tags": []
          }
        }
      ]
    },
    {
      "cell_type": "code",
      "metadata": {
        "colab": {
          "base_uri": "https://localhost:8080/"
        },
        "id": "gcwszaCubr2Z",
        "outputId": "f9928e2c-d464-4637-ca8d-80e192436f09"
      },
      "source": [
        "pip install python-Levenshtein"
      ],
      "execution_count": 1,
      "outputs": [
        {
          "output_type": "stream",
          "text": [
            "Collecting python-Levenshtein\n",
            "\u001b[?25l  Downloading https://files.pythonhosted.org/packages/2a/dc/97f2b63ef0fa1fd78dcb7195aca577804f6b2b51e712516cc0e902a9a201/python-Levenshtein-0.12.2.tar.gz (50kB)\n",
            "\r\u001b[K     |██████▌                         | 10kB 11.8MB/s eta 0:00:01\r\u001b[K     |█████████████                   | 20kB 15.0MB/s eta 0:00:01\r\u001b[K     |███████████████████▌            | 30kB 11.4MB/s eta 0:00:01\r\u001b[K     |██████████████████████████      | 40kB 8.8MB/s eta 0:00:01\r\u001b[K     |████████████████████████████████| 51kB 2.8MB/s \n",
            "\u001b[?25hRequirement already satisfied: setuptools in /usr/local/lib/python3.7/dist-packages (from python-Levenshtein) (56.1.0)\n",
            "Building wheels for collected packages: python-Levenshtein\n",
            "  Building wheel for python-Levenshtein (setup.py) ... \u001b[?25l\u001b[?25hdone\n",
            "  Created wheel for python-Levenshtein: filename=python_Levenshtein-0.12.2-cp37-cp37m-linux_x86_64.whl size=149798 sha256=e218d7df956758cfbe9bdcb93f447569d0386649d5ca6aac35206dea39b1889b\n",
            "  Stored in directory: /root/.cache/pip/wheels/b3/26/73/4b48503bac73f01cf18e52cd250947049a7f339e940c5df8fc\n",
            "Successfully built python-Levenshtein\n",
            "Installing collected packages: python-Levenshtein\n",
            "Successfully installed python-Levenshtein-0.12.2\n"
          ],
          "name": "stdout"
        }
      ]
    },
    {
      "cell_type": "code",
      "metadata": {
        "id": "GSF6QHezVnYP"
      },
      "source": [
        "# DataFrame\n",
        "import pandas as pd\n",
        "\n",
        "# Matplot\n",
        "import matplotlib.pyplot as plt\n",
        "%matplotlib inline\n",
        "\n",
        "# Scikit-learn\n",
        "from sklearn.model_selection import train_test_split\n",
        "from sklearn.preprocessing import LabelEncoder\n",
        "from sklearn.metrics import confusion_matrix, classification_report, accuracy_score\n",
        "from sklearn.manifold import TSNE\n",
        "from sklearn.feature_extraction.text import TfidfVectorizer\n",
        "\n",
        "# Keras\n",
        "from keras.preprocessing.text import Tokenizer\n",
        "from keras.preprocessing.sequence import pad_sequences\n",
        "from keras.models import Sequential\n",
        "from keras.layers import Activation, Dense, Dropout, Embedding, Flatten, Conv1D, MaxPooling1D, LSTM\n",
        "from keras import utils\n",
        "from keras.callbacks import ReduceLROnPlateau, EarlyStopping\n",
        "\n",
        "# nltk\n",
        "import nltk\n",
        "from nltk.corpus import stopwords\n",
        "from  nltk.stem import SnowballStemmer\n",
        "\n",
        "# Word2vec\n",
        "import gensim\n",
        "\n",
        "# Utility\n",
        "import re\n",
        "import numpy as np\n",
        "import os\n",
        "from collections import Counter\n",
        "import logging\n",
        "import time\n",
        "import pickle\n",
        "import itertools\n",
        "\n",
        "# Set log\n",
        "logging.basicConfig(format='%(asctime)s : %(levelname)s : %(message)s', level=logging.INFO)\n"
      ],
      "execution_count": 2,
      "outputs": []
    },
    {
      "cell_type": "code",
      "metadata": {
        "colab": {
          "base_uri": "https://localhost:8080/"
        },
        "id": "Mv0oBroFb5fp",
        "outputId": "c0c8544b-e735-430a-f7f3-9389b8f453d7"
      },
      "source": [
        "nltk.download('stopwords')"
      ],
      "execution_count": 3,
      "outputs": [
        {
          "output_type": "stream",
          "text": [
            "[nltk_data] Downloading package stopwords to /root/nltk_data...\n",
            "[nltk_data]   Package stopwords is already up-to-date!\n"
          ],
          "name": "stdout"
        },
        {
          "output_type": "execute_result",
          "data": {
            "text/plain": [
              "True"
            ]
          },
          "metadata": {
            "tags": []
          },
          "execution_count": 3
        }
      ]
    },
    {
      "cell_type": "code",
      "metadata": {
        "id": "-O-jf7P9cDHs"
      },
      "source": [
        "# DATASET\n",
        "DATASET_COLUMNS = [\"target\", \"ids\", \"date\", \"flag\", \"user\", \"text\"]\n",
        "DATASET_ENCODING = \"ISO-8859-1\"\n",
        "TRAIN_SIZE = 0.8\n",
        "\n",
        "# TEXT CLENAING\n",
        "TEXT_CLEANING_RE = \"@\\S+|https?:\\S+|http?:\\S|[^A-Za-z0-9]+\"\n",
        "\n",
        "# WORD2VEC \n",
        "W2V_SIZE = 300\n",
        "W2V_WINDOW = 7\n",
        "W2V_EPOCH = 32\n",
        "W2V_MIN_COUNT = 10\n",
        "\n",
        "# KERAS\n",
        "SEQUENCE_LENGTH = 300\n",
        "EPOCHS = 8\n",
        "BATCH_SIZE = 1024\n",
        "\n",
        "# SENTIMENT\n",
        "POSITIVE = \"POSITIVE\"\n",
        "NEGATIVE = \"NEGATIVE\"\n",
        "NEUTRAL = \"NEUTRAL\"\n",
        "SENTIMENT_THRESHOLDS = (0.4, 0.7)\n",
        "\n",
        "# EXPORT\n",
        "KERAS_MODEL = \"model.h5\" \n",
        "WORD2VEC_MODEL = \"model.w2v\"\n",
        "TOKENIZER_MODEL = \"tokenizer.pkl\"\n",
        "ENCODER_MODEL = \"encoder.pkl\"\n"
      ],
      "execution_count": 4,
      "outputs": []
    },
    {
      "cell_type": "code",
      "metadata": {
        "colab": {
          "resources": {
            "http://localhost:8080/nbextensions/google.colab/files.js": {
              "data": "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",
              "ok": true,
              "headers": [
                [
                  "content-type",
                  "application/javascript"
                ]
              ],
              "status": 200,
              "status_text": ""
            }
          },
          "base_uri": "https://localhost:8080/",
          "height": 72
        },
        "id": "QIvM3c6_iF89",
        "outputId": "6dcb9b7c-7df1-415c-9263-a93609033ced"
      },
      "source": [
        "from google.colab import files\n",
        "uploaded = files.upload()"
      ],
      "execution_count": 5,
      "outputs": [
        {
          "output_type": "display_data",
          "data": {
            "text/html": [
              "\n",
              "     <input type=\"file\" id=\"files-5d8ee88e-e240-49e5-b8cb-932a2bb8dfad\" name=\"files[]\" multiple disabled\n",
              "        style=\"border:none\" />\n",
              "     <output id=\"result-5d8ee88e-e240-49e5-b8cb-932a2bb8dfad\">\n",
              "      Upload widget is only available when the cell has been executed in the\n",
              "      current browser session. Please rerun this cell to enable.\n",
              "      </output>\n",
              "      <script src=\"/nbextensions/google.colab/files.js\"></script> "
            ],
            "text/plain": [
              "<IPython.core.display.HTML object>"
            ]
          },
          "metadata": {
            "tags": []
          }
        },
        {
          "output_type": "stream",
          "text": [
            "Saving training.1600000.processed.noemoticon.csv to training.1600000.processed.noemoticon (2).csv\n"
          ],
          "name": "stdout"
        }
      ]
    },
    {
      "cell_type": "code",
      "metadata": {
        "id": "3POmp-oCLcWY"
      },
      "source": [
        "df = pd.read_csv('training.1600000.processed.noemoticon.csv', encoding =DATASET_ENCODING , names=DATASET_COLUMNS)"
      ],
      "execution_count": 6,
      "outputs": []
    },
    {
      "cell_type": "code",
      "metadata": {
        "colab": {
          "base_uri": "https://localhost:8080/"
        },
        "id": "tBitTiQVjE_4",
        "outputId": "2a6d92fd-b282-4527-cbbc-e83a00e0f9f9"
      },
      "source": [
        "print(\"Dataset size:\", len(df))"
      ],
      "execution_count": 8,
      "outputs": [
        {
          "output_type": "stream",
          "text": [
            "Dataset size: 1162317\n"
          ],
          "name": "stdout"
        }
      ]
    },
    {
      "cell_type": "code",
      "metadata": {
        "colab": {
          "base_uri": "https://localhost:8080/",
          "height": 204
        },
        "id": "uY6kG59VjKa8",
        "outputId": "ff73413a-a3c9-4e85-d882-40e04017f192"
      },
      "source": [
        "df.head(5)"
      ],
      "execution_count": 9,
      "outputs": [
        {
          "output_type": "execute_result",
          "data": {
            "text/html": [
              "<div>\n",
              "<style scoped>\n",
              "    .dataframe tbody tr th:only-of-type {\n",
              "        vertical-align: middle;\n",
              "    }\n",
              "\n",
              "    .dataframe tbody tr th {\n",
              "        vertical-align: top;\n",
              "    }\n",
              "\n",
              "    .dataframe thead th {\n",
              "        text-align: right;\n",
              "    }\n",
              "</style>\n",
              "<table border=\"1\" class=\"dataframe\">\n",
              "  <thead>\n",
              "    <tr style=\"text-align: right;\">\n",
              "      <th></th>\n",
              "      <th>target</th>\n",
              "      <th>ids</th>\n",
              "      <th>date</th>\n",
              "      <th>flag</th>\n",
              "      <th>user</th>\n",
              "      <th>text</th>\n",
              "    </tr>\n",
              "  </thead>\n",
              "  <tbody>\n",
              "    <tr>\n",
              "      <th>0</th>\n",
              "      <td>0</td>\n",
              "      <td>1.467810e+09</td>\n",
              "      <td>Mon Apr 06 22:19:45 PDT 2009</td>\n",
              "      <td>NO_QUERY</td>\n",
              "      <td>_TheSpecialOne_</td>\n",
              "      <td>@switchfoot http://twitpic.com/2y1zl - Awww, t...</td>\n",
              "    </tr>\n",
              "    <tr>\n",
              "      <th>1</th>\n",
              "      <td>0</td>\n",
              "      <td>1.467811e+09</td>\n",
              "      <td>Mon Apr 06 22:19:49 PDT 2009</td>\n",
              "      <td>NO_QUERY</td>\n",
              "      <td>scotthamilton</td>\n",
              "      <td>is upset that he can't update his Facebook by ...</td>\n",
              "    </tr>\n",
              "    <tr>\n",
              "      <th>2</th>\n",
              "      <td>0</td>\n",
              "      <td>1.467811e+09</td>\n",
              "      <td>Mon Apr 06 22:19:53 PDT 2009</td>\n",
              "      <td>NO_QUERY</td>\n",
              "      <td>mattycus</td>\n",
              "      <td>@Kenichan I dived many times for the ball. Man...</td>\n",
              "    </tr>\n",
              "    <tr>\n",
              "      <th>3</th>\n",
              "      <td>0</td>\n",
              "      <td>1.467811e+09</td>\n",
              "      <td>Mon Apr 06 22:19:57 PDT 2009</td>\n",
              "      <td>NO_QUERY</td>\n",
              "      <td>ElleCTF</td>\n",
              "      <td>my whole body feels itchy and like its on fire</td>\n",
              "    </tr>\n",
              "    <tr>\n",
              "      <th>4</th>\n",
              "      <td>0</td>\n",
              "      <td>1.467811e+09</td>\n",
              "      <td>Mon Apr 06 22:19:57 PDT 2009</td>\n",
              "      <td>NO_QUERY</td>\n",
              "      <td>Karoli</td>\n",
              "      <td>@nationwideclass no, it's not behaving at all....</td>\n",
              "    </tr>\n",
              "  </tbody>\n",
              "</table>\n",
              "</div>"
            ],
            "text/plain": [
              "   target  ...                                               text\n",
              "0       0  ...  @switchfoot http://twitpic.com/2y1zl - Awww, t...\n",
              "1       0  ...  is upset that he can't update his Facebook by ...\n",
              "2       0  ...  @Kenichan I dived many times for the ball. Man...\n",
              "3       0  ...    my whole body feels itchy and like its on fire \n",
              "4       0  ...  @nationwideclass no, it's not behaving at all....\n",
              "\n",
              "[5 rows x 6 columns]"
            ]
          },
          "metadata": {
            "tags": []
          },
          "execution_count": 9
        }
      ]
    },
    {
      "cell_type": "code",
      "metadata": {
        "id": "QkVqzXjojTW1"
      },
      "source": [
        "decode_map = {0: \"NEGATIVE\", 2: \"NEUTRAL\", 4: \"POSITIVE\"}\n",
        "def decode_sentiment(label):\n",
        "    return decode_map[int(label)]"
      ],
      "execution_count": 10,
      "outputs": []
    },
    {
      "cell_type": "code",
      "metadata": {
        "colab": {
          "base_uri": "https://localhost:8080/"
        },
        "id": "Ca_KQjgPjZ3K",
        "outputId": "fdc0dd24-f09b-4bee-84ef-8807b2017149"
      },
      "source": [
        "%%time\n",
        "df.target = df.target.apply(lambda x: decode_sentiment(x))"
      ],
      "execution_count": 11,
      "outputs": [
        {
          "output_type": "stream",
          "text": [
            "CPU times: user 462 ms, sys: 2.35 ms, total: 465 ms\n",
            "Wall time: 470 ms\n"
          ],
          "name": "stdout"
        }
      ]
    },
    {
      "cell_type": "code",
      "metadata": {
        "colab": {
          "base_uri": "https://localhost:8080/",
          "height": 516
        },
        "id": "XBR13arVjfSF",
        "outputId": "8aed859c-b3c1-47cb-9506-969bf232ebd2"
      },
      "source": [
        "target_cnt = Counter(df.target)\n",
        "\n",
        "plt.figure(figsize=(16,8))\n",
        "plt.bar(target_cnt.keys(), target_cnt.values())\n",
        "plt.title(\"Dataset labels distribuition\")"
      ],
      "execution_count": 12,
      "outputs": [
        {
          "output_type": "execute_result",
          "data": {
            "text/plain": [
              "Text(0.5, 1.0, 'Dataset labels distribuition')"
            ]
          },
          "metadata": {
            "tags": []
          },
          "execution_count": 12
        },
        {
          "output_type": "display_data",
          "data": {
            "image/png": "[encoded data removed]",
            "text/plain": [
              "<Figure size 1152x576 with 1 Axes>"
            ]
          },
          "metadata": {
            "tags": [],
            "needs_background": "light"
          }
        }
      ]
    },
    {
      "cell_type": "code",
      "metadata": {
        "id": "P1ikzfVAjlLQ"
      },
      "source": [
        "#PRE PROCESS DATASET\n",
        "stop_words = stopwords.words(\"english\")\n",
        "stemmer = SnowballStemmer(\"english\")"
      ],
      "execution_count": 13,
      "outputs": []
    },
    {
      "cell_type": "code",
      "metadata": {
        "id": "tis4GjHgMhWF"
      },
      "source": [
        "def preprocess(text, stem=False):\n",
        "    # Remove link,user and special characters\n",
        "    text = re.sub(TEXT_CLEANING_RE, ' ', str(text).lower()).strip()\n",
        "    tokens = []\n",
        "    for token in text.split():\n",
        "        if token not in stop_words:\n",
        "            if stem:\n",
        "                tokens.append(stemmer.stem(token))\n",
        "            else:\n",
        "                tokens.append(token)\n",
        "    return \" \".join(tokens)"
      ],
      "execution_count": 14,
      "outputs": []
    },
    {
      "cell_type": "code",
      "metadata": {
        "colab": {
          "base_uri": "https://localhost:8080/"
        },
        "id": "x_6V_tYXMjYj",
        "outputId": "f380f421-7660-4642-844e-e37af7587f3a"
      },
      "source": [
        "%%time\n",
        "df.text = df.text.apply(lambda x: preprocess(x))"
      ],
      "execution_count": 15,
      "outputs": [
        {
          "output_type": "stream",
          "text": [
            "CPU times: user 42.9 s, sys: 62.7 ms, total: 42.9 s\n",
            "Wall time: 43 s\n"
          ],
          "name": "stdout"
        }
      ]
    },
    {
      "cell_type": "code",
      "metadata": {
        "colab": {
          "base_uri": "https://localhost:8080/"
        },
        "id": "axbMIcPIM0em",
        "outputId": "7b57cd40-ede5-4677-ec65-e4ebdf568eec"
      },
      "source": [
        "#Split train and test\n",
        "df_train, df_test = train_test_split(df, test_size=1-TRAIN_SIZE, random_state=42)\n",
        "print(\"TRAIN size:\", len(df_train))\n",
        "print(\"TEST size:\", len(df_test))"
      ],
      "execution_count": 16,
      "outputs": [
        {
          "output_type": "stream",
          "text": [
            "TRAIN size: 929853\n",
            "TEST size: 232464\n"
          ],
          "name": "stdout"
        }
      ]
    },
    {
      "cell_type": "code",
      "metadata": {
        "colab": {
          "base_uri": "https://localhost:8080/"
        },
        "id": "H5vP4IPiM_0A",
        "outputId": "81f685b7-3398-4f60-f505-d7a9ab3538ad"
      },
      "source": [
        "#Word2Vec\n",
        "%%time\n",
        "documents = [_text.split() for _text in df_train.text] "
      ],
      "execution_count": 17,
      "outputs": [
        {
          "output_type": "stream",
          "text": [
            "CPU times: user 2.65 s, sys: 406 ms, total: 3.06 s\n",
            "Wall time: 3.05 s\n"
          ],
          "name": "stdout"
        }
      ]
    },
    {
      "cell_type": "code",
      "metadata": {
        "colab": {
          "base_uri": "https://localhost:8080/"
        },
        "id": "k5HbsTnuM1Fk",
        "outputId": "fc49594d-c8c7-4a76-a03c-4ba03ec5c0e2"
      },
      "source": [
        "w2v_model = gensim.models.word2vec.Word2Vec(vector_size=W2V_SIZE, window=W2V_WINDOW, min_count=W2V_MIN_COUNT, workers=8)"
      ],
      "execution_count": 18,
      "outputs": [
        {
          "output_type": "stream",
          "text": [
            "2021-05-21 15:07:06,955 : INFO : Word2Vec lifecycle event {'params': 'Word2Vec(vocab=0, vector_size=300, alpha=0.025)', 'datetime': '2021-05-21T15:07:06.955649', 'gensim': '4.0.1', 'python': '3.7.10 (default, May  3 2021, 02:48:31) \\n[GCC 7.5.0]', 'platform': 'Linux-5.4.109+-x86_64-with-Ubuntu-18.04-bionic', 'event': 'created'}\n"
          ],
          "name": "stderr"
        }
      ]
    },
    {
      "cell_type": "code",
      "metadata": {
        "colab": {
          "base_uri": "https://localhost:8080/"
        },
        "id": "d8ujvDhKccs2",
        "outputId": "a41fed6b-7dd1-4018-dcf5-8804bfc89b5e"
      },
      "source": [
        "w2v_model.build_vocab(documents)"
      ],
      "execution_count": 19,
      "outputs": [
        {
          "output_type": "stream",
          "text": [
            "2021-05-21 15:07:13,620 : INFO : collecting all words and their counts\n",
            "2021-05-21 15:07:13,622 : INFO : PROGRESS: at sentence #0, processed 0 words, keeping 0 word types\n",
            "2021-05-21 15:07:13,655 : INFO : PROGRESS: at sentence #10000, processed 72406 words, keeping 13916 word types\n",
            "2021-05-21 15:07:13,683 : INFO : PROGRESS: at sentence #20000, processed 145327 words, keeping 21528 word types\n",
            "2021-05-21 15:07:13,712 : INFO : PROGRESS: at sentence #30000, processed 217720 words, keeping 27191 word types\n",
            "2021-05-21 15:07:13,740 : INFO : PROGRESS: at sentence #40000, processed 290170 words, keeping 32422 word types\n",
            "2021-05-21 15:07:13,774 : INFO : PROGRESS: at sentence #50000, processed 362641 words, keeping 37271 word types\n",
            "2021-05-21 15:07:13,802 : INFO : PROGRESS: at sentence #60000, processed 434199 words, keeping 41530 word types\n",
            "2021-05-21 15:07:13,839 : INFO : PROGRESS: at sentence #70000, processed 507558 words, keeping 45466 word types\n",
            "2021-05-21 15:07:13,868 : INFO : PROGRESS: at sentence #80000, processed 580313 words, keeping 49334 word types\n",
            "2021-05-21 15:07:13,901 : INFO : PROGRESS: at sentence #90000, processed 653071 words, keeping 53017 word types\n",
            "2021-05-21 15:07:13,931 : INFO : PROGRESS: at sentence #100000, processed 725241 words, keeping 56512 word types\n",
            "2021-05-21 15:07:13,961 : INFO : PROGRESS: at sentence #110000, processed 797831 words, keeping 59876 word types\n",
            "2021-05-21 15:07:13,994 : INFO : PROGRESS: at sentence #120000, processed 870630 words, keeping 63165 word types\n",
            "2021-05-21 15:07:14,026 : INFO : PROGRESS: at sentence #130000, processed 943550 words, keeping 66417 word types\n",
            "2021-05-21 15:07:14,056 : INFO : PROGRESS: at sentence #140000, processed 1016725 words, keeping 69560 word types\n",
            "2021-05-21 15:07:14,086 : INFO : PROGRESS: at sentence #150000, processed 1089262 words, keeping 72604 word types\n",
            "2021-05-21 15:07:14,116 : INFO : PROGRESS: at sentence #160000, processed 1161420 words, keeping 75480 word types\n",
            "2021-05-21 15:07:14,145 : INFO : PROGRESS: at sentence #170000, processed 1234228 words, keeping 78280 word types\n",
            "2021-05-21 15:07:14,174 : INFO : PROGRESS: at sentence #180000, processed 1306470 words, keeping 81106 word types\n",
            "2021-05-21 15:07:14,204 : INFO : PROGRESS: at sentence #190000, processed 1379027 words, keeping 83846 word types\n",
            "2021-05-21 15:07:14,233 : INFO : PROGRESS: at sentence #200000, processed 1451515 words, keeping 86494 word types\n",
            "2021-05-21 15:07:14,266 : INFO : PROGRESS: at sentence #210000, processed 1524116 words, keeping 89184 word types\n",
            "2021-05-21 15:07:14,296 : INFO : PROGRESS: at sentence #220000, processed 1597420 words, keeping 91789 word types\n",
            "2021-05-21 15:07:14,331 : INFO : PROGRESS: at sentence #230000, processed 1669579 words, keeping 94403 word types\n",
            "2021-05-21 15:07:14,368 : INFO : PROGRESS: at sentence #240000, processed 1742200 words, keeping 96891 word types\n",
            "2021-05-21 15:07:14,401 : INFO : PROGRESS: at sentence #250000, processed 1814431 words, keeping 99464 word types\n",
            "2021-05-21 15:07:14,433 : INFO : PROGRESS: at sentence #260000, processed 1887073 words, keeping 101963 word types\n",
            "2021-05-21 15:07:14,466 : INFO : PROGRESS: at sentence #270000, processed 1959551 words, keeping 104387 word types\n",
            "2021-05-21 15:07:14,497 : INFO : PROGRESS: at sentence #280000, processed 2032089 words, keeping 106725 word types\n",
            "2021-05-21 15:07:14,527 : INFO : PROGRESS: at sentence #290000, processed 2104417 words, keeping 109076 word types\n",
            "2021-05-21 15:07:14,558 : INFO : PROGRESS: at sentence #300000, processed 2176997 words, keeping 111451 word types\n",
            "2021-05-21 15:07:14,589 : INFO : PROGRESS: at sentence #310000, processed 2250197 words, keeping 113719 word types\n",
            "2021-05-21 15:07:14,622 : INFO : PROGRESS: at sentence #320000, processed 2322816 words, keeping 116101 word types\n",
            "2021-05-21 15:07:14,654 : INFO : PROGRESS: at sentence #330000, processed 2396084 words, keeping 118529 word types\n",
            "2021-05-21 15:07:14,687 : INFO : PROGRESS: at sentence #340000, processed 2468557 words, keeping 120685 word types\n",
            "2021-05-21 15:07:14,723 : INFO : PROGRESS: at sentence #350000, processed 2541278 words, keeping 122824 word types\n",
            "2021-05-21 15:07:14,753 : INFO : PROGRESS: at sentence #360000, processed 2614013 words, keeping 125042 word types\n",
            "2021-05-21 15:07:14,785 : INFO : PROGRESS: at sentence #370000, processed 2686217 words, keeping 127197 word types\n",
            "2021-05-21 15:07:14,817 : INFO : PROGRESS: at sentence #380000, processed 2759054 words, keeping 129317 word types\n",
            "2021-05-21 15:07:14,856 : INFO : PROGRESS: at sentence #390000, processed 2832528 words, keeping 131508 word types\n",
            "2021-05-21 15:07:14,888 : INFO : PROGRESS: at sentence #400000, processed 2904903 words, keeping 133667 word types\n",
            "2021-05-21 15:07:14,920 : INFO : PROGRESS: at sentence #410000, processed 2977169 words, keeping 135723 word types\n",
            "2021-05-21 15:07:14,951 : INFO : PROGRESS: at sentence #420000, processed 3049448 words, keeping 137819 word types\n",
            "2021-05-21 15:07:14,984 : INFO : PROGRESS: at sentence #430000, processed 3121852 words, keeping 139879 word types\n",
            "2021-05-21 15:07:15,018 : INFO : PROGRESS: at sentence #440000, processed 3193451 words, keeping 141851 word types\n",
            "2021-05-21 15:07:15,052 : INFO : PROGRESS: at sentence #450000, processed 3265836 words, keeping 143811 word types\n",
            "2021-05-21 15:07:15,086 : INFO : PROGRESS: at sentence #460000, processed 3338890 words, keeping 145799 word types\n",
            "2021-05-21 15:07:15,118 : INFO : PROGRESS: at sentence #470000, processed 3410847 words, keeping 147716 word types\n",
            "2021-05-21 15:07:15,151 : INFO : PROGRESS: at sentence #480000, processed 3483798 words, keeping 149746 word types\n",
            "2021-05-21 15:07:15,180 : INFO : PROGRESS: at sentence #490000, processed 3556912 words, keeping 151713 word types\n",
            "2021-05-21 15:07:15,212 : INFO : PROGRESS: at sentence #500000, processed 3629584 words, keeping 153725 word types\n",
            "2021-05-21 15:07:15,246 : INFO : PROGRESS: at sentence #510000, processed 3701351 words, keeping 155654 word types\n",
            "2021-05-21 15:07:15,278 : INFO : PROGRESS: at sentence #520000, processed 3773951 words, keeping 157517 word types\n",
            "2021-05-21 15:07:15,309 : INFO : PROGRESS: at sentence #530000, processed 3847015 words, keeping 159445 word types\n",
            "2021-05-21 15:07:15,340 : INFO : PROGRESS: at sentence #540000, processed 3919220 words, keeping 161402 word types\n",
            "2021-05-21 15:07:15,372 : INFO : PROGRESS: at sentence #550000, processed 3992050 words, keeping 163317 word types\n",
            "2021-05-21 15:07:15,402 : INFO : PROGRESS: at sentence #560000, processed 4064604 words, keeping 165226 word types\n",
            "2021-05-21 15:07:15,432 : INFO : PROGRESS: at sentence #570000, processed 4137416 words, keeping 167130 word types\n",
            "2021-05-21 15:07:15,463 : INFO : PROGRESS: at sentence #580000, processed 4209853 words, keeping 168911 word types\n",
            "2021-05-21 15:07:15,495 : INFO : PROGRESS: at sentence #590000, processed 4282728 words, keeping 170746 word types\n",
            "2021-05-21 15:07:15,525 : INFO : PROGRESS: at sentence #600000, processed 4355754 words, keeping 172576 word types\n",
            "2021-05-21 15:07:15,556 : INFO : PROGRESS: at sentence #610000, processed 4428104 words, keeping 174484 word types\n",
            "2021-05-21 15:07:15,597 : INFO : PROGRESS: at sentence #620000, processed 4500276 words, keeping 176280 word types\n",
            "2021-05-21 15:07:15,628 : INFO : PROGRESS: at sentence #630000, processed 4572942 words, keeping 178102 word types\n",
            "2021-05-21 15:07:15,658 : INFO : PROGRESS: at sentence #640000, processed 4645728 words, keeping 179926 word types\n",
            "2021-05-21 15:07:15,688 : INFO : PROGRESS: at sentence #650000, processed 4717916 words, keeping 181663 word types\n",
            "2021-05-21 15:07:15,719 : INFO : PROGRESS: at sentence #660000, processed 4790681 words, keeping 183429 word types\n",
            "2021-05-21 15:07:15,753 : INFO : PROGRESS: at sentence #670000, processed 4863170 words, keeping 185099 word types\n",
            "2021-05-21 15:07:15,790 : INFO : PROGRESS: at sentence #680000, processed 4935396 words, keeping 186891 word types\n",
            "2021-05-21 15:07:15,824 : INFO : PROGRESS: at sentence #690000, processed 5008636 words, keeping 188706 word types\n",
            "2021-05-21 15:07:15,864 : INFO : PROGRESS: at sentence #700000, processed 5080948 words, keeping 190525 word types\n",
            "2021-05-21 15:07:15,897 : INFO : PROGRESS: at sentence #710000, processed 5153300 words, keeping 192244 word types\n",
            "2021-05-21 15:07:15,927 : INFO : PROGRESS: at sentence #720000, processed 5226226 words, keeping 193917 word types\n",
            "2021-05-21 15:07:15,960 : INFO : PROGRESS: at sentence #730000, processed 5299714 words, keeping 195721 word types\n",
            "2021-05-21 15:07:15,992 : INFO : PROGRESS: at sentence #740000, processed 5372036 words, keeping 197338 word types\n",
            "2021-05-21 15:07:16,028 : INFO : PROGRESS: at sentence #750000, processed 5444938 words, keeping 199048 word types\n",
            "2021-05-21 15:07:16,063 : INFO : PROGRESS: at sentence #760000, processed 5517663 words, keeping 200665 word types\n",
            "2021-05-21 15:07:16,095 : INFO : PROGRESS: at sentence #770000, processed 5590035 words, keeping 202382 word types\n",
            "2021-05-21 15:07:16,132 : INFO : PROGRESS: at sentence #780000, processed 5662361 words, keeping 204043 word types\n",
            "2021-05-21 15:07:16,170 : INFO : PROGRESS: at sentence #790000, processed 5734531 words, keeping 205661 word types\n",
            "2021-05-21 15:07:16,213 : INFO : PROGRESS: at sentence #800000, processed 5806961 words, keeping 207311 word types\n",
            "2021-05-21 15:07:16,245 : INFO : PROGRESS: at sentence #810000, processed 5879956 words, keeping 209012 word types\n",
            "2021-05-21 15:07:16,275 : INFO : PROGRESS: at sentence #820000, processed 5952540 words, keeping 210702 word types\n",
            "2021-05-21 15:07:16,308 : INFO : PROGRESS: at sentence #830000, processed 6025583 words, keeping 212372 word types\n",
            "2021-05-21 15:07:16,342 : INFO : PROGRESS: at sentence #840000, processed 6097344 words, keeping 214029 word types\n",
            "2021-05-21 15:07:16,376 : INFO : PROGRESS: at sentence #850000, processed 6169169 words, keeping 215674 word types\n",
            "2021-05-21 15:07:16,410 : INFO : PROGRESS: at sentence #860000, processed 6241993 words, keeping 217326 word types\n",
            "2021-05-21 15:07:16,443 : INFO : PROGRESS: at sentence #870000, processed 6313758 words, keeping 218871 word types\n",
            "2021-05-21 15:07:16,479 : INFO : PROGRESS: at sentence #880000, processed 6385446 words, keeping 220402 word types\n",
            "2021-05-21 15:07:16,511 : INFO : PROGRESS: at sentence #890000, processed 6458104 words, keeping 222039 word types\n",
            "2021-05-21 15:07:16,542 : INFO : PROGRESS: at sentence #900000, processed 6530892 words, keeping 223697 word types\n",
            "2021-05-21 15:07:16,575 : INFO : PROGRESS: at sentence #910000, processed 6604437 words, keeping 225332 word types\n",
            "2021-05-21 15:07:16,607 : INFO : PROGRESS: at sentence #920000, processed 6677519 words, keeping 226905 word types\n",
            "2021-05-21 15:07:16,637 : INFO : collected 228376 word types from a corpus of 6748672 raw words and 929853 sentences\n",
            "2021-05-21 15:07:16,639 : INFO : Creating a fresh vocabulary\n",
            "2021-05-21 15:07:16,877 : INFO : Word2Vec lifecycle event {'msg': 'effective_min_count=10 retains 25001 unique words (10.94729743931061%% of original 228376, drops 203375)', 'datetime': '2021-05-21T15:07:16.877726', 'gensim': '4.0.1', 'python': '3.7.10 (default, May  3 2021, 02:48:31) \\n[GCC 7.5.0]', 'platform': 'Linux-5.4.109+-x86_64-with-Ubuntu-18.04-bionic', 'event': 'prepare_vocab'}\n",
            "2021-05-21 15:07:16,879 : INFO : Word2Vec lifecycle event {'msg': 'effective_min_count=10 leaves 6396281 word corpus (94.77836528431075%% of original 6748672, drops 352391)', 'datetime': '2021-05-21T15:07:16.879852', 'gensim': '4.0.1', 'python': '3.7.10 (default, May  3 2021, 02:48:31) \\n[GCC 7.5.0]', 'platform': 'Linux-5.4.109+-x86_64-with-Ubuntu-18.04-bionic', 'event': 'prepare_vocab'}\n",
            "2021-05-21 15:07:17,058 : INFO : deleting the raw counts dictionary of 228376 items\n",
            "2021-05-21 15:07:17,066 : INFO : sample=0.001 downsamples 46 most-common words\n",
            "2021-05-21 15:07:17,069 : INFO : Word2Vec lifecycle event {'msg': 'downsampling leaves estimated 5977924.23189839 word corpus (93.5%% of prior 6396281)', 'datetime': '2021-05-21T15:07:17.069345', 'gensim': '4.0.1', 'python': '3.7.10 (default, May  3 2021, 02:48:31) \\n[GCC 7.5.0]', 'platform': 'Linux-5.4.109+-x86_64-with-Ubuntu-18.04-bionic', 'event': 'prepare_vocab'}\n",
            "2021-05-21 15:07:17,390 : INFO : estimated required memory for 25001 words and 300 dimensions: 72502900 bytes\n",
            "2021-05-21 15:07:17,392 : INFO : resetting layer weights\n",
            "2021-05-21 15:07:17,468 : INFO : Word2Vec lifecycle event {'update': False, 'trim_rule': 'None', 'datetime': '2021-05-21T15:07:17.468779', 'gensim': '4.0.1', 'python': '3.7.10 (default, May  3 2021, 02:48:31) \\n[GCC 7.5.0]', 'platform': 'Linux-5.4.109+-x86_64-with-Ubuntu-18.04-bionic', 'event': 'build_vocab'}\n"
          ],
          "name": "stderr"
        }
      ]
    },
    {
      "cell_type": "code",
      "metadata": {
        "colab": {
          "base_uri": "https://localhost:8080/"
        },
        "id": "6AO5NdUOco4S",
        "outputId": "fd60a3b3-9de9-402e-e044-a7bc74aca99e"
      },
      "source": [
        "words = w2v_model.wv.key_to_index.keys()\n",
        "vocab_size = len(words)\n",
        "print(\"Vocab size\", vocab_size)"
      ],
      "execution_count": 20,
      "outputs": [
        {
          "output_type": "stream",
          "text": [
            "Vocab size 25001\n"
          ],
          "name": "stdout"
        }
      ]
    },
    {
      "cell_type": "code",
      "metadata": {
        "colab": {
          "base_uri": "https://localhost:8080/"
        },
        "id": "WAxHWR9Fd-bN",
        "outputId": "5cda0ff6-7ddc-4561-82ba-ac4111b2d232"
      },
      "source": [
        "%%time\n",
        "w2v_model.train(documents, total_examples=len(documents), epochs=W2V_EPOCH)"
      ],
      "execution_count": 21,
      "outputs": [
        {
          "output_type": "stream",
          "text": [
            "2021-05-21 15:07:29,257 : INFO : Word2Vec lifecycle event {'msg': 'training model with 8 workers on 25001 vocabulary and 300 features, using sg=0 hs=0 sample=0.001 negative=5 window=7', 'datetime': '2021-05-21T15:07:29.256976', 'gensim': '4.0.1', 'python': '3.7.10 (default, May  3 2021, 02:48:31) \\n[GCC 7.5.0]', 'platform': 'Linux-5.4.109+-x86_64-with-Ubuntu-18.04-bionic', 'event': 'train'}\n",
            "2021-05-21 15:07:30,296 : INFO : EPOCH 1 - PROGRESS: at 4.59% examples, 273678 words/s, in_qsize 16, out_qsize 0\n",
            "2021-05-21 15:07:31,447 : INFO : EPOCH 1 - PROGRESS: at 9.63% examples, 275325 words/s, in_qsize 15, out_qsize 5\n",
            "2021-05-21 15:07:32,444 : INFO : EPOCH 1 - PROGRESS: at 15.25% examples, 289455 words/s, in_qsize 15, out_qsize 0\n",
            "2021-05-21 15:07:33,447 : INFO : EPOCH 1 - PROGRESS: at 20.59% examples, 296311 words/s, in_qsize 16, out_qsize 0\n",
            "2021-05-21 15:07:34,484 : INFO : EPOCH 1 - PROGRESS: at 26.06% examples, 300260 words/s, in_qsize 16, out_qsize 0\n",
            "2021-05-21 15:07:35,513 : INFO : EPOCH 1 - PROGRESS: at 30.96% examples, 297548 words/s, in_qsize 15, out_qsize 2\n",
            "2021-05-21 15:07:36,535 : INFO : EPOCH 1 - PROGRESS: at 36.27% examples, 299524 words/s, in_qsize 15, out_qsize 0\n",
            "2021-05-21 15:07:37,584 : INFO : EPOCH 1 - PROGRESS: at 42.04% examples, 303299 words/s, in_qsize 16, out_qsize 0\n",
            "2021-05-21 15:07:38,634 : INFO : EPOCH 1 - PROGRESS: at 46.95% examples, 300466 words/s, in_qsize 15, out_qsize 0\n",
            "2021-05-21 15:07:39,660 : INFO : EPOCH 1 - PROGRESS: at 52.28% examples, 301502 words/s, in_qsize 15, out_qsize 0\n",
            "2021-05-21 15:07:40,679 : INFO : EPOCH 1 - PROGRESS: at 57.61% examples, 302505 words/s, in_qsize 16, out_qsize 1\n",
            "2021-05-21 15:07:41,741 : INFO : EPOCH 1 - PROGRESS: at 62.64% examples, 300891 words/s, in_qsize 8, out_qsize 7\n",
            "2021-05-21 15:07:42,757 : INFO : EPOCH 1 - PROGRESS: at 68.27% examples, 303151 words/s, in_qsize 16, out_qsize 2\n",
            "2021-05-21 15:07:43,802 : INFO : EPOCH 1 - PROGRESS: at 74.19% examples, 305718 words/s, in_qsize 15, out_qsize 0\n",
            "2021-05-21 15:07:44,847 : INFO : EPOCH 1 - PROGRESS: at 79.22% examples, 304513 words/s, in_qsize 15, out_qsize 0\n",
            "2021-05-21 15:07:45,918 : INFO : EPOCH 1 - PROGRESS: at 84.86% examples, 305461 words/s, in_qsize 16, out_qsize 1\n",
            "2021-05-21 15:07:46,915 : INFO : EPOCH 1 - PROGRESS: at 90.64% examples, 307458 words/s, in_qsize 16, out_qsize 0\n",
            "2021-05-21 15:07:47,940 : INFO : EPOCH 1 - PROGRESS: at 95.85% examples, 307185 words/s, in_qsize 15, out_qsize 0\n",
            "2021-05-21 15:07:48,502 : INFO : worker thread finished; awaiting finish of 7 more threads\n",
            "2021-05-21 15:07:48,551 : INFO : worker thread finished; awaiting finish of 6 more threads\n",
            "2021-05-21 15:07:48,581 : INFO : worker thread finished; awaiting finish of 5 more threads\n",
            "2021-05-21 15:07:48,584 : INFO : worker thread finished; awaiting finish of 4 more threads\n",
            "2021-05-21 15:07:48,586 : INFO : worker thread finished; awaiting finish of 3 more threads\n",
            "2021-05-21 15:07:48,593 : INFO : worker thread finished; awaiting finish of 2 more threads\n",
            "2021-05-21 15:07:48,609 : INFO : worker thread finished; awaiting finish of 1 more threads\n",
            "2021-05-21 15:07:48,627 : INFO : worker thread finished; awaiting finish of 0 more threads\n",
            "2021-05-21 15:07:48,629 : INFO : EPOCH - 1 : training on 6748672 raw words (5977385 effective words) took 19.3s, 309128 effective words/s\n",
            "2021-05-21 15:07:49,765 : INFO : EPOCH 2 - PROGRESS: at 4.74% examples, 252556 words/s, in_qsize 13, out_qsize 2\n",
            "2021-05-21 15:07:50,918 : INFO : EPOCH 2 - PROGRESS: at 10.82% examples, 284083 words/s, in_qsize 15, out_qsize 0\n",
            "2021-05-21 15:07:51,935 : INFO : EPOCH 2 - PROGRESS: at 16.14% examples, 294121 words/s, in_qsize 15, out_qsize 2\n",
            "2021-05-21 15:07:52,977 : INFO : EPOCH 2 - PROGRESS: at 21.62% examples, 298245 words/s, in_qsize 15, out_qsize 0\n",
            "2021-05-21 15:07:53,994 : INFO : EPOCH 2 - PROGRESS: at 27.25% examples, 304446 words/s, in_qsize 15, out_qsize 0\n",
            "2021-05-21 15:07:55,004 : INFO : EPOCH 2 - PROGRESS: at 32.59% examples, 306212 words/s, in_qsize 15, out_qsize 0\n",
            "2021-05-21 15:07:56,060 : INFO : EPOCH 2 - PROGRESS: at 37.61% examples, 303180 words/s, in_qsize 14, out_qsize 1\n",
            "2021-05-21 15:07:57,078 : INFO : EPOCH 2 - PROGRESS: at 42.92% examples, 304395 words/s, in_qsize 16, out_qsize 0\n",
            "2021-05-21 15:07:58,111 : INFO : EPOCH 2 - PROGRESS: at 48.59% examples, 306723 words/s, in_qsize 15, out_qsize 0\n",
            "2021-05-21 15:07:59,186 : INFO : EPOCH 2 - PROGRESS: at 54.35% examples, 308218 words/s, in_qsize 14, out_qsize 1\n",
            "2021-05-21 15:08:00,201 : INFO : EPOCH 2 - PROGRESS: at 59.83% examples, 309502 words/s, in_qsize 15, out_qsize 0\n",
            "2021-05-21 15:08:01,203 : INFO : EPOCH 2 - PROGRESS: at 65.15% examples, 310201 words/s, in_qsize 14, out_qsize 0\n",
            "2021-05-21 15:08:02,228 : INFO : EPOCH 2 - PROGRESS: at 70.35% examples, 309581 words/s, in_qsize 16, out_qsize 0\n",
            "2021-05-21 15:08:03,255 : INFO : EPOCH 2 - PROGRESS: at 75.39% examples, 308429 words/s, in_qsize 15, out_qsize 0\n",
            "2021-05-21 15:08:04,314 : INFO : EPOCH 2 - PROGRESS: at 80.99% examples, 309053 words/s, in_qsize 15, out_qsize 1\n",
            "2021-05-21 15:08:05,419 : INFO : EPOCH 2 - PROGRESS: at 86.78% examples, 309274 words/s, in_qsize 15, out_qsize 0\n",
            "2021-05-21 15:08:06,428 : INFO : EPOCH 2 - PROGRESS: at 92.57% examples, 311121 words/s, in_qsize 16, out_qsize 0\n",
            "2021-05-21 15:08:07,465 : INFO : EPOCH 2 - PROGRESS: at 98.06% examples, 311379 words/s, in_qsize 14, out_qsize 0\n",
            "2021-05-21 15:08:07,600 : INFO : worker thread finished; awaiting finish of 7 more threads\n",
            "2021-05-21 15:08:07,615 : INFO : worker thread finished; awaiting finish of 6 more threads\n",
            "2021-05-21 15:08:07,638 : INFO : worker thread finished; awaiting finish of 5 more threads\n",
            "2021-05-21 15:08:07,690 : INFO : worker thread finished; awaiting finish of 4 more threads\n",
            "2021-05-21 15:08:07,698 : INFO : worker thread finished; awaiting finish of 3 more threads\n",
            "2021-05-21 15:08:07,709 : INFO : worker thread finished; awaiting finish of 2 more threads\n",
            "2021-05-21 15:08:07,718 : INFO : worker thread finished; awaiting finish of 1 more threads\n",
            "2021-05-21 15:08:07,719 : INFO : worker thread finished; awaiting finish of 0 more threads\n",
            "2021-05-21 15:08:07,724 : INFO : EPOCH - 2 : training on 6748672 raw words (5977419 effective words) took 19.1s, 313255 effective words/s\n",
            "2021-05-21 15:08:08,769 : INFO : EPOCH 3 - PROGRESS: at 4.45% examples, 258365 words/s, in_qsize 15, out_qsize 0\n",
            "2021-05-21 15:08:09,787 : INFO : EPOCH 3 - PROGRESS: at 9.93% examples, 290499 words/s, in_qsize 16, out_qsize 2\n",
            "2021-05-21 15:08:10,853 : INFO : EPOCH 3 - PROGRESS: at 15.40% examples, 295992 words/s, in_qsize 16, out_qsize 0\n",
            "2021-05-21 15:08:11,895 : INFO : EPOCH 3 - PROGRESS: at 21.03% examples, 302746 words/s, in_qsize 15, out_qsize 0\n",
            "2021-05-21 15:08:12,930 : INFO : EPOCH 3 - PROGRESS: at 26.21% examples, 303071 words/s, in_qsize 15, out_qsize 2\n",
            "2021-05-21 15:08:13,939 : INFO : EPOCH 3 - PROGRESS: at 31.84% examples, 307201 words/s, in_qsize 15, out_qsize 0\n",
            "2021-05-21 15:08:14,957 : INFO : EPOCH 3 - PROGRESS: at 37.31% examples, 309228 words/s, in_qsize 15, out_qsize 0\n",
            "2021-05-21 15:08:16,072 : INFO : EPOCH 3 - PROGRESS: at 42.92% examples, 308250 words/s, in_qsize 12, out_qsize 3\n",
            "2021-05-21 15:08:17,116 : INFO : EPOCH 3 - PROGRESS: at 48.88% examples, 311715 words/s, in_qsize 15, out_qsize 0\n",
            "2021-05-21 15:08:18,217 : INFO : EPOCH 3 - PROGRESS: at 54.66% examples, 311925 words/s, in_qsize 15, out_qsize 0\n",
            "2021-05-21 15:08:19,224 : INFO : EPOCH 3 - PROGRESS: at 60.58% examples, 315428 words/s, in_qsize 15, out_qsize 0\n",
            "2021-05-21 15:08:20,229 : INFO : EPOCH 3 - PROGRESS: at 65.30% examples, 312843 words/s, in_qsize 15, out_qsize 2\n",
            "2021-05-21 15:08:21,256 : INFO : EPOCH 3 - PROGRESS: at 70.64% examples, 312533 words/s, in_qsize 15, out_qsize 0\n",
            "2021-05-21 15:08:22,334 : INFO : EPOCH 3 - PROGRESS: at 76.42% examples, 313088 words/s, in_qsize 15, out_qsize 0\n",
            "2021-05-21 15:08:23,354 : INFO : EPOCH 3 - PROGRESS: at 81.88% examples, 313616 words/s, in_qsize 15, out_qsize 0\n",
            "2021-05-21 15:08:24,387 : INFO : EPOCH 3 - PROGRESS: at 87.37% examples, 313842 words/s, in_qsize 16, out_qsize 0\n",
            "2021-05-21 15:08:25,493 : INFO : EPOCH 3 - PROGRESS: at 93.17% examples, 313929 words/s, in_qsize 15, out_qsize 1\n",
            "2021-05-21 15:08:26,549 : INFO : EPOCH 3 - PROGRESS: at 98.93% examples, 314454 words/s, in_qsize 8, out_qsize 0\n",
            "2021-05-21 15:08:26,569 : INFO : worker thread finished; awaiting finish of 7 more threads\n",
            "2021-05-21 15:08:26,588 : INFO : worker thread finished; awaiting finish of 6 more threads\n",
            "2021-05-21 15:08:26,597 : INFO : worker thread finished; awaiting finish of 5 more threads\n",
            "2021-05-21 15:08:26,625 : INFO : worker thread finished; awaiting finish of 4 more threads\n",
            "2021-05-21 15:08:26,629 : INFO : worker thread finished; awaiting finish of 3 more threads\n",
            "2021-05-21 15:08:26,633 : INFO : worker thread finished; awaiting finish of 2 more threads\n",
            "2021-05-21 15:08:26,634 : INFO : worker thread finished; awaiting finish of 1 more threads\n",
            "2021-05-21 15:08:26,636 : INFO : worker thread finished; awaiting finish of 0 more threads\n",
            "2021-05-21 15:08:26,638 : INFO : EPOCH - 3 : training on 6748672 raw words (5977617 effective words) took 18.9s, 316322 effective words/s\n",
            "2021-05-21 15:08:27,687 : INFO : EPOCH 4 - PROGRESS: at 4.45% examples, 258584 words/s, in_qsize 15, out_qsize 0\n",
            "2021-05-21 15:08:28,724 : INFO : EPOCH 4 - PROGRESS: at 10.22% examples, 295965 words/s, in_qsize 15, out_qsize 0\n",
            "2021-05-21 15:08:29,768 : INFO : EPOCH 4 - PROGRESS: at 15.54% examples, 299154 words/s, in_qsize 16, out_qsize 1\n",
            "2021-05-21 15:08:30,854 : INFO : EPOCH 4 - PROGRESS: at 21.18% examples, 301987 words/s, in_qsize 15, out_qsize 0\n",
            "2021-05-21 15:08:31,887 : INFO : EPOCH 4 - PROGRESS: at 26.81% examples, 306676 words/s, in_qsize 16, out_qsize 0\n",
            "2021-05-21 15:08:32,910 : INFO : EPOCH 4 - PROGRESS: at 31.84% examples, 304626 words/s, in_qsize 15, out_qsize 1\n",
            "2021-05-21 15:08:33,937 : INFO : EPOCH 4 - PROGRESS: at 37.31% examples, 306649 words/s, in_qsize 15, out_qsize 0\n",
            "2021-05-21 15:08:34,973 : INFO : EPOCH 4 - PROGRESS: at 42.63% examples, 306805 words/s, in_qsize 14, out_qsize 4\n",
            "2021-05-21 15:08:35,984 : INFO : EPOCH 4 - PROGRESS: at 48.00% examples, 307730 words/s, in_qsize 15, out_qsize 0\n",
            "2021-05-21 15:08:37,014 : INFO : EPOCH 4 - PROGRESS: at 53.46% examples, 308812 words/s, in_qsize 14, out_qsize 1\n",
            "2021-05-21 15:08:38,050 : INFO : EPOCH 4 - PROGRESS: at 59.10% examples, 310275 words/s, in_qsize 15, out_qsize 0\n",
            "2021-05-21 15:08:39,103 : INFO : EPOCH 4 - PROGRESS: at 64.56% examples, 310370 words/s, in_qsize 15, out_qsize 0\n",
            "2021-05-21 15:08:40,109 : INFO : EPOCH 4 - PROGRESS: at 70.20% examples, 312141 words/s, in_qsize 15, out_qsize 0\n",
            "2021-05-21 15:08:41,176 : INFO : EPOCH 4 - PROGRESS: at 75.83% examples, 312362 words/s, in_qsize 15, out_qsize 0\n",
            "2021-05-21 15:08:42,188 : INFO : EPOCH 4 - PROGRESS: at 81.14% examples, 312530 words/s, in_qsize 15, out_qsize 0\n",
            "2021-05-21 15:08:43,204 : INFO : EPOCH 4 - PROGRESS: at 86.63% examples, 313122 words/s, in_qsize 14, out_qsize 1\n",
            "2021-05-21 15:08:44,242 : INFO : EPOCH 4 - PROGRESS: at 92.12% examples, 313252 words/s, in_qsize 14, out_qsize 1\n",
            "2021-05-21 15:08:45,248 : INFO : EPOCH 4 - PROGRESS: at 97.47% examples, 313440 words/s, in_qsize 15, out_qsize 0\n",
            "2021-05-21 15:08:45,542 : INFO : worker thread finished; awaiting finish of 7 more threads\n",
            "2021-05-21 15:08:45,554 : INFO : worker thread finished; awaiting finish of 6 more threads\n",
            "2021-05-21 15:08:45,557 : INFO : worker thread finished; awaiting finish of 5 more threads\n",
            "2021-05-21 15:08:45,572 : INFO : worker thread finished; awaiting finish of 4 more threads\n",
            "2021-05-21 15:08:45,579 : INFO : worker thread finished; awaiting finish of 3 more threads\n",
            "2021-05-21 15:08:45,591 : INFO : worker thread finished; awaiting finish of 2 more threads\n",
            "2021-05-21 15:08:45,596 : INFO : worker thread finished; awaiting finish of 1 more threads\n",
            "2021-05-21 15:08:45,624 : INFO : worker thread finished; awaiting finish of 0 more threads\n",
            "2021-05-21 15:08:45,625 : INFO : EPOCH - 4 : training on 6748672 raw words (5978218 effective words) took 19.0s, 315210 effective words/s\n",
            "2021-05-21 15:08:46,674 : INFO : EPOCH 5 - PROGRESS: at 4.74% examples, 279697 words/s, in_qsize 14, out_qsize 1\n",
            "2021-05-21 15:08:47,741 : INFO : EPOCH 5 - PROGRESS: at 9.78% examples, 280756 words/s, in_qsize 13, out_qsize 6\n",
            "2021-05-21 15:08:48,763 : INFO : EPOCH 5 - PROGRESS: at 15.69% examples, 302460 words/s, in_qsize 15, out_qsize 0\n",
            "2021-05-21 15:08:49,804 : INFO : EPOCH 5 - PROGRESS: at 20.88% examples, 301261 words/s, in_qsize 12, out_qsize 3\n",
            "2021-05-21 15:08:50,893 : INFO : EPOCH 5 - PROGRESS: at 26.66% examples, 304563 words/s, in_qsize 15, out_qsize 0\n",
            "2021-05-21 15:08:51,938 : INFO : EPOCH 5 - PROGRESS: at 32.44% examples, 308852 words/s, in_qsize 15, out_qsize 0\n",
            "2021-05-21 15:08:52,950 : INFO : EPOCH 5 - PROGRESS: at 37.31% examples, 306024 words/s, in_qsize 12, out_qsize 3\n",
            "2021-05-21 15:08:53,955 : INFO : EPOCH 5 - PROGRESS: at 42.92% examples, 309507 words/s, in_qsize 15, out_qsize 0\n",
            "2021-05-21 15:08:54,960 : INFO : EPOCH 5 - PROGRESS: at 48.44% examples, 311316 words/s, in_qsize 12, out_qsize 2\n",
            "2021-05-21 15:08:55,988 : INFO : EPOCH 5 - PROGRESS: at 53.31% examples, 308644 words/s, in_qsize 14, out_qsize 1\n",
            "2021-05-21 15:08:57,110 : INFO : EPOCH 5 - PROGRESS: at 58.95% examples, 308528 words/s, in_qsize 15, out_qsize 2\n",
            "2021-05-21 15:08:58,163 : INFO : EPOCH 5 - PROGRESS: at 64.86% examples, 310200 words/s, in_qsize 15, out_qsize 0\n",
            "2021-05-21 15:08:59,173 : INFO : EPOCH 5 - PROGRESS: at 70.20% examples, 310592 words/s, in_qsize 15, out_qsize 0\n",
            "2021-05-21 15:09:00,208 : INFO : EPOCH 5 - PROGRESS: at 75.53% examples, 310801 words/s, in_qsize 15, out_qsize 0\n",
            "2021-05-21 15:09:01,227 : INFO : EPOCH 5 - PROGRESS: at 80.55% examples, 309695 words/s, in_qsize 15, out_qsize 3\n",
            "2021-05-21 15:09:02,216 : INFO : EPOCH 5 - PROGRESS: at 85.90% examples, 310171 words/s, in_qsize 15, out_qsize 2\n",
            "2021-05-21 15:09:03,235 : INFO : EPOCH 5 - PROGRESS: at 91.83% examples, 312293 words/s, in_qsize 15, out_qsize 0\n",
            "2021-05-21 15:09:04,236 : INFO : EPOCH 5 - PROGRESS: at 96.59% examples, 310727 words/s, in_qsize 15, out_qsize 0\n",
            "2021-05-21 15:09:04,604 : INFO : worker thread finished; awaiting finish of 7 more threads\n",
            "2021-05-21 15:09:04,648 : INFO : worker thread finished; awaiting finish of 6 more threads\n",
            "2021-05-21 15:09:04,665 : INFO : worker thread finished; awaiting finish of 5 more threads\n",
            "2021-05-21 15:09:04,705 : INFO : worker thread finished; awaiting finish of 4 more threads\n",
            "2021-05-21 15:09:04,730 : INFO : worker thread finished; awaiting finish of 3 more threads\n",
            "2021-05-21 15:09:04,742 : INFO : worker thread finished; awaiting finish of 2 more threads\n",
            "2021-05-21 15:09:04,746 : INFO : worker thread finished; awaiting finish of 1 more threads\n",
            "2021-05-21 15:09:04,756 : INFO : worker thread finished; awaiting finish of 0 more threads\n",
            "2021-05-21 15:09:04,758 : INFO : EPOCH - 5 : training on 6748672 raw words (5977440 effective words) took 19.1s, 312985 effective words/s\n",
            "2021-05-21 15:09:05,774 : INFO : EPOCH 6 - PROGRESS: at 4.59% examples, 274212 words/s, in_qsize 14, out_qsize 0\n",
            "2021-05-21 15:09:06,781 : INFO : EPOCH 6 - PROGRESS: at 9.48% examples, 282162 words/s, in_qsize 14, out_qsize 0\n",
            "2021-05-21 15:09:07,869 : INFO : EPOCH 6 - PROGRESS: at 14.95% examples, 288901 words/s, in_qsize 15, out_qsize 0\n",
            "2021-05-21 15:09:08,872 : INFO : EPOCH 6 - PROGRESS: at 20.29% examples, 296013 words/s, in_qsize 16, out_qsize 1\n",
            "2021-05-21 15:09:09,929 : INFO : EPOCH 6 - PROGRESS: at 25.77% examples, 300310 words/s, in_qsize 15, out_qsize 1\n",
            "2021-05-21 15:09:10,909 : INFO : EPOCH 6 - PROGRESS: at 31.26% examples, 304582 words/s, in_qsize 16, out_qsize 0\n",
            "2021-05-21 15:09:11,958 : INFO : EPOCH 6 - PROGRESS: at 36.72% examples, 306814 words/s, in_qsize 15, out_qsize 1\n",
            "2021-05-21 15:09:12,946 : INFO : EPOCH 6 - PROGRESS: at 41.89% examples, 306651 words/s, in_qsize 15, out_qsize 0\n",
            "2021-05-21 15:09:13,974 : INFO : EPOCH 6 - PROGRESS: at 47.70% examples, 309916 words/s, in_qsize 16, out_qsize 0\n",
            "2021-05-21 15:09:14,985 : INFO : EPOCH 6 - PROGRESS: at 53.31% examples, 312235 words/s, in_qsize 15, out_qsize 0\n",
            "2021-05-21 15:09:15,992 : INFO : EPOCH 6 - PROGRESS: at 58.06% examples, 309468 words/s, in_qsize 15, out_qsize 0\n",
            "2021-05-21 15:09:16,995 : INFO : EPOCH 6 - PROGRESS: at 63.23% examples, 309439 words/s, in_qsize 16, out_qsize 0\n",
            "2021-05-21 15:09:18,074 : INFO : EPOCH 6 - PROGRESS: at 68.71% examples, 308942 words/s, in_qsize 15, out_qsize 0\n",
            "2021-05-21 15:09:19,100 : INFO : EPOCH 6 - PROGRESS: at 74.34% examples, 310275 words/s, in_qsize 15, out_qsize 0\n",
            "2021-05-21 15:09:20,113 : INFO : EPOCH 6 - PROGRESS: at 79.52% examples, 309968 words/s, in_qsize 15, out_qsize 0\n",
            "2021-05-21 15:09:21,142 : INFO : EPOCH 6 - PROGRESS: at 84.86% examples, 309953 words/s, in_qsize 14, out_qsize 1\n",
            "2021-05-21 15:09:22,180 : INFO : EPOCH 6 - PROGRESS: at 90.64% examples, 311279 words/s, in_qsize 15, out_qsize 0\n",
            "2021-05-21 15:09:23,205 : INFO : EPOCH 6 - PROGRESS: at 96.15% examples, 311730 words/s, in_qsize 15, out_qsize 0\n",
            "2021-05-21 15:09:23,728 : INFO : worker thread finished; awaiting finish of 7 more threads\n",
            "2021-05-21 15:09:23,758 : INFO : worker thread finished; awaiting finish of 6 more threads\n",
            "2021-05-21 15:09:23,788 : INFO : worker thread finished; awaiting finish of 5 more threads\n",
            "2021-05-21 15:09:23,796 : INFO : worker thread finished; awaiting finish of 4 more threads\n",
            "2021-05-21 15:09:23,807 : INFO : worker thread finished; awaiting finish of 3 more threads\n",
            "2021-05-21 15:09:23,824 : INFO : worker thread finished; awaiting finish of 2 more threads\n",
            "2021-05-21 15:09:23,832 : INFO : worker thread finished; awaiting finish of 1 more threads\n",
            "2021-05-21 15:09:23,837 : INFO : worker thread finished; awaiting finish of 0 more threads\n",
            "2021-05-21 15:09:23,841 : INFO : EPOCH - 6 : training on 6748672 raw words (5977378 effective words) took 19.1s, 313484 effective words/s\n",
            "2021-05-21 15:09:24,917 : INFO : EPOCH 7 - PROGRESS: at 4.74% examples, 273292 words/s, in_qsize 15, out_qsize 0\n",
            "2021-05-21 15:09:25,942 : INFO : EPOCH 7 - PROGRESS: at 10.08% examples, 288690 words/s, in_qsize 15, out_qsize 0\n",
            "2021-05-21 15:09:27,053 : INFO : EPOCH 7 - PROGRESS: at 15.69% examples, 293673 words/s, in_qsize 15, out_qsize 0\n",
            "2021-05-21 15:09:28,086 : INFO : EPOCH 7 - PROGRESS: at 21.33% examples, 301578 words/s, in_qsize 16, out_qsize 0\n",
            "2021-05-21 15:09:29,206 : INFO : EPOCH 7 - PROGRESS: at 26.96% examples, 301348 words/s, in_qsize 15, out_qsize 0\n",
            "2021-05-21 15:09:30,209 : INFO : EPOCH 7 - PROGRESS: at 32.58% examples, 306684 words/s, in_qsize 15, out_qsize 0\n",
            "2021-05-21 15:09:31,223 : INFO : EPOCH 7 - PROGRESS: at 37.75% examples, 306539 words/s, in_qsize 16, out_qsize 0\n",
            "2021-05-21 15:09:32,236 : INFO : EPOCH 7 - PROGRESS: at 43.22% examples, 308545 words/s, in_qsize 15, out_qsize 0\n",
            "2021-05-21 15:09:33,259 : INFO : EPOCH 7 - PROGRESS: at 48.73% examples, 309855 words/s, in_qsize 15, out_qsize 0\n",
            "2021-05-21 15:09:34,333 : INFO : EPOCH 7 - PROGRESS: at 54.51% examples, 311072 words/s, in_qsize 15, out_qsize 0\n",
            "2021-05-21 15:09:35,420 : INFO : EPOCH 7 - PROGRESS: at 59.98% examples, 310193 words/s, in_qsize 14, out_qsize 1\n",
            "2021-05-21 15:09:36,479 : INFO : EPOCH 7 - PROGRESS: at 65.60% examples, 310844 words/s, in_qsize 16, out_qsize 0\n",
            "2021-05-21 15:09:37,482 : INFO : EPOCH 7 - PROGRESS: at 71.08% examples, 312000 words/s, in_qsize 16, out_qsize 0\n",
            "2021-05-21 15:09:38,596 : INFO : EPOCH 7 - PROGRESS: at 76.42% examples, 310020 words/s, in_qsize 13, out_qsize 2\n",
            "2021-05-21 15:09:39,673 : INFO : EPOCH 7 - PROGRESS: at 82.04% examples, 310198 words/s, in_qsize 14, out_qsize 1\n",
            "2021-05-21 15:09:40,681 : INFO : EPOCH 7 - PROGRESS: at 87.67% examples, 311590 words/s, in_qsize 15, out_qsize 0\n",
            "2021-05-21 15:09:41,698 : INFO : EPOCH 7 - PROGRESS: at 93.02% examples, 311679 words/s, in_qsize 14, out_qsize 1\n",
            "2021-05-21 15:09:42,768 : INFO : EPOCH 7 - PROGRESS: at 98.93% examples, 312783 words/s, in_qsize 8, out_qsize 0\n",
            "2021-05-21 15:09:42,818 : INFO : worker thread finished; awaiting finish of 7 more threads\n",
            "2021-05-21 15:09:42,821 : INFO : worker thread finished; awaiting finish of 6 more threads\n",
            "2021-05-21 15:09:42,825 : INFO : worker thread finished; awaiting finish of 5 more threads\n",
            "2021-05-21 15:09:42,864 : INFO : worker thread finished; awaiting finish of 4 more threads\n",
            "2021-05-21 15:09:42,869 : INFO : worker thread finished; awaiting finish of 3 more threads\n",
            "2021-05-21 15:09:42,875 : INFO : worker thread finished; awaiting finish of 2 more threads\n",
            "2021-05-21 15:09:42,880 : INFO : worker thread finished; awaiting finish of 1 more threads\n",
            "2021-05-21 15:09:42,888 : INFO : worker thread finished; awaiting finish of 0 more threads\n",
            "2021-05-21 15:09:42,891 : INFO : EPOCH - 7 : training on 6748672 raw words (5978199 effective words) took 19.0s, 314088 effective words/s\n",
            "2021-05-21 15:09:43,933 : INFO : EPOCH 8 - PROGRESS: at 4.30% examples, 251886 words/s, in_qsize 15, out_qsize 0\n",
            "2021-05-21 15:09:44,987 : INFO : EPOCH 8 - PROGRESS: at 9.92% examples, 286009 words/s, in_qsize 14, out_qsize 1\n",
            "2021-05-21 15:09:46,017 : INFO : EPOCH 8 - PROGRESS: at 15.84% examples, 305214 words/s, in_qsize 15, out_qsize 0\n",
            "2021-05-21 15:09:47,033 : INFO : EPOCH 8 - PROGRESS: at 20.73% examples, 300864 words/s, in_qsize 16, out_qsize 0\n",
            "2021-05-21 15:09:48,072 : INFO : EPOCH 8 - PROGRESS: at 26.36% examples, 305559 words/s, in_qsize 16, out_qsize 1\n",
            "2021-05-21 15:09:49,082 : INFO : EPOCH 8 - PROGRESS: at 31.70% examples, 307224 words/s, in_qsize 16, out_qsize 1\n",
            "2021-05-21 15:09:50,175 : INFO : EPOCH 8 - PROGRESS: at 37.31% examples, 308099 words/s, in_qsize 15, out_qsize 1\n",
            "2021-05-21 15:09:51,166 : INFO : EPOCH 8 - PROGRESS: at 42.63% examples, 309011 words/s, in_qsize 15, out_qsize 0\n",
            "2021-05-21 15:09:52,182 : INFO : EPOCH 8 - PROGRESS: at 48.29% examples, 311432 words/s, in_qsize 15, out_qsize 0\n",
            "2021-05-21 15:09:53,267 : INFO : EPOCH 8 - PROGRESS: at 53.01% examples, 306179 words/s, in_qsize 16, out_qsize 4\n",
            "2021-05-21 15:09:54,275 : INFO : EPOCH 8 - PROGRESS: at 59.24% examples, 311773 words/s, in_qsize 15, out_qsize 0\n",
            "2021-05-21 15:09:55,275 : INFO : EPOCH 8 - PROGRESS: at 64.12% examples, 310196 words/s, in_qsize 15, out_qsize 1\n",
            "2021-05-21 15:09:56,300 : INFO : EPOCH 8 - PROGRESS: at 69.61% examples, 310897 words/s, in_qsize 15, out_qsize 3\n",
            "2021-05-21 15:09:57,328 : INFO : EPOCH 8 - PROGRESS: at 74.94% examples, 310833 words/s, in_qsize 16, out_qsize 0\n",
            "2021-05-21 15:09:58,372 : INFO : EPOCH 8 - PROGRESS: at 80.55% examples, 311583 words/s, in_qsize 15, out_qsize 0\n",
            "2021-05-21 15:09:59,386 : INFO : EPOCH 8 - PROGRESS: at 86.19% examples, 312832 words/s, in_qsize 15, out_qsize 0\n",
            "2021-05-21 15:10:00,458 : INFO : EPOCH 8 - PROGRESS: at 91.83% examples, 312857 words/s, in_qsize 15, out_qsize 0\n",
            "2021-05-21 15:10:01,493 : INFO : EPOCH 8 - PROGRESS: at 97.47% examples, 313553 words/s, in_qsize 15, out_qsize 0\n",
            "2021-05-21 15:10:01,732 : INFO : worker thread finished; awaiting finish of 7 more threads\n",
            "2021-05-21 15:10:01,764 : INFO : worker thread finished; awaiting finish of 6 more threads\n",
            "2021-05-21 15:10:01,863 : INFO : worker thread finished; awaiting finish of 5 more threads\n",
            "2021-05-21 15:10:01,867 : INFO : worker thread finished; awaiting finish of 4 more threads\n",
            "2021-05-21 15:10:01,873 : INFO : worker thread finished; awaiting finish of 3 more threads\n",
            "2021-05-21 15:10:01,890 : INFO : worker thread finished; awaiting finish of 2 more threads\n",
            "2021-05-21 15:10:01,893 : INFO : worker thread finished; awaiting finish of 1 more threads\n",
            "2021-05-21 15:10:01,897 : INFO : worker thread finished; awaiting finish of 0 more threads\n",
            "2021-05-21 15:10:01,898 : INFO : EPOCH - 8 : training on 6748672 raw words (5977723 effective words) took 19.0s, 314857 effective words/s\n",
            "2021-05-21 15:10:02,962 : INFO : EPOCH 9 - PROGRESS: at 4.59% examples, 267486 words/s, in_qsize 15, out_qsize 1\n",
            "2021-05-21 15:10:03,979 : INFO : EPOCH 9 - PROGRESS: at 10.08% examples, 292530 words/s, in_qsize 15, out_qsize 0\n",
            "2021-05-21 15:10:05,001 : INFO : EPOCH 9 - PROGRESS: at 15.39% examples, 299045 words/s, in_qsize 16, out_qsize 2\n",
            "2021-05-21 15:10:06,128 : INFO : EPOCH 9 - PROGRESS: at 21.48% examples, 305242 words/s, in_qsize 16, out_qsize 0\n",
            "2021-05-21 15:10:07,143 : INFO : EPOCH 9 - PROGRESS: at 26.96% examples, 308636 words/s, in_qsize 16, out_qsize 0\n",
            "2021-05-21 15:10:08,198 : INFO : EPOCH 9 - PROGRESS: at 32.44% examples, 308935 words/s, in_qsize 16, out_qsize 2\n",
            "2021-05-21 15:10:09,222 : INFO : EPOCH 9 - PROGRESS: at 38.05% examples, 311657 words/s, in_qsize 15, out_qsize 0\n",
            "2021-05-21 15:10:10,271 : INFO : EPOCH 9 - PROGRESS: at 43.38% examples, 310709 words/s, in_qsize 15, out_qsize 0\n",
            "2021-05-21 15:10:11,331 : INFO : EPOCH 9 - PROGRESS: at 49.17% examples, 312436 words/s, in_qsize 15, out_qsize 0\n",
            "2021-05-21 15:10:12,340 : INFO : EPOCH 9 - PROGRESS: at 54.95% examples, 315341 words/s, in_qsize 15, out_qsize 0\n",
            "2021-05-21 15:10:13,355 : INFO : EPOCH 9 - PROGRESS: at 60.13% examples, 314435 words/s, in_qsize 15, out_qsize 0\n",
            "2021-05-21 15:10:14,369 : INFO : EPOCH 9 - PROGRESS: at 65.16% examples, 313005 words/s, in_qsize 15, out_qsize 0\n",
            "2021-05-21 15:10:15,407 : INFO : EPOCH 9 - PROGRESS: at 70.79% examples, 313860 words/s, in_qsize 15, out_qsize 0\n",
            "2021-05-21 15:10:16,477 : INFO : EPOCH 9 - PROGRESS: at 76.71% examples, 315119 words/s, in_qsize 15, out_qsize 0\n",
            "2021-05-21 15:10:17,484 : INFO : EPOCH 9 - PROGRESS: at 82.03% examples, 315204 words/s, in_qsize 15, out_qsize 0\n",
            "2021-05-21 15:10:18,488 : INFO : EPOCH 9 - PROGRESS: at 87.52% examples, 315869 words/s, in_qsize 15, out_qsize 0\n",
            "2021-05-21 15:10:19,497 : INFO : EPOCH 9 - PROGRESS: at 92.87% examples, 315862 words/s, in_qsize 16, out_qsize 0\n",
            "2021-05-21 15:10:20,516 : INFO : EPOCH 9 - PROGRESS: at 98.06% examples, 315229 words/s, in_qsize 14, out_qsize 0\n",
            "2021-05-21 15:10:20,679 : INFO : worker thread finished; awaiting finish of 7 more threads\n",
            "2021-05-21 15:10:20,682 : INFO : worker thread finished; awaiting finish of 6 more threads\n",
            "2021-05-21 15:10:20,703 : INFO : worker thread finished; awaiting finish of 5 more threads\n",
            "2021-05-21 15:10:20,740 : INFO : worker thread finished; awaiting finish of 4 more threads\n",
            "2021-05-21 15:10:20,742 : INFO : worker thread finished; awaiting finish of 3 more threads\n",
            "2021-05-21 15:10:20,744 : INFO : worker thread finished; awaiting finish of 2 more threads\n",
            "2021-05-21 15:10:20,752 : INFO : worker thread finished; awaiting finish of 1 more threads\n",
            "2021-05-21 15:10:20,770 : INFO : worker thread finished; awaiting finish of 0 more threads\n",
            "2021-05-21 15:10:20,771 : INFO : EPOCH - 9 : training on 6748672 raw words (5978048 effective words) took 18.8s, 317147 effective words/s\n",
            "2021-05-21 15:10:21,795 : INFO : EPOCH 10 - PROGRESS: at 4.89% examples, 289577 words/s, in_qsize 15, out_qsize 0\n",
            "2021-05-21 15:10:22,830 : INFO : EPOCH 10 - PROGRESS: at 10.08% examples, 294598 words/s, in_qsize 16, out_qsize 0\n",
            "2021-05-21 15:10:23,877 : INFO : EPOCH 10 - PROGRESS: at 15.40% examples, 297921 words/s, in_qsize 15, out_qsize 0\n",
            "2021-05-21 15:10:24,938 : INFO : EPOCH 10 - PROGRESS: at 21.03% examples, 304795 words/s, in_qsize 15, out_qsize 1\n",
            "2021-05-21 15:10:25,946 : INFO : EPOCH 10 - PROGRESS: at 26.51% examples, 308656 words/s, in_qsize 15, out_qsize 0\n",
            "2021-05-21 15:10:26,932 : INFO : EPOCH 10 - PROGRESS: at 32.14% examples, 312667 words/s, in_qsize 16, out_qsize 0\n",
            "2021-05-21 15:10:27,977 : INFO : EPOCH 10 - PROGRESS: at 37.46% examples, 311568 words/s, in_qsize 15, out_qsize 0\n",
            "2021-05-21 15:10:29,083 : INFO : EPOCH 10 - PROGRESS: at 43.07% examples, 310518 words/s, in_qsize 16, out_qsize 1\n",
            "2021-05-21 15:10:30,106 : INFO : EPOCH 10 - PROGRESS: at 48.73% examples, 312590 words/s, in_qsize 15, out_qsize 0\n",
            "2021-05-21 15:10:31,133 : INFO : EPOCH 10 - PROGRESS: at 54.36% examples, 314105 words/s, in_qsize 15, out_qsize 1\n",
            "2021-05-21 15:10:32,202 : INFO : EPOCH 10 - PROGRESS: at 59.69% examples, 312633 words/s, in_qsize 16, out_qsize 0\n",
            "2021-05-21 15:10:33,296 : INFO : EPOCH 10 - PROGRESS: at 65.60% examples, 313609 words/s, in_qsize 13, out_qsize 2\n",
            "2021-05-21 15:10:34,343 : INFO : EPOCH 10 - PROGRESS: at 71.23% examples, 314191 words/s, in_qsize 14, out_qsize 1\n",
            "2021-05-21 15:10:35,375 : INFO : EPOCH 10 - PROGRESS: at 77.01% examples, 315611 words/s, in_qsize 14, out_qsize 1\n",
            "2021-05-21 15:10:36,442 : INFO : EPOCH 10 - PROGRESS: at 82.62% examples, 315579 words/s, in_qsize 15, out_qsize 0\n",
            "2021-05-21 15:10:37,528 : INFO : EPOCH 10 - PROGRESS: at 88.26% examples, 315197 words/s, in_qsize 15, out_qsize 0\n",
            "2021-05-21 15:10:38,529 : INFO : EPOCH 10 - PROGRESS: at 93.76% examples, 315861 words/s, in_qsize 13, out_qsize 2\n",
            "2021-05-21 15:10:39,496 : INFO : worker thread finished; awaiting finish of 7 more threads\n",
            "2021-05-21 15:10:39,512 : INFO : worker thread finished; awaiting finish of 6 more threads\n",
            "2021-05-21 15:10:39,515 : INFO : worker thread finished; awaiting finish of 5 more threads\n",
            "2021-05-21 15:10:39,521 : INFO : worker thread finished; awaiting finish of 4 more threads\n",
            "2021-05-21 15:10:39,530 : INFO : EPOCH 10 - PROGRESS: at 99.55% examples, 317498 words/s, in_qsize 3, out_qsize 1\n",
            "2021-05-21 15:10:39,534 : INFO : worker thread finished; awaiting finish of 3 more threads\n",
            "2021-05-21 15:10:39,542 : INFO : worker thread finished; awaiting finish of 2 more threads\n",
            "2021-05-21 15:10:39,574 : INFO : worker thread finished; awaiting finish of 1 more threads\n",
            "2021-05-21 15:10:39,593 : INFO : worker thread finished; awaiting finish of 0 more threads\n",
            "2021-05-21 15:10:39,594 : INFO : EPOCH - 10 : training on 6748672 raw words (5978016 effective words) took 18.8s, 317824 effective words/s\n",
            "2021-05-21 15:10:40,679 : INFO : EPOCH 11 - PROGRESS: at 4.74% examples, 265203 words/s, in_qsize 15, out_qsize 0\n",
            "2021-05-21 15:10:41,793 : INFO : EPOCH 11 - PROGRESS: at 10.52% examples, 287991 words/s, in_qsize 13, out_qsize 2\n",
            "2021-05-21 15:10:42,804 : INFO : EPOCH 11 - PROGRESS: at 16.29% examples, 305081 words/s, in_qsize 15, out_qsize 0\n",
            "2021-05-21 15:10:43,875 : INFO : EPOCH 11 - PROGRESS: at 21.92% examples, 307336 words/s, in_qsize 14, out_qsize 1\n",
            "2021-05-21 15:10:44,912 : INFO : EPOCH 11 - PROGRESS: at 27.25% examples, 307345 words/s, in_qsize 11, out_qsize 4\n",
            "2021-05-21 15:10:45,918 : INFO : EPOCH 11 - PROGRESS: at 32.88% examples, 311669 words/s, in_qsize 14, out_qsize 1\n",
            "2021-05-21 15:10:46,939 : INFO : EPOCH 11 - PROGRESS: at 38.49% examples, 314150 words/s, in_qsize 16, out_qsize 0\n",
            "2021-05-21 15:10:48,038 : INFO : EPOCH 11 - PROGRESS: at 44.41% examples, 315189 words/s, in_qsize 15, out_qsize 0\n",
            "2021-05-21 15:10:49,041 : INFO : EPOCH 11 - PROGRESS: at 50.07% examples, 317382 words/s, in_qsize 15, out_qsize 0\n",
            "2021-05-21 15:10:50,125 : INFO : EPOCH 11 - PROGRESS: at 55.69% examples, 316685 words/s, in_qsize 15, out_qsize 0\n",
            "2021-05-21 15:10:51,134 : INFO : EPOCH 11 - PROGRESS: at 60.87% examples, 315877 words/s, in_qsize 15, out_qsize 0\n",
            "2021-05-21 15:10:52,184 : INFO : EPOCH 11 - PROGRESS: at 66.35% examples, 315544 words/s, in_qsize 15, out_qsize 0\n",
            "2021-05-21 15:10:53,223 : INFO : EPOCH 11 - PROGRESS: at 71.98% examples, 316182 words/s, in_qsize 15, out_qsize 0\n",
            "2021-05-21 15:10:54,245 : INFO : EPOCH 11 - PROGRESS: at 77.60% examples, 317071 words/s, in_qsize 14, out_qsize 1\n",
            "2021-05-21 15:10:55,318 : INFO : EPOCH 11 - PROGRESS: at 83.22% examples, 316814 words/s, in_qsize 15, out_qsize 0\n",
            "2021-05-21 15:10:56,320 : INFO : EPOCH 11 - PROGRESS: at 88.56% examples, 316883 words/s, in_qsize 14, out_qsize 1\n",
            "2021-05-21 15:10:57,353 : INFO : EPOCH 11 - PROGRESS: at 93.76% examples, 315882 words/s, in_qsize 13, out_qsize 2\n",
            "2021-05-21 15:10:58,268 : INFO : worker thread finished; awaiting finish of 7 more threads\n",
            "2021-05-21 15:10:58,281 : INFO : worker thread finished; awaiting finish of 6 more threads\n",
            "2021-05-21 15:10:58,289 : INFO : worker thread finished; awaiting finish of 5 more threads\n",
            "2021-05-21 15:10:58,294 : INFO : worker thread finished; awaiting finish of 4 more threads\n",
            "2021-05-21 15:10:58,306 : INFO : worker thread finished; awaiting finish of 3 more threads\n",
            "2021-05-21 15:10:58,346 : INFO : worker thread finished; awaiting finish of 2 more threads\n",
            "2021-05-21 15:10:58,368 : INFO : EPOCH 11 - PROGRESS: at 99.85% examples, 318214 words/s, in_qsize 1, out_qsize 1\n",
            "2021-05-21 15:10:58,371 : INFO : worker thread finished; awaiting finish of 1 more threads\n",
            "2021-05-21 15:10:58,378 : INFO : worker thread finished; awaiting finish of 0 more threads\n",
            "2021-05-21 15:10:58,381 : INFO : EPOCH - 11 : training on 6748672 raw words (5978107 effective words) took 18.8s, 318467 effective words/s\n",
            "2021-05-21 15:10:59,397 : INFO : EPOCH 12 - PROGRESS: at 4.44% examples, 265156 words/s, in_qsize 15, out_qsize 0\n",
            "2021-05-21 15:11:00,542 : INFO : EPOCH 12 - PROGRESS: at 10.22% examples, 284392 words/s, in_qsize 11, out_qsize 4\n",
            "2021-05-21 15:11:01,608 : INFO : EPOCH 12 - PROGRESS: at 15.84% examples, 295189 words/s, in_qsize 16, out_qsize 3\n",
            "2021-05-21 15:11:02,626 : INFO : EPOCH 12 - PROGRESS: at 21.33% examples, 301295 words/s, in_qsize 14, out_qsize 1\n",
            "2021-05-21 15:11:03,629 : INFO : EPOCH 12 - PROGRESS: at 26.51% examples, 302788 words/s, in_qsize 15, out_qsize 0\n",
            "2021-05-21 15:11:04,640 : INFO : EPOCH 12 - PROGRESS: at 32.29% examples, 309072 words/s, in_qsize 15, out_qsize 0\n",
            "2021-05-21 15:11:05,674 : INFO : EPOCH 12 - PROGRESS: at 37.75% examples, 310195 words/s, in_qsize 15, out_qsize 0\n",
            "2021-05-21 15:11:06,706 : INFO : EPOCH 12 - PROGRESS: at 43.07% examples, 310011 words/s, in_qsize 15, out_qsize 0\n",
            "2021-05-21 15:11:07,749 : INFO : EPOCH 12 - PROGRESS: at 48.73% examples, 311447 words/s, in_qsize 15, out_qsize 0\n",
            "2021-05-21 15:11:08,812 : INFO : EPOCH 12 - PROGRESS: at 54.35% examples, 311983 words/s, in_qsize 15, out_qsize 0\n",
            "2021-05-21 15:11:09,866 : INFO : EPOCH 12 - PROGRESS: at 59.83% examples, 311888 words/s, in_qsize 15, out_qsize 0\n",
            "2021-05-21 15:11:10,916 : INFO : EPOCH 12 - PROGRESS: at 65.90% examples, 314735 words/s, in_qsize 15, out_qsize 0\n",
            "2021-05-21 15:11:11,945 : INFO : EPOCH 12 - PROGRESS: at 70.94% examples, 313051 words/s, in_qsize 13, out_qsize 2\n",
            "2021-05-21 15:11:12,948 : INFO : EPOCH 12 - PROGRESS: at 76.71% examples, 315203 words/s, in_qsize 15, out_qsize 0\n",
            "2021-05-21 15:11:14,008 : INFO : EPOCH 12 - PROGRESS: at 81.88% examples, 313678 words/s, in_qsize 16, out_qsize 0\n",
            "2021-05-21 15:11:15,010 : INFO : EPOCH 12 - PROGRESS: at 87.37% examples, 314484 words/s, in_qsize 15, out_qsize 0\n",
            "2021-05-21 15:11:16,024 : INFO : EPOCH 12 - PROGRESS: at 92.57% examples, 313923 words/s, in_qsize 15, out_qsize 0\n",
            "2021-05-21 15:11:17,081 : INFO : EPOCH 12 - PROGRESS: at 98.35% examples, 314649 words/s, in_qsize 12, out_qsize 0\n",
            "2021-05-21 15:11:17,152 : INFO : worker thread finished; awaiting finish of 7 more threads\n",
            "2021-05-21 15:11:17,167 : INFO : worker thread finished; awaiting finish of 6 more threads\n",
            "2021-05-21 15:11:17,173 : INFO : worker thread finished; awaiting finish of 5 more threads\n",
            "2021-05-21 15:11:17,188 : INFO : worker thread finished; awaiting finish of 4 more threads\n",
            "2021-05-21 15:11:17,250 : INFO : worker thread finished; awaiting finish of 3 more threads\n",
            "2021-05-21 15:11:17,264 : INFO : worker thread finished; awaiting finish of 2 more threads\n",
            "2021-05-21 15:11:17,279 : INFO : worker thread finished; awaiting finish of 1 more threads\n",
            "2021-05-21 15:11:17,281 : INFO : worker thread finished; awaiting finish of 0 more threads\n",
            "2021-05-21 15:11:17,285 : INFO : EPOCH - 12 : training on 6748672 raw words (5978231 effective words) took 18.9s, 316478 effective words/s\n",
            "2021-05-21 15:11:18,383 : INFO : EPOCH 13 - PROGRESS: at 5.04% examples, 279072 words/s, in_qsize 15, out_qsize 0\n",
            "2021-05-21 15:11:19,386 : INFO : EPOCH 13 - PROGRESS: at 10.38% examples, 297621 words/s, in_qsize 15, out_qsize 0\n",
            "2021-05-21 15:11:20,427 : INFO : EPOCH 13 - PROGRESS: at 15.84% examples, 303380 words/s, in_qsize 15, out_qsize 0\n",
            "2021-05-21 15:11:21,462 : INFO : EPOCH 13 - PROGRESS: at 21.33% examples, 306727 words/s, in_qsize 15, out_qsize 0\n",
            "2021-05-21 15:11:22,465 : INFO : EPOCH 13 - PROGRESS: at 26.96% examples, 312297 words/s, in_qsize 16, out_qsize 0\n",
            "2021-05-21 15:11:23,564 : INFO : EPOCH 13 - PROGRESS: at 32.59% examples, 311142 words/s, in_qsize 15, out_qsize 0\n",
            "2021-05-21 15:11:24,604 : INFO : EPOCH 13 - PROGRESS: at 38.20% examples, 312935 words/s, in_qsize 15, out_qsize 0\n",
            "2021-05-21 15:11:25,646 : INFO : EPOCH 13 - PROGRESS: at 43.67% examples, 313092 words/s, in_qsize 15, out_qsize 0\n",
            "2021-05-21 15:11:26,671 : INFO : EPOCH 13 - PROGRESS: at 49.17% examples, 313851 words/s, in_qsize 15, out_qsize 0\n",
            "2021-05-21 15:11:27,688 : INFO : EPOCH 13 - PROGRESS: at 54.51% examples, 313796 words/s, in_qsize 15, out_qsize 0\n",
            "2021-05-21 15:11:28,754 : INFO : EPOCH 13 - PROGRESS: at 59.98% examples, 313890 words/s, in_qsize 15, out_qsize 2\n",
            "2021-05-21 15:11:29,736 : INFO : EPOCH 13 - PROGRESS: at 65.45% examples, 314839 words/s, in_qsize 14, out_qsize 0\n",
            "2021-05-21 15:11:30,762 : INFO : EPOCH 13 - PROGRESS: at 71.08% examples, 315827 words/s, in_qsize 15, out_qsize 0\n",
            "2021-05-21 15:11:31,770 : INFO : EPOCH 13 - PROGRESS: at 76.27% examples, 315223 words/s, in_qsize 15, out_qsize 0\n",
            "2021-05-21 15:11:32,793 : INFO : EPOCH 13 - PROGRESS: at 81.74% examples, 315570 words/s, in_qsize 15, out_qsize 0\n",
            "2021-05-21 15:11:33,814 : INFO : EPOCH 13 - PROGRESS: at 87.08% examples, 315487 words/s, in_qsize 14, out_qsize 5\n",
            "2021-05-21 15:11:34,824 : INFO : EPOCH 13 - PROGRESS: at 92.57% examples, 315838 words/s, in_qsize 16, out_qsize 1\n",
            "2021-05-21 15:11:35,924 : INFO : EPOCH 13 - PROGRESS: at 98.35% examples, 315721 words/s, in_qsize 8, out_qsize 4\n",
            "2021-05-21 15:11:35,931 : INFO : worker thread finished; awaiting finish of 7 more threads\n",
            "2021-05-21 15:11:35,946 : INFO : worker thread finished; awaiting finish of 6 more threads\n",
            "2021-05-21 15:11:35,957 : INFO : worker thread finished; awaiting finish of 5 more threads\n",
            "2021-05-21 15:11:35,966 : INFO : worker thread finished; awaiting finish of 4 more threads\n",
            "2021-05-21 15:11:36,018 : INFO : worker thread finished; awaiting finish of 3 more threads\n",
            "2021-05-21 15:11:36,035 : INFO : worker thread finished; awaiting finish of 2 more threads\n",
            "2021-05-21 15:11:36,052 : INFO : worker thread finished; awaiting finish of 1 more threads\n",
            "2021-05-21 15:11:36,056 : INFO : worker thread finished; awaiting finish of 0 more threads\n",
            "2021-05-21 15:11:36,060 : INFO : EPOCH - 13 : training on 6748672 raw words (5977047 effective words) took 18.8s, 318685 effective words/s\n",
            "2021-05-21 15:11:37,097 : INFO : EPOCH 14 - PROGRESS: at 4.59% examples, 270220 words/s, in_qsize 15, out_qsize 0\n",
            "2021-05-21 15:11:38,151 : INFO : EPOCH 14 - PROGRESS: at 10.22% examples, 295060 words/s, in_qsize 15, out_qsize 0\n",
            "2021-05-21 15:11:39,161 : INFO : EPOCH 14 - PROGRESS: at 15.54% examples, 301835 words/s, in_qsize 16, out_qsize 0\n",
            "2021-05-21 15:11:40,271 : INFO : EPOCH 14 - PROGRESS: at 21.18% examples, 302223 words/s, in_qsize 13, out_qsize 2\n",
            "2021-05-21 15:11:41,385 : INFO : EPOCH 14 - PROGRESS: at 27.40% examples, 308899 words/s, in_qsize 15, out_qsize 0\n",
            "2021-05-21 15:11:42,403 : INFO : EPOCH 14 - PROGRESS: at 33.02% examples, 312379 words/s, in_qsize 15, out_qsize 0\n",
            "2021-05-21 15:11:43,467 : INFO : EPOCH 14 - PROGRESS: at 38.64% examples, 312957 words/s, in_qsize 15, out_qsize 0\n",
            "2021-05-21 15:11:44,488 : INFO : EPOCH 14 - PROGRESS: at 44.12% examples, 314344 words/s, in_qsize 14, out_qsize 2\n",
            "2021-05-21 15:11:45,497 : INFO : EPOCH 14 - PROGRESS: at 49.47% examples, 314117 words/s, in_qsize 15, out_qsize 0\n",
            "2021-05-21 15:11:46,533 : INFO : EPOCH 14 - PROGRESS: at 55.24% examples, 316045 words/s, in_qsize 15, out_qsize 0\n",
            "2021-05-21 15:11:47,533 : INFO : EPOCH 14 - PROGRESS: at 60.28% examples, 314738 words/s, in_qsize 15, out_qsize 1\n",
            "2021-05-21 15:11:48,565 : INFO : EPOCH 14 - PROGRESS: at 66.20% examples, 317097 words/s, in_qsize 15, out_qsize 0\n",
            "2021-05-21 15:11:49,581 : INFO : EPOCH 14 - PROGRESS: at 71.53% examples, 316824 words/s, in_qsize 15, out_qsize 0\n",
            "2021-05-21 15:11:50,648 : INFO : EPOCH 14 - PROGRESS: at 76.87% examples, 315475 words/s, in_qsize 11, out_qsize 5\n",
            "2021-05-21 15:11:51,676 : INFO : EPOCH 14 - PROGRESS: at 82.48% examples, 316634 words/s, in_qsize 15, out_qsize 1\n",
            "2021-05-21 15:11:52,702 : INFO : EPOCH 14 - PROGRESS: at 87.82% examples, 315915 words/s, in_qsize 14, out_qsize 1\n",
            "2021-05-21 15:11:53,826 : INFO : EPOCH 14 - PROGRESS: at 93.77% examples, 315840 words/s, in_qsize 15, out_qsize 0\n",
            "2021-05-21 15:11:54,695 : INFO : worker thread finished; awaiting finish of 7 more threads\n",
            "2021-05-21 15:11:54,733 : INFO : worker thread finished; awaiting finish of 6 more threads\n",
            "2021-05-21 15:11:54,752 : INFO : worker thread finished; awaiting finish of 5 more threads\n",
            "2021-05-21 15:11:54,779 : INFO : worker thread finished; awaiting finish of 4 more threads\n",
            "2021-05-21 15:11:54,809 : INFO : worker thread finished; awaiting finish of 3 more threads\n",
            "2021-05-21 15:11:54,834 : INFO : EPOCH 14 - PROGRESS: at 99.70% examples, 317824 words/s, in_qsize 2, out_qsize 1\n",
            "2021-05-21 15:11:54,837 : INFO : worker thread finished; awaiting finish of 2 more threads\n",
            "2021-05-21 15:11:54,852 : INFO : worker thread finished; awaiting finish of 1 more threads\n",
            "2021-05-21 15:11:54,859 : INFO : worker thread finished; awaiting finish of 0 more threads\n",
            "2021-05-21 15:11:54,861 : INFO : EPOCH - 14 : training on 6748672 raw words (5977724 effective words) took 18.8s, 318308 effective words/s\n",
            "2021-05-21 15:11:55,886 : INFO : EPOCH 15 - PROGRESS: at 4.59% examples, 272548 words/s, in_qsize 16, out_qsize 0\n",
            "2021-05-21 15:11:56,898 : INFO : EPOCH 15 - PROGRESS: at 10.08% examples, 297982 words/s, in_qsize 16, out_qsize 0\n",
            "2021-05-21 15:11:57,950 : INFO : EPOCH 15 - PROGRESS: at 15.40% examples, 299774 words/s, in_qsize 15, out_qsize 0\n",
            "2021-05-21 15:11:59,026 : INFO : EPOCH 15 - PROGRESS: at 20.89% examples, 300999 words/s, in_qsize 15, out_qsize 0\n",
            "2021-05-21 15:12:00,064 : INFO : EPOCH 15 - PROGRESS: at 26.51% examples, 305633 words/s, in_qsize 16, out_qsize 0\n",
            "2021-05-21 15:12:01,078 : INFO : EPOCH 15 - PROGRESS: at 31.99% examples, 308484 words/s, in_qsize 14, out_qsize 1\n",
            "2021-05-21 15:12:02,113 : INFO : EPOCH 15 - PROGRESS: at 37.61% examples, 310860 words/s, in_qsize 15, out_qsize 0\n",
            "2021-05-21 15:12:03,156 : INFO : EPOCH 15 - PROGRESS: at 43.08% examples, 311290 words/s, in_qsize 15, out_qsize 0\n",
            "2021-05-21 15:12:04,222 : INFO : EPOCH 15 - PROGRESS: at 48.58% examples, 310849 words/s, in_qsize 15, out_qsize 0\n",
            "2021-05-21 15:12:05,243 : INFO : EPOCH 15 - PROGRESS: at 54.36% examples, 313518 words/s, in_qsize 15, out_qsize 0\n",
            "2021-05-21 15:12:06,269 : INFO : EPOCH 15 - PROGRESS: at 59.39% examples, 312291 words/s, in_qsize 16, out_qsize 5\n",
            "2021-05-21 15:12:07,253 : INFO : EPOCH 15 - PROGRESS: at 65.45% examples, 316256 words/s, in_qsize 14, out_qsize 1\n",
            "2021-05-21 15:12:08,343 : INFO : EPOCH 15 - PROGRESS: at 70.79% examples, 314343 words/s, in_qsize 14, out_qsize 1\n",
            "2021-05-21 15:12:09,351 : INFO : EPOCH 15 - PROGRESS: at 76.42% examples, 315677 words/s, in_qsize 15, out_qsize 0\n",
            "2021-05-21 15:12:10,394 : INFO : EPOCH 15 - PROGRESS: at 82.33% examples, 317281 words/s, in_qsize 15, out_qsize 0\n",
            "2021-05-21 15:12:11,442 : INFO : EPOCH 15 - PROGRESS: at 87.23% examples, 314833 words/s, in_qsize 12, out_qsize 6\n",
            "2021-05-21 15:12:12,460 : INFO : EPOCH 15 - PROGRESS: at 92.87% examples, 315710 words/s, in_qsize 15, out_qsize 0\n",
            "2021-05-21 15:12:13,482 : INFO : EPOCH 15 - PROGRESS: at 98.49% examples, 316449 words/s, in_qsize 8, out_qsize 3\n",
            "2021-05-21 15:12:13,495 : INFO : worker thread finished; awaiting finish of 7 more threads\n",
            "2021-05-21 15:12:13,512 : INFO : worker thread finished; awaiting finish of 6 more threads\n",
            "2021-05-21 15:12:13,522 : INFO : worker thread finished; awaiting finish of 5 more threads\n",
            "2021-05-21 15:12:13,538 : INFO : worker thread finished; awaiting finish of 4 more threads\n",
            "2021-05-21 15:12:13,582 : INFO : worker thread finished; awaiting finish of 3 more threads\n",
            "2021-05-21 15:12:13,586 : INFO : worker thread finished; awaiting finish of 2 more threads\n",
            "2021-05-21 15:12:13,605 : INFO : worker thread finished; awaiting finish of 1 more threads\n",
            "2021-05-21 15:12:13,621 : INFO : worker thread finished; awaiting finish of 0 more threads\n",
            "2021-05-21 15:12:13,622 : INFO : EPOCH - 15 : training on 6748672 raw words (5977081 effective words) took 18.7s, 318880 effective words/s\n",
            "2021-05-21 15:12:14,651 : INFO : EPOCH 16 - PROGRESS: at 4.59% examples, 271561 words/s, in_qsize 15, out_qsize 0\n",
            "2021-05-21 15:12:15,740 : INFO : EPOCH 16 - PROGRESS: at 10.37% examples, 294986 words/s, in_qsize 15, out_qsize 0\n",
            "2021-05-21 15:12:16,798 : INFO : EPOCH 16 - PROGRESS: at 15.84% examples, 299939 words/s, in_qsize 16, out_qsize 0\n",
            "2021-05-21 15:12:17,820 : INFO : EPOCH 16 - PROGRESS: at 21.48% examples, 307023 words/s, in_qsize 14, out_qsize 1\n",
            "2021-05-21 15:12:18,840 : INFO : EPOCH 16 - PROGRESS: at 26.96% examples, 309812 words/s, in_qsize 16, out_qsize 1\n",
            "2021-05-21 15:12:19,851 : INFO : EPOCH 16 - PROGRESS: at 32.29% examples, 310730 words/s, in_qsize 16, out_qsize 2\n",
            "2021-05-21 15:12:20,858 : INFO : EPOCH 16 - PROGRESS: at 38.20% examples, 316444 words/s, in_qsize 14, out_qsize 0\n",
            "2021-05-21 15:12:21,885 : INFO : EPOCH 16 - PROGRESS: at 43.38% examples, 314583 words/s, in_qsize 15, out_qsize 0\n",
            "2021-05-21 15:12:23,006 : INFO : EPOCH 16 - PROGRESS: at 49.18% examples, 313804 words/s, in_qsize 14, out_qsize 1\n",
            "2021-05-21 15:12:24,029 : INFO : EPOCH 16 - PROGRESS: at 54.65% examples, 314448 words/s, in_qsize 15, out_qsize 0\n",
            "2021-05-21 15:12:25,040 : INFO : EPOCH 16 - PROGRESS: at 60.13% examples, 315300 words/s, in_qsize 15, out_qsize 0\n",
            "2021-05-21 15:12:26,067 : INFO : EPOCH 16 - PROGRESS: at 66.20% examples, 318453 words/s, in_qsize 15, out_qsize 0\n",
            "2021-05-21 15:12:27,119 : INFO : EPOCH 16 - PROGRESS: at 70.93% examples, 314608 words/s, in_qsize 14, out_qsize 1\n",
            "2021-05-21 15:12:28,120 : INFO : EPOCH 16 - PROGRESS: at 76.71% examples, 316700 words/s, in_qsize 15, out_qsize 0\n",
            "2021-05-21 15:12:29,229 : INFO : EPOCH 16 - PROGRESS: at 82.33% examples, 315760 words/s, in_qsize 15, out_qsize 0\n",
            "2021-05-21 15:12:30,292 : INFO : EPOCH 16 - PROGRESS: at 88.26% examples, 317325 words/s, in_qsize 16, out_qsize 0\n",
            "2021-05-21 15:12:31,278 : INFO : EPOCH 16 - PROGRESS: at 93.77% examples, 317697 words/s, in_qsize 15, out_qsize 0\n",
            "2021-05-21 15:12:32,205 : INFO : worker thread finished; awaiting finish of 7 more threads\n",
            "2021-05-21 15:12:32,236 : INFO : worker thread finished; awaiting finish of 6 more threads\n",
            "2021-05-21 15:12:32,263 : INFO : worker thread finished; awaiting finish of 5 more threads\n",
            "2021-05-21 15:12:32,285 : INFO : EPOCH 16 - PROGRESS: at 99.40% examples, 318651 words/s, in_qsize 4, out_qsize 1\n",
            "2021-05-21 15:12:32,292 : INFO : worker thread finished; awaiting finish of 4 more threads\n",
            "2021-05-21 15:12:32,314 : INFO : worker thread finished; awaiting finish of 3 more threads\n",
            "2021-05-21 15:12:32,321 : INFO : worker thread finished; awaiting finish of 2 more threads\n",
            "2021-05-21 15:12:32,335 : INFO : worker thread finished; awaiting finish of 1 more threads\n",
            "2021-05-21 15:12:32,346 : INFO : worker thread finished; awaiting finish of 0 more threads\n",
            "2021-05-21 15:12:32,348 : INFO : EPOCH - 16 : training on 6748672 raw words (5976760 effective words) took 18.7s, 319467 effective words/s\n",
            "2021-05-21 15:12:33,408 : INFO : EPOCH 17 - PROGRESS: at 5.03% examples, 291875 words/s, in_qsize 15, out_qsize 0\n",
            "2021-05-21 15:12:34,432 : INFO : EPOCH 17 - PROGRESS: at 10.52% examples, 305709 words/s, in_qsize 15, out_qsize 1\n",
            "2021-05-21 15:12:35,448 : INFO : EPOCH 17 - PROGRESS: at 15.54% examples, 302579 words/s, in_qsize 16, out_qsize 1\n",
            "2021-05-21 15:12:36,518 : INFO : EPOCH 17 - PROGRESS: at 21.18% examples, 305964 words/s, in_qsize 12, out_qsize 5\n",
            "2021-05-21 15:12:37,562 : INFO : EPOCH 17 - PROGRESS: at 26.81% examples, 309075 words/s, in_qsize 13, out_qsize 4\n",
            "2021-05-21 15:12:38,565 : INFO : EPOCH 17 - PROGRESS: at 32.59% examples, 314720 words/s, in_qsize 15, out_qsize 2\n",
            "2021-05-21 15:12:39,597 : INFO : EPOCH 17 - PROGRESS: at 37.90% examples, 313890 words/s, in_qsize 15, out_qsize 0\n",
            "2021-05-21 15:12:40,600 : INFO : EPOCH 17 - PROGRESS: at 43.37% examples, 315386 words/s, in_qsize 15, out_qsize 0\n",
            "2021-05-21 15:12:41,678 : INFO : EPOCH 17 - PROGRESS: at 49.03% examples, 315708 words/s, in_qsize 15, out_qsize 1\n",
            "2021-05-21 15:12:42,673 : INFO : EPOCH 17 - PROGRESS: at 54.36% examples, 315578 words/s, in_qsize 15, out_qsize 0\n",
            "2021-05-21 15:12:43,727 : INFO : EPOCH 17 - PROGRESS: at 59.98% examples, 315950 words/s, in_qsize 13, out_qsize 2\n",
            "2021-05-21 15:12:44,727 : INFO : EPOCH 17 - PROGRESS: at 65.46% examples, 316898 words/s, in_qsize 15, out_qsize 0\n",
            "2021-05-21 15:12:45,746 : INFO : EPOCH 17 - PROGRESS: at 70.94% examples, 317466 words/s, in_qsize 15, out_qsize 0\n",
            "2021-05-21 15:12:46,782 : INFO : EPOCH 17 - PROGRESS: at 76.42% examples, 317130 words/s, in_qsize 14, out_qsize 3\n",
            "2021-05-21 15:12:47,861 : INFO : EPOCH 17 - PROGRESS: at 82.18% examples, 317336 words/s, in_qsize 13, out_qsize 2\n",
            "2021-05-21 15:12:48,905 : INFO : EPOCH 17 - PROGRESS: at 88.11% examples, 318733 words/s, in_qsize 15, out_qsize 0\n",
            "2021-05-21 15:12:49,934 : INFO : EPOCH 17 - PROGRESS: at 93.62% examples, 318683 words/s, in_qsize 15, out_qsize 0\n",
            "2021-05-21 15:12:50,889 : INFO : worker thread finished; awaiting finish of 7 more threads\n",
            "2021-05-21 15:12:50,911 : INFO : worker thread finished; awaiting finish of 6 more threads\n",
            "2021-05-21 15:12:50,958 : INFO : EPOCH 17 - PROGRESS: at 99.26% examples, 319313 words/s, in_qsize 5, out_qsize 1\n",
            "2021-05-21 15:12:50,965 : INFO : worker thread finished; awaiting finish of 5 more threads\n",
            "2021-05-21 15:12:51,000 : INFO : worker thread finished; awaiting finish of 4 more threads\n",
            "2021-05-21 15:12:51,004 : INFO : worker thread finished; awaiting finish of 3 more threads\n",
            "2021-05-21 15:12:51,007 : INFO : worker thread finished; awaiting finish of 2 more threads\n",
            "2021-05-21 15:12:51,009 : INFO : worker thread finished; awaiting finish of 1 more threads\n",
            "2021-05-21 15:12:51,012 : INFO : worker thread finished; awaiting finish of 0 more threads\n",
            "2021-05-21 15:12:51,014 : INFO : EPOCH - 17 : training on 6748672 raw words (5977602 effective words) took 18.6s, 320728 effective words/s\n",
            "2021-05-21 15:12:52,045 : INFO : EPOCH 18 - PROGRESS: at 4.45% examples, 262934 words/s, in_qsize 16, out_qsize 0\n",
            "2021-05-21 15:12:53,115 : INFO : EPOCH 18 - PROGRESS: at 10.23% examples, 293810 words/s, in_qsize 16, out_qsize 0\n",
            "2021-05-21 15:12:54,124 : INFO : EPOCH 18 - PROGRESS: at 15.40% examples, 298139 words/s, in_qsize 15, out_qsize 0\n",
            "2021-05-21 15:12:55,126 : INFO : EPOCH 18 - PROGRESS: at 20.58% examples, 300862 words/s, in_qsize 15, out_qsize 0\n",
            "2021-05-21 15:12:56,253 : INFO : EPOCH 18 - PROGRESS: at 26.36% examples, 302088 words/s, in_qsize 16, out_qsize 1\n",
            "2021-05-21 15:12:57,282 : INFO : EPOCH 18 - PROGRESS: at 31.99% examples, 306164 words/s, in_qsize 15, out_qsize 0\n",
            "2021-05-21 15:12:58,285 : INFO : EPOCH 18 - PROGRESS: at 37.46% examples, 309012 words/s, in_qsize 16, out_qsize 0\n",
            "2021-05-21 15:12:59,331 : INFO : EPOCH 18 - PROGRESS: at 43.08% examples, 310616 words/s, in_qsize 16, out_qsize 0\n",
            "2021-05-21 15:13:00,368 : INFO : EPOCH 18 - PROGRESS: at 48.59% examples, 311203 words/s, in_qsize 15, out_qsize 0\n",
            "2021-05-21 15:13:01,392 : INFO : EPOCH 18 - PROGRESS: at 54.20% examples, 312948 words/s, in_qsize 15, out_qsize 0\n",
            "2021-05-21 15:13:02,448 : INFO : EPOCH 18 - PROGRESS: at 59.54% examples, 311951 words/s, in_qsize 16, out_qsize 0\n",
            "2021-05-21 15:13:03,474 : INFO : EPOCH 18 - PROGRESS: at 65.16% examples, 313260 words/s, in_qsize 15, out_qsize 0\n",
            "2021-05-21 15:13:04,530 : INFO : EPOCH 18 - PROGRESS: at 70.79% examples, 313687 words/s, in_qsize 16, out_qsize 0\n",
            "2021-05-21 15:13:05,603 : INFO : EPOCH 18 - PROGRESS: at 76.42% examples, 313656 words/s, in_qsize 14, out_qsize 2\n",
            "2021-05-21 15:13:06,719 : INFO : EPOCH 18 - PROGRESS: at 82.48% examples, 314485 words/s, in_qsize 15, out_qsize 1\n",
            "2021-05-21 15:13:07,736 : INFO : EPOCH 18 - PROGRESS: at 88.41% examples, 316543 words/s, in_qsize 15, out_qsize 0\n",
            "2021-05-21 15:13:08,748 : INFO : EPOCH 18 - PROGRESS: at 93.61% examples, 315928 words/s, in_qsize 14, out_qsize 2\n",
            "2021-05-21 15:13:09,758 : INFO : EPOCH 18 - PROGRESS: at 99.08% examples, 316380 words/s, in_qsize 7, out_qsize 0\n",
            "2021-05-21 15:13:09,769 : INFO : worker thread finished; awaiting finish of 7 more threads\n",
            "2021-05-21 15:13:09,770 : INFO : worker thread finished; awaiting finish of 6 more threads\n",
            "2021-05-21 15:13:09,782 : INFO : worker thread finished; awaiting finish of 5 more threads\n",
            "2021-05-21 15:13:09,795 : INFO : worker thread finished; awaiting finish of 4 more threads\n",
            "2021-05-21 15:13:09,803 : INFO : worker thread finished; awaiting finish of 3 more threads\n",
            "2021-05-21 15:13:09,819 : INFO : worker thread finished; awaiting finish of 2 more threads\n",
            "2021-05-21 15:13:09,844 : INFO : worker thread finished; awaiting finish of 1 more threads\n",
            "2021-05-21 15:13:09,862 : INFO : worker thread finished; awaiting finish of 0 more threads\n",
            "2021-05-21 15:13:09,864 : INFO : EPOCH - 18 : training on 6748672 raw words (5978070 effective words) took 18.8s, 317495 effective words/s\n",
            "2021-05-21 15:13:10,892 : INFO : EPOCH 19 - PROGRESS: at 4.59% examples, 270574 words/s, in_qsize 15, out_qsize 0\n",
            "2021-05-21 15:13:11,929 : INFO : EPOCH 19 - PROGRESS: at 9.93% examples, 289016 words/s, in_qsize 12, out_qsize 3\n",
            "2021-05-21 15:13:12,941 : INFO : EPOCH 19 - PROGRESS: at 15.54% examples, 303427 words/s, in_qsize 15, out_qsize 0\n",
            "2021-05-21 15:13:13,945 : INFO : EPOCH 19 - PROGRESS: at 20.88% examples, 306973 words/s, in_qsize 16, out_qsize 0\n",
            "2021-05-21 15:13:15,014 : INFO : EPOCH 19 - PROGRESS: at 26.66% examples, 310401 words/s, in_qsize 15, out_qsize 0\n",
            "2021-05-21 15:13:16,056 : INFO : EPOCH 19 - PROGRESS: at 32.73% examples, 316775 words/s, in_qsize 15, out_qsize 0\n",
            "2021-05-21 15:13:17,072 : INFO : EPOCH 19 - PROGRESS: at 38.35% examples, 318783 words/s, in_qsize 15, out_qsize 0\n",
            "2021-05-21 15:13:18,077 : INFO : EPOCH 19 - PROGRESS: at 43.37% examples, 316402 words/s, in_qsize 16, out_qsize 0\n",
            "2021-05-21 15:13:19,093 : INFO : EPOCH 19 - PROGRESS: at 48.88% examples, 317064 words/s, in_qsize 15, out_qsize 0\n",
            "2021-05-21 15:13:20,121 : INFO : EPOCH 19 - PROGRESS: at 54.36% examples, 317242 words/s, in_qsize 16, out_qsize 0\n",
            "2021-05-21 15:13:21,124 : INFO : EPOCH 19 - PROGRESS: at 60.28% examples, 320454 words/s, in_qsize 15, out_qsize 0\n",
            "2021-05-21 15:13:22,127 : INFO : EPOCH 19 - PROGRESS: at 65.60% examples, 320247 words/s, in_qsize 14, out_qsize 1\n",
            "2021-05-21 15:13:23,145 : INFO : EPOCH 19 - PROGRESS: at 71.08% examples, 320350 words/s, in_qsize 15, out_qsize 0\n",
            "2021-05-21 15:13:24,168 : INFO : EPOCH 19 - PROGRESS: at 76.12% examples, 318461 words/s, in_qsize 15, out_qsize 0\n",
            "2021-05-21 15:13:25,186 : INFO : EPOCH 19 - PROGRESS: at 81.74% examples, 319267 words/s, in_qsize 15, out_qsize 0\n",
            "2021-05-21 15:13:26,223 : INFO : EPOCH 19 - PROGRESS: at 87.23% examples, 319027 words/s, in_qsize 15, out_qsize 1\n",
            "2021-05-21 15:13:27,314 : INFO : EPOCH 19 - PROGRESS: at 92.87% examples, 318342 words/s, in_qsize 14, out_qsize 1\n",
            "2021-05-21 15:13:28,348 : INFO : EPOCH 19 - PROGRESS: at 98.94% examples, 320180 words/s, in_qsize 7, out_qsize 2\n",
            "2021-05-21 15:13:28,358 : INFO : worker thread finished; awaiting finish of 7 more threads\n",
            "2021-05-21 15:13:28,381 : INFO : worker thread finished; awaiting finish of 6 more threads\n",
            "2021-05-21 15:13:28,392 : INFO : worker thread finished; awaiting finish of 5 more threads\n",
            "2021-05-21 15:13:28,426 : INFO : worker thread finished; awaiting finish of 4 more threads\n",
            "2021-05-21 15:13:28,459 : INFO : worker thread finished; awaiting finish of 3 more threads\n",
            "2021-05-21 15:13:28,471 : INFO : worker thread finished; awaiting finish of 2 more threads\n",
            "2021-05-21 15:13:28,477 : INFO : worker thread finished; awaiting finish of 1 more threads\n",
            "2021-05-21 15:13:28,490 : INFO : worker thread finished; awaiting finish of 0 more threads\n",
            "2021-05-21 15:13:28,492 : INFO : EPOCH - 19 : training on 6748672 raw words (5977645 effective words) took 18.6s, 321101 effective words/s\n",
            "2021-05-21 15:13:29,543 : INFO : EPOCH 20 - PROGRESS: at 4.44% examples, 262052 words/s, in_qsize 16, out_qsize 2\n",
            "2021-05-21 15:13:30,566 : INFO : EPOCH 20 - PROGRESS: at 10.22% examples, 296532 words/s, in_qsize 15, out_qsize 0\n",
            "2021-05-21 15:13:31,638 : INFO : EPOCH 20 - PROGRESS: at 15.98% examples, 305369 words/s, in_qsize 16, out_qsize 0\n",
            "2021-05-21 15:13:32,684 : INFO : EPOCH 20 - PROGRESS: at 21.77% examples, 311580 words/s, in_qsize 16, out_qsize 0\n",
            "2021-05-21 15:13:33,690 : INFO : EPOCH 20 - PROGRESS: at 27.25% examples, 314335 words/s, in_qsize 15, out_qsize 0\n",
            "2021-05-21 15:13:34,794 : INFO : EPOCH 20 - PROGRESS: at 32.44% examples, 308454 words/s, in_qsize 15, out_qsize 6\n",
            "2021-05-21 15:13:35,864 : INFO : EPOCH 20 - PROGRESS: at 38.94% examples, 316581 words/s, in_qsize 16, out_qsize 0\n",
            "2021-05-21 15:13:36,921 : INFO : EPOCH 20 - PROGRESS: at 44.71% examples, 317836 words/s, in_qsize 16, out_qsize 0\n",
            "2021-05-21 15:13:37,980 : INFO : EPOCH 20 - PROGRESS: at 49.77% examples, 314103 words/s, in_qsize 15, out_qsize 4\n",
            "2021-05-21 15:13:39,047 : INFO : EPOCH 20 - PROGRESS: at 55.99% examples, 317594 words/s, in_qsize 15, out_qsize 0\n",
            "2021-05-21 15:13:40,066 : INFO : EPOCH 20 - PROGRESS: at 61.17% examples, 316627 words/s, in_qsize 16, out_qsize 4\n",
            "2021-05-21 15:13:41,076 : INFO : EPOCH 20 - PROGRESS: at 66.94% examples, 318480 words/s, in_qsize 14, out_qsize 1\n",
            "2021-05-21 15:13:42,126 : INFO : EPOCH 20 - PROGRESS: at 72.42% examples, 318821 words/s, in_qsize 14, out_qsize 4\n",
            "2021-05-21 15:13:43,092 : INFO : EPOCH 20 - PROGRESS: at 77.75% examples, 318741 words/s, in_qsize 14, out_qsize 1\n",
            "2021-05-21 15:13:44,154 : INFO : EPOCH 20 - PROGRESS: at 83.52% examples, 319172 words/s, in_qsize 15, out_qsize 0\n",
            "2021-05-21 15:13:45,162 : INFO : EPOCH 20 - PROGRESS: at 88.85% examples, 318986 words/s, in_qsize 14, out_qsize 1\n",
            "2021-05-21 15:13:46,232 : INFO : EPOCH 20 - PROGRESS: at 94.37% examples, 318205 words/s, in_qsize 14, out_qsize 5\n",
            "2021-05-21 15:13:46,966 : INFO : worker thread finished; awaiting finish of 7 more threads\n",
            "2021-05-21 15:13:46,979 : INFO : worker thread finished; awaiting finish of 6 more threads\n",
            "2021-05-21 15:13:46,989 : INFO : worker thread finished; awaiting finish of 5 more threads\n",
            "2021-05-21 15:13:46,991 : INFO : worker thread finished; awaiting finish of 4 more threads\n",
            "2021-05-21 15:13:47,022 : INFO : worker thread finished; awaiting finish of 3 more threads\n",
            "2021-05-21 15:13:47,034 : INFO : worker thread finished; awaiting finish of 2 more threads\n",
            "2021-05-21 15:13:47,049 : INFO : worker thread finished; awaiting finish of 1 more threads\n",
            "2021-05-21 15:13:47,060 : INFO : worker thread finished; awaiting finish of 0 more threads\n",
            "2021-05-21 15:13:47,062 : INFO : EPOCH - 20 : training on 6748672 raw words (5978287 effective words) took 18.6s, 322181 effective words/s\n",
            "2021-05-21 15:13:48,172 : INFO : EPOCH 21 - PROGRESS: at 5.03% examples, 276538 words/s, in_qsize 14, out_qsize 1\n",
            "2021-05-21 15:13:49,185 : INFO : EPOCH 21 - PROGRESS: at 10.82% examples, 307593 words/s, in_qsize 15, out_qsize 1\n",
            "2021-05-21 15:13:50,218 : INFO : EPOCH 21 - PROGRESS: at 16.14% examples, 307891 words/s, in_qsize 14, out_qsize 1\n",
            "2021-05-21 15:13:51,306 : INFO : EPOCH 21 - PROGRESS: at 22.07% examples, 312439 words/s, in_qsize 16, out_qsize 0\n",
            "2021-05-21 15:13:52,410 : INFO : EPOCH 21 - PROGRESS: at 27.84% examples, 312586 words/s, in_qsize 16, out_qsize 0\n",
            "2021-05-21 15:13:53,464 : INFO : EPOCH 21 - PROGRESS: at 33.47% examples, 313713 words/s, in_qsize 14, out_qsize 1\n",
            "2021-05-21 15:13:54,477 : INFO : EPOCH 21 - PROGRESS: at 39.09% examples, 316229 words/s, in_qsize 15, out_qsize 0\n",
            "2021-05-21 15:13:55,518 : INFO : EPOCH 21 - PROGRESS: at 44.57% examples, 316653 words/s, in_qsize 14, out_qsize 1\n",
            "2021-05-21 15:13:56,503 : INFO : EPOCH 21 - PROGRESS: at 50.22% examples, 318746 words/s, in_qsize 13, out_qsize 2\n",
            "2021-05-21 15:13:57,509 : INFO : EPOCH 21 - PROGRESS: at 55.25% examples, 316877 words/s, in_qsize 16, out_qsize 0\n",
            "2021-05-21 15:13:58,512 : INFO : EPOCH 21 - PROGRESS: at 60.57% examples, 316952 words/s, in_qsize 13, out_qsize 2\n",
            "2021-05-21 15:13:59,560 : INFO : EPOCH 21 - PROGRESS: at 66.35% examples, 318022 words/s, in_qsize 15, out_qsize 0\n",
            "2021-05-21 15:14:00,680 : INFO : EPOCH 21 - PROGRESS: at 72.43% examples, 318949 words/s, in_qsize 15, out_qsize 0\n",
            "2021-05-21 15:14:01,696 : INFO : EPOCH 21 - PROGRESS: at 78.04% examples, 319366 words/s, in_qsize 15, out_qsize 0\n",
            "2021-05-21 15:14:02,698 : INFO : EPOCH 21 - PROGRESS: at 83.96% examples, 321542 words/s, in_qsize 11, out_qsize 0\n",
            "2021-05-21 15:14:03,700 : INFO : EPOCH 21 - PROGRESS: at 88.85% examples, 319736 words/s, in_qsize 14, out_qsize 1\n",
            "2021-05-21 15:14:04,713 : INFO : EPOCH 21 - PROGRESS: at 94.21% examples, 319418 words/s, in_qsize 15, out_qsize 0\n",
            "2021-05-21 15:14:05,571 : INFO : worker thread finished; awaiting finish of 7 more threads\n",
            "2021-05-21 15:14:05,588 : INFO : worker thread finished; awaiting finish of 6 more threads\n",
            "2021-05-21 15:14:05,612 : INFO : worker thread finished; awaiting finish of 5 more threads\n",
            "2021-05-21 15:14:05,615 : INFO : worker thread finished; awaiting finish of 4 more threads\n",
            "2021-05-21 15:14:05,621 : INFO : worker thread finished; awaiting finish of 3 more threads\n",
            "2021-05-21 15:14:05,652 : INFO : worker thread finished; awaiting finish of 2 more threads\n",
            "2021-05-21 15:14:05,660 : INFO : worker thread finished; awaiting finish of 1 more threads\n",
            "2021-05-21 15:14:05,668 : INFO : worker thread finished; awaiting finish of 0 more threads\n",
            "2021-05-21 15:14:05,672 : INFO : EPOCH - 21 : training on 6748672 raw words (5977884 effective words) took 18.6s, 321599 effective words/s\n",
            "2021-05-21 15:14:06,770 : INFO : EPOCH 22 - PROGRESS: at 5.03% examples, 278666 words/s, in_qsize 15, out_qsize 0\n",
            "2021-05-21 15:14:07,802 : INFO : EPOCH 22 - PROGRESS: at 10.52% examples, 297506 words/s, in_qsize 16, out_qsize 1\n",
            "2021-05-21 15:14:08,848 : INFO : EPOCH 22 - PROGRESS: at 16.44% examples, 311177 words/s, in_qsize 15, out_qsize 0\n",
            "2021-05-21 15:14:09,900 : INFO : EPOCH 22 - PROGRESS: at 21.92% examples, 311276 words/s, in_qsize 15, out_qsize 0\n",
            "2021-05-21 15:14:10,948 : INFO : EPOCH 22 - PROGRESS: at 27.55% examples, 313211 words/s, in_qsize 15, out_qsize 0\n",
            "2021-05-21 15:14:11,953 : INFO : EPOCH 22 - PROGRESS: at 32.88% examples, 313884 words/s, in_qsize 15, out_qsize 0\n",
            "2021-05-21 15:14:12,953 : INFO : EPOCH 22 - PROGRESS: at 37.90% examples, 312112 words/s, in_qsize 15, out_qsize 0\n",
            "2021-05-21 15:14:13,962 : INFO : EPOCH 22 - PROGRESS: at 43.22% examples, 312567 words/s, in_qsize 14, out_qsize 1\n",
            "2021-05-21 15:14:15,011 : INFO : EPOCH 22 - PROGRESS: at 49.03% examples, 314437 words/s, in_qsize 15, out_qsize 0\n",
            "2021-05-21 15:14:16,021 : INFO : EPOCH 22 - PROGRESS: at 54.80% examples, 317109 words/s, in_qsize 15, out_qsize 0\n",
            "2021-05-21 15:14:17,027 : INFO : EPOCH 22 - PROGRESS: at 60.28% examples, 317889 words/s, in_qsize 16, out_qsize 0\n",
            "2021-05-21 15:14:18,029 : INFO : EPOCH 22 - PROGRESS: at 65.76% examples, 318624 words/s, in_qsize 13, out_qsize 0\n",
            "2021-05-21 15:14:19,031 : INFO : EPOCH 22 - PROGRESS: at 70.50% examples, 315919 words/s, in_qsize 12, out_qsize 5\n",
            "2021-05-21 15:14:20,069 : INFO : EPOCH 22 - PROGRESS: at 76.13% examples, 316484 words/s, in_qsize 16, out_qsize 0\n",
            "2021-05-21 15:14:21,127 : INFO : EPOCH 22 - PROGRESS: at 81.73% examples, 316597 words/s, in_qsize 12, out_qsize 3\n",
            "2021-05-21 15:14:22,216 : INFO : EPOCH 22 - PROGRESS: at 87.67% examples, 317158 words/s, in_qsize 15, out_qsize 0\n",
            "2021-05-21 15:14:23,247 : INFO : EPOCH 22 - PROGRESS: at 93.31% examples, 317678 words/s, in_qsize 15, out_qsize 0\n",
            "2021-05-21 15:14:24,229 : INFO : worker thread finished; awaiting finish of 7 more threads\n",
            "2021-05-21 15:14:24,235 : INFO : worker thread finished; awaiting finish of 6 more threads\n",
            "2021-05-21 15:14:24,252 : INFO : EPOCH 22 - PROGRESS: at 99.26% examples, 319646 words/s, in_qsize 5, out_qsize 1\n",
            "2021-05-21 15:14:24,255 : INFO : worker thread finished; awaiting finish of 5 more threads\n",
            "2021-05-21 15:14:24,279 : INFO : worker thread finished; awaiting finish of 4 more threads\n",
            "2021-05-21 15:14:24,303 : INFO : worker thread finished; awaiting finish of 3 more threads\n",
            "2021-05-21 15:14:24,333 : INFO : worker thread finished; awaiting finish of 2 more threads\n",
            "2021-05-21 15:14:24,338 : INFO : worker thread finished; awaiting finish of 1 more threads\n",
            "2021-05-21 15:14:24,341 : INFO : worker thread finished; awaiting finish of 0 more threads\n",
            "2021-05-21 15:14:24,344 : INFO : EPOCH - 22 : training on 6748672 raw words (5977754 effective words) took 18.7s, 320442 effective words/s\n",
            "2021-05-21 15:14:25,377 : INFO : EPOCH 23 - PROGRESS: at 4.59% examples, 270826 words/s, in_qsize 16, out_qsize 0\n",
            "2021-05-21 15:14:26,430 : INFO : EPOCH 23 - PROGRESS: at 10.22% examples, 295503 words/s, in_qsize 15, out_qsize 0\n",
            "2021-05-21 15:14:27,491 : INFO : EPOCH 23 - PROGRESS: at 16.43% examples, 314228 words/s, in_qsize 16, out_qsize 0\n",
            "2021-05-21 15:14:28,529 : INFO : EPOCH 23 - PROGRESS: at 21.48% examples, 308227 words/s, in_qsize 16, out_qsize 0\n",
            "2021-05-21 15:14:29,604 : INFO : EPOCH 23 - PROGRESS: at 27.25% examples, 310902 words/s, in_qsize 15, out_qsize 0\n",
            "2021-05-21 15:14:30,625 : INFO : EPOCH 23 - PROGRESS: at 32.73% examples, 312494 words/s, in_qsize 14, out_qsize 1\n",
            "2021-05-21 15:14:31,634 : INFO : EPOCH 23 - PROGRESS: at 38.49% examples, 316626 words/s, in_qsize 15, out_qsize 0\n",
            "2021-05-21 15:14:32,720 : INFO : EPOCH 23 - PROGRESS: at 44.12% examples, 315711 words/s, in_qsize 15, out_qsize 0\n",
            "2021-05-21 15:14:33,725 : INFO : EPOCH 23 - PROGRESS: at 49.47% examples, 315898 words/s, in_qsize 15, out_qsize 0\n",
            "2021-05-21 15:14:34,748 : INFO : EPOCH 23 - PROGRESS: at 55.10% examples, 317213 words/s, in_qsize 16, out_qsize 1\n",
            "2021-05-21 15:14:35,786 : INFO : EPOCH 23 - PROGRESS: at 60.72% examples, 318453 words/s, in_qsize 15, out_qsize 0\n",
            "2021-05-21 15:14:36,810 : INFO : EPOCH 23 - PROGRESS: at 65.90% examples, 317031 words/s, in_qsize 15, out_qsize 1\n",
            "2021-05-21 15:14:37,801 : INFO : EPOCH 23 - PROGRESS: at 71.53% examples, 318278 words/s, in_qsize 15, out_qsize 0\n",
            "2021-05-21 15:14:38,828 : INFO : EPOCH 23 - PROGRESS: at 76.57% examples, 316487 words/s, in_qsize 14, out_qsize 2\n",
            "2021-05-21 15:14:39,846 : INFO : EPOCH 23 - PROGRESS: at 82.63% examples, 319120 words/s, in_qsize 14, out_qsize 1\n",
            "2021-05-21 15:14:40,875 : INFO : EPOCH 23 - PROGRESS: at 87.37% examples, 316384 words/s, in_qsize 12, out_qsize 6\n",
            "2021-05-21 15:14:41,910 : INFO : EPOCH 23 - PROGRESS: at 93.46% examples, 318398 words/s, in_qsize 15, out_qsize 0\n",
            "2021-05-21 15:14:42,874 : INFO : worker thread finished; awaiting finish of 7 more threads\n",
            "2021-05-21 15:14:42,885 : INFO : worker thread finished; awaiting finish of 6 more threads\n",
            "2021-05-21 15:14:42,908 : INFO : worker thread finished; awaiting finish of 5 more threads\n",
            "2021-05-21 15:14:42,936 : INFO : EPOCH 23 - PROGRESS: at 99.40% examples, 319949 words/s, in_qsize 4, out_qsize 0\n",
            "2021-05-21 15:14:42,948 : INFO : worker thread finished; awaiting finish of 4 more threads\n",
            "2021-05-21 15:14:42,963 : INFO : worker thread finished; awaiting finish of 3 more threads\n",
            "2021-05-21 15:14:42,975 : INFO : worker thread finished; awaiting finish of 2 more threads\n",
            "2021-05-21 15:14:42,990 : INFO : worker thread finished; awaiting finish of 1 more threads\n",
            "2021-05-21 15:14:43,006 : INFO : worker thread finished; awaiting finish of 0 more threads\n",
            "2021-05-21 15:14:43,009 : INFO : EPOCH - 23 : training on 6748672 raw words (5977912 effective words) took 18.6s, 320597 effective words/s\n",
            "2021-05-21 15:14:44,095 : INFO : EPOCH 24 - PROGRESS: at 5.03% examples, 281528 words/s, in_qsize 15, out_qsize 0\n",
            "2021-05-21 15:14:45,220 : INFO : EPOCH 24 - PROGRESS: at 10.82% examples, 294642 words/s, in_qsize 14, out_qsize 1\n",
            "2021-05-21 15:14:46,301 : INFO : EPOCH 24 - PROGRESS: at 16.58% examples, 306117 words/s, in_qsize 13, out_qsize 4\n",
            "2021-05-21 15:14:47,342 : INFO : EPOCH 24 - PROGRESS: at 22.22% examples, 307795 words/s, in_qsize 13, out_qsize 4\n",
            "2021-05-21 15:14:48,353 : INFO : EPOCH 24 - PROGRESS: at 27.84% examples, 312580 words/s, in_qsize 14, out_qsize 1\n",
            "2021-05-21 15:14:49,432 : INFO : EPOCH 24 - PROGRESS: at 33.47% examples, 314223 words/s, in_qsize 15, out_qsize 2\n",
            "2021-05-21 15:14:50,409 : INFO : EPOCH 24 - PROGRESS: at 39.09% examples, 316649 words/s, in_qsize 15, out_qsize 0\n",
            "2021-05-21 15:14:51,444 : INFO : EPOCH 24 - PROGRESS: at 44.56% examples, 317665 words/s, in_qsize 16, out_qsize 0\n",
            "2021-05-21 15:14:52,453 : INFO : EPOCH 24 - PROGRESS: at 50.22% examples, 319258 words/s, in_qsize 15, out_qsize 1\n",
            "2021-05-21 15:14:53,505 : INFO : EPOCH 24 - PROGRESS: at 55.54% examples, 316902 words/s, in_qsize 15, out_qsize 0\n",
            "2021-05-21 15:14:54,573 : INFO : EPOCH 24 - PROGRESS: at 61.17% examples, 316777 words/s, in_qsize 14, out_qsize 1\n",
            "2021-05-21 15:14:55,613 : INFO : EPOCH 24 - PROGRESS: at 66.79% examples, 317313 words/s, in_qsize 15, out_qsize 0\n",
            "2021-05-21 15:14:56,668 : INFO : EPOCH 24 - PROGRESS: at 72.42% examples, 317433 words/s, in_qsize 13, out_qsize 2\n",
            "2021-05-21 15:14:57,702 : INFO : EPOCH 24 - PROGRESS: at 78.04% examples, 317950 words/s, in_qsize 15, out_qsize 0\n",
            "2021-05-21 15:14:58,712 : INFO : EPOCH 24 - PROGRESS: at 83.37% examples, 317790 words/s, in_qsize 13, out_qsize 2\n",
            "2021-05-21 15:14:59,754 : INFO : EPOCH 24 - PROGRESS: at 89.15% examples, 318644 words/s, in_qsize 16, out_qsize 0\n",
            "2021-05-21 15:15:00,812 : INFO : EPOCH 24 - PROGRESS: at 94.96% examples, 319079 words/s, in_qsize 15, out_qsize 0\n",
            "2021-05-21 15:15:01,446 : INFO : worker thread finished; awaiting finish of 7 more threads\n",
            "2021-05-21 15:15:01,488 : INFO : worker thread finished; awaiting finish of 6 more threads\n",
            "2021-05-21 15:15:01,568 : INFO : worker thread finished; awaiting finish of 5 more threads\n",
            "2021-05-21 15:15:01,592 : INFO : worker thread finished; awaiting finish of 4 more threads\n",
            "2021-05-21 15:15:01,599 : INFO : worker thread finished; awaiting finish of 3 more threads\n",
            "2021-05-21 15:15:01,602 : INFO : worker thread finished; awaiting finish of 2 more threads\n",
            "2021-05-21 15:15:01,615 : INFO : worker thread finished; awaiting finish of 1 more threads\n",
            "2021-05-21 15:15:01,619 : INFO : worker thread finished; awaiting finish of 0 more threads\n",
            "2021-05-21 15:15:01,621 : INFO : EPOCH - 24 : training on 6748672 raw words (5978112 effective words) took 18.6s, 321480 effective words/s\n",
            "2021-05-21 15:15:02,662 : INFO : EPOCH 25 - PROGRESS: at 4.59% examples, 268809 words/s, in_qsize 15, out_qsize 0\n",
            "2021-05-21 15:15:03,674 : INFO : EPOCH 25 - PROGRESS: at 10.08% examples, 296038 words/s, in_qsize 15, out_qsize 0\n",
            "2021-05-21 15:15:04,689 : INFO : EPOCH 25 - PROGRESS: at 15.54% examples, 304992 words/s, in_qsize 15, out_qsize 0\n",
            "2021-05-21 15:15:05,741 : INFO : EPOCH 25 - PROGRESS: at 21.18% examples, 308850 words/s, in_qsize 13, out_qsize 2\n",
            "2021-05-21 15:15:06,756 : INFO : EPOCH 25 - PROGRESS: at 26.81% examples, 313381 words/s, in_qsize 16, out_qsize 0\n",
            "2021-05-21 15:15:07,844 : INFO : EPOCH 25 - PROGRESS: at 32.59% examples, 314033 words/s, in_qsize 14, out_qsize 1\n",
            "2021-05-21 15:15:08,875 : INFO : EPOCH 25 - PROGRESS: at 38.64% examples, 319453 words/s, in_qsize 15, out_qsize 0\n",
            "2021-05-21 15:15:09,878 : INFO : EPOCH 25 - PROGRESS: at 44.12% examples, 320317 words/s, in_qsize 16, out_qsize 0\n",
            "2021-05-21 15:15:10,932 : INFO : EPOCH 25 - PROGRESS: at 49.77% examples, 320195 words/s, in_qsize 15, out_qsize 0\n",
            "2021-05-21 15:15:11,963 : INFO : EPOCH 25 - PROGRESS: at 54.95% examples, 318230 words/s, in_qsize 15, out_qsize 0\n",
            "2021-05-21 15:15:12,964 : INFO : EPOCH 25 - PROGRESS: at 60.13% examples, 317496 words/s, in_qsize 13, out_qsize 1\n",
            "2021-05-21 15:15:13,999 : INFO : EPOCH 25 - PROGRESS: at 65.60% examples, 317416 words/s, in_qsize 14, out_qsize 2\n",
            "2021-05-21 15:15:15,067 : INFO : EPOCH 25 - PROGRESS: at 71.53% examples, 318543 words/s, in_qsize 14, out_qsize 1\n",
            "2021-05-21 15:15:16,107 : INFO : EPOCH 25 - PROGRESS: at 77.01% examples, 318730 words/s, in_qsize 13, out_qsize 4\n",
            "2021-05-21 15:15:17,120 : INFO : EPOCH 25 - PROGRESS: at 82.48% examples, 318865 words/s, in_qsize 15, out_qsize 2\n",
            "2021-05-21 15:15:18,139 : INFO : EPOCH 25 - PROGRESS: at 88.26% examples, 319874 words/s, in_qsize 16, out_qsize 0\n",
            "2021-05-21 15:15:19,172 : INFO : EPOCH 25 - PROGRESS: at 93.77% examples, 320210 words/s, in_qsize 15, out_qsize 3\n",
            "2021-05-21 15:15:20,084 : INFO : worker thread finished; awaiting finish of 7 more threads\n",
            "2021-05-21 15:15:20,131 : INFO : worker thread finished; awaiting finish of 6 more threads\n",
            "2021-05-21 15:15:20,142 : INFO : worker thread finished; awaiting finish of 5 more threads\n",
            "2021-05-21 15:15:20,156 : INFO : EPOCH 25 - PROGRESS: at 99.40% examples, 320944 words/s, in_qsize 4, out_qsize 1\n",
            "2021-05-21 15:15:20,160 : INFO : worker thread finished; awaiting finish of 4 more threads\n",
            "2021-05-21 15:15:20,171 : INFO : worker thread finished; awaiting finish of 3 more threads\n",
            "2021-05-21 15:15:20,180 : INFO : worker thread finished; awaiting finish of 2 more threads\n",
            "2021-05-21 15:15:20,199 : INFO : worker thread finished; awaiting finish of 1 more threads\n",
            "2021-05-21 15:15:20,222 : INFO : worker thread finished; awaiting finish of 0 more threads\n",
            "2021-05-21 15:15:20,223 : INFO : EPOCH - 25 : training on 6748672 raw words (5977780 effective words) took 18.6s, 321678 effective words/s\n",
            "2021-05-21 15:15:21,244 : INFO : EPOCH 26 - PROGRESS: at 4.30% examples, 256021 words/s, in_qsize 13, out_qsize 2\n",
            "2021-05-21 15:15:22,246 : INFO : EPOCH 26 - PROGRESS: at 9.93% examples, 295765 words/s, in_qsize 15, out_qsize 0\n",
            "2021-05-21 15:15:23,289 : INFO : EPOCH 26 - PROGRESS: at 15.54% examples, 304966 words/s, in_qsize 13, out_qsize 2\n",
            "2021-05-21 15:15:24,364 : INFO : EPOCH 26 - PROGRESS: at 21.77% examples, 315668 words/s, in_qsize 15, out_qsize 0\n",
            "2021-05-21 15:15:25,529 : INFO : EPOCH 26 - PROGRESS: at 27.55% examples, 311403 words/s, in_qsize 14, out_qsize 1\n",
            "2021-05-21 15:15:26,567 : INFO : EPOCH 26 - PROGRESS: at 33.18% examples, 313537 words/s, in_qsize 15, out_qsize 0\n",
            "2021-05-21 15:15:27,626 : INFO : EPOCH 26 - PROGRESS: at 38.79% examples, 314107 words/s, in_qsize 15, out_qsize 0\n",
            "2021-05-21 15:15:28,644 : INFO : EPOCH 26 - PROGRESS: at 44.41% examples, 316086 words/s, in_qsize 15, out_qsize 0\n",
            "2021-05-21 15:15:29,722 : INFO : EPOCH 26 - PROGRESS: at 50.36% examples, 318151 words/s, in_qsize 15, out_qsize 0\n",
            "2021-05-21 15:15:30,718 : INFO : EPOCH 26 - PROGRESS: at 55.54% examples, 316914 words/s, in_qsize 12, out_qsize 3\n",
            "2021-05-21 15:15:31,747 : INFO : EPOCH 26 - PROGRESS: at 61.31% examples, 318589 words/s, in_qsize 15, out_qsize 0\n",
            "2021-05-21 15:15:32,753 : INFO : EPOCH 26 - PROGRESS: at 66.94% examples, 319847 words/s, in_qsize 14, out_qsize 0\n",
            "2021-05-21 15:15:33,753 : INFO : EPOCH 26 - PROGRESS: at 72.27% examples, 319762 words/s, in_qsize 15, out_qsize 0\n",
            "2021-05-21 15:15:34,771 : INFO : EPOCH 26 - PROGRESS: at 77.45% examples, 318676 words/s, in_qsize 15, out_qsize 0\n",
            "2021-05-21 15:15:35,773 : INFO : EPOCH 26 - PROGRESS: at 83.22% examples, 320345 words/s, in_qsize 15, out_qsize 0\n",
            "2021-05-21 15:15:36,776 : INFO : EPOCH 26 - PROGRESS: at 88.26% examples, 319100 words/s, in_qsize 15, out_qsize 0\n",
            "2021-05-21 15:15:37,853 : INFO : EPOCH 26 - PROGRESS: at 93.92% examples, 318674 words/s, in_qsize 16, out_qsize 1\n",
            "2021-05-21 15:15:38,648 : INFO : worker thread finished; awaiting finish of 7 more threads\n",
            "2021-05-21 15:15:38,654 : INFO : worker thread finished; awaiting finish of 6 more threads\n",
            "2021-05-21 15:15:38,701 : INFO : worker thread finished; awaiting finish of 5 more threads\n",
            "2021-05-21 15:15:38,764 : INFO : worker thread finished; awaiting finish of 4 more threads\n",
            "2021-05-21 15:15:38,785 : INFO : worker thread finished; awaiting finish of 3 more threads\n",
            "2021-05-21 15:15:38,799 : INFO : worker thread finished; awaiting finish of 2 more threads\n",
            "2021-05-21 15:15:38,807 : INFO : worker thread finished; awaiting finish of 1 more threads\n",
            "2021-05-21 15:15:38,820 : INFO : worker thread finished; awaiting finish of 0 more threads\n",
            "2021-05-21 15:15:38,822 : INFO : EPOCH - 26 : training on 6748672 raw words (5976964 effective words) took 18.6s, 321673 effective words/s\n",
            "2021-05-21 15:15:39,916 : INFO : EPOCH 27 - PROGRESS: at 4.74% examples, 263453 words/s, in_qsize 15, out_qsize 0\n",
            "2021-05-21 15:15:40,949 : INFO : EPOCH 27 - PROGRESS: at 10.52% examples, 298212 words/s, in_qsize 14, out_qsize 1\n",
            "2021-05-21 15:15:41,970 : INFO : EPOCH 27 - PROGRESS: at 15.99% examples, 305659 words/s, in_qsize 16, out_qsize 0\n",
            "2021-05-21 15:15:42,974 : INFO : EPOCH 27 - PROGRESS: at 21.48% examples, 310716 words/s, in_qsize 16, out_qsize 1\n",
            "2021-05-21 15:15:43,981 : INFO : EPOCH 27 - PROGRESS: at 27.40% examples, 318723 words/s, in_qsize 15, out_qsize 0\n",
            "2021-05-21 15:15:45,015 : INFO : EPOCH 27 - PROGRESS: at 32.29% examples, 312722 words/s, in_qsize 12, out_qsize 3\n",
            "2021-05-21 15:15:46,045 : INFO : EPOCH 27 - PROGRESS: at 38.05% examples, 315952 words/s, in_qsize 15, out_qsize 0\n",
            "2021-05-21 15:15:47,067 : INFO : EPOCH 27 - PROGRESS: at 43.67% examples, 317567 words/s, in_qsize 15, out_qsize 0\n",
            "2021-05-21 15:15:48,125 : INFO : EPOCH 27 - PROGRESS: at 49.33% examples, 318138 words/s, in_qsize 15, out_qsize 0\n",
            "2021-05-21 15:15:49,226 : INFO : EPOCH 27 - PROGRESS: at 55.25% examples, 318122 words/s, in_qsize 14, out_qsize 1\n",
            "2021-05-21 15:15:50,234 : INFO : EPOCH 27 - PROGRESS: at 60.87% examples, 319502 words/s, in_qsize 16, out_qsize 0\n",
            "2021-05-21 15:15:51,252 : INFO : EPOCH 27 - PROGRESS: at 66.05% examples, 318247 words/s, in_qsize 11, out_qsize 4\n",
            "2021-05-21 15:15:52,269 : INFO : EPOCH 27 - PROGRESS: at 71.68% examples, 319196 words/s, in_qsize 15, out_qsize 0\n",
            "2021-05-21 15:15:53,301 : INFO : EPOCH 27 - PROGRESS: at 77.45% examples, 320259 words/s, in_qsize 15, out_qsize 0\n",
            "2021-05-21 15:15:54,406 : INFO : EPOCH 27 - PROGRESS: at 82.77% examples, 318000 words/s, in_qsize 13, out_qsize 2\n",
            "2021-05-21 15:15:55,419 : INFO : EPOCH 27 - PROGRESS: at 88.56% examples, 319409 words/s, in_qsize 16, out_qsize 0\n",
            "2021-05-21 15:15:56,453 : INFO : EPOCH 27 - PROGRESS: at 93.92% examples, 318717 words/s, in_qsize 15, out_qsize 2\n",
            "2021-05-21 15:15:57,341 : INFO : worker thread finished; awaiting finish of 7 more threads\n",
            "2021-05-21 15:15:57,352 : INFO : worker thread finished; awaiting finish of 6 more threads\n",
            "2021-05-21 15:15:57,364 : INFO : worker thread finished; awaiting finish of 5 more threads\n",
            "2021-05-21 15:15:57,393 : INFO : worker thread finished; awaiting finish of 4 more threads\n",
            "2021-05-21 15:15:57,428 : INFO : worker thread finished; awaiting finish of 3 more threads\n",
            "2021-05-21 15:15:57,439 : INFO : worker thread finished; awaiting finish of 2 more threads\n",
            "2021-05-21 15:15:57,452 : INFO : worker thread finished; awaiting finish of 1 more threads\n",
            "2021-05-21 15:15:57,464 : INFO : EPOCH 27 - PROGRESS: at 100.00% examples, 321012 words/s, in_qsize 0, out_qsize 1\n",
            "2021-05-21 15:15:57,466 : INFO : worker thread finished; awaiting finish of 0 more threads\n",
            "2021-05-21 15:15:57,469 : INFO : EPOCH - 27 : training on 6748672 raw words (5978408 effective words) took 18.6s, 320928 effective words/s\n",
            "2021-05-21 15:15:58,552 : INFO : EPOCH 28 - PROGRESS: at 4.74% examples, 266612 words/s, in_qsize 14, out_qsize 1\n",
            "2021-05-21 15:15:59,612 : INFO : EPOCH 28 - PROGRESS: at 10.52% examples, 296107 words/s, in_qsize 14, out_qsize 1\n",
            "2021-05-21 15:16:00,659 : INFO : EPOCH 28 - PROGRESS: at 16.28% examples, 311072 words/s, in_qsize 16, out_qsize 0\n",
            "2021-05-21 15:16:01,624 : INFO : EPOCH 28 - PROGRESS: at 21.48% examples, 310603 words/s, in_qsize 15, out_qsize 0\n",
            "2021-05-21 15:16:02,659 : INFO : EPOCH 28 - PROGRESS: at 26.51% examples, 306628 words/s, in_qsize 13, out_qsize 2\n",
            "2021-05-21 15:16:03,801 : INFO : EPOCH 28 - PROGRESS: at 32.59% examples, 308643 words/s, in_qsize 15, out_qsize 2\n",
            "2021-05-21 15:16:04,826 : INFO : EPOCH 28 - PROGRESS: at 38.20% examples, 311377 words/s, in_qsize 11, out_qsize 4\n",
            "2021-05-21 15:16:05,907 : INFO : EPOCH 28 - PROGRESS: at 44.12% examples, 313437 words/s, in_qsize 15, out_qsize 0\n",
            "2021-05-21 15:16:07,003 : INFO : EPOCH 28 - PROGRESS: at 49.91% examples, 313649 words/s, in_qsize 16, out_qsize 0\n",
            "2021-05-21 15:16:08,010 : INFO : EPOCH 28 - PROGRESS: at 55.69% examples, 316455 words/s, in_qsize 14, out_qsize 1\n",
            "2021-05-21 15:16:09,048 : INFO : EPOCH 28 - PROGRESS: at 61.02% examples, 315604 words/s, in_qsize 15, out_qsize 0\n",
            "2021-05-21 15:16:10,062 : INFO : EPOCH 28 - PROGRESS: at 66.65% examples, 316922 words/s, in_qsize 15, out_qsize 0\n",
            "2021-05-21 15:16:11,072 : INFO : EPOCH 28 - PROGRESS: at 72.42% examples, 318777 words/s, in_qsize 13, out_qsize 0\n",
            "2021-05-21 15:16:12,081 : INFO : EPOCH 28 - PROGRESS: at 77.16% examples, 316137 words/s, in_qsize 14, out_qsize 1\n",
            "2021-05-21 15:16:13,146 : INFO : EPOCH 28 - PROGRESS: at 82.63% examples, 316221 words/s, in_qsize 10, out_qsize 5\n",
            "2021-05-21 15:16:14,162 : INFO : EPOCH 28 - PROGRESS: at 88.12% examples, 315990 words/s, in_qsize 14, out_qsize 4\n",
            "2021-05-21 15:16:15,162 : INFO : EPOCH 28 - PROGRESS: at 94.37% examples, 319116 words/s, in_qsize 16, out_qsize 0\n",
            "2021-05-21 15:16:16,033 : INFO : worker thread finished; awaiting finish of 7 more threads\n",
            "2021-05-21 15:16:16,058 : INFO : worker thread finished; awaiting finish of 6 more threads\n",
            "2021-05-21 15:16:16,100 : INFO : worker thread finished; awaiting finish of 5 more threads\n",
            "2021-05-21 15:16:16,116 : INFO : worker thread finished; awaiting finish of 4 more threads\n",
            "2021-05-21 15:16:16,152 : INFO : worker thread finished; awaiting finish of 3 more threads\n",
            "2021-05-21 15:16:16,161 : INFO : worker thread finished; awaiting finish of 2 more threads\n",
            "2021-05-21 15:16:16,163 : INFO : EPOCH 28 - PROGRESS: at 99.85% examples, 319628 words/s, in_qsize 1, out_qsize 1\n",
            "2021-05-21 15:16:16,164 : INFO : worker thread finished; awaiting finish of 1 more threads\n",
            "2021-05-21 15:16:16,175 : INFO : worker thread finished; awaiting finish of 0 more threads\n",
            "2021-05-21 15:16:16,177 : INFO : EPOCH - 28 : training on 6748672 raw words (5977702 effective words) took 18.7s, 319864 effective words/s\n",
            "2021-05-21 15:16:17,279 : INFO : EPOCH 29 - PROGRESS: at 4.74% examples, 261344 words/s, in_qsize 15, out_qsize 0\n",
            "2021-05-21 15:16:18,341 : INFO : EPOCH 29 - PROGRESS: at 10.52% examples, 292984 words/s, in_qsize 15, out_qsize 0\n",
            "2021-05-21 15:16:19,343 : INFO : EPOCH 29 - PROGRESS: at 15.98% examples, 303854 words/s, in_qsize 16, out_qsize 0\n",
            "2021-05-21 15:16:20,469 : INFO : EPOCH 29 - PROGRESS: at 21.77% examples, 304578 words/s, in_qsize 15, out_qsize 0\n",
            "2021-05-21 15:16:21,572 : INFO : EPOCH 29 - PROGRESS: at 27.55% examples, 306335 words/s, in_qsize 12, out_qsize 5\n",
            "2021-05-21 15:16:22,590 : INFO : EPOCH 29 - PROGRESS: at 33.91% examples, 317058 words/s, in_qsize 13, out_qsize 1\n",
            "2021-05-21 15:16:23,659 : INFO : EPOCH 29 - PROGRESS: at 38.64% examples, 309635 words/s, in_qsize 14, out_qsize 5\n",
            "2021-05-21 15:16:24,687 : INFO : EPOCH 29 - PROGRESS: at 44.41% examples, 313587 words/s, in_qsize 15, out_qsize 1\n",
            "2021-05-21 15:16:25,715 : INFO : EPOCH 29 - PROGRESS: at 50.21% examples, 315332 words/s, in_qsize 14, out_qsize 1\n",
            "2021-05-21 15:16:26,721 : INFO : EPOCH 29 - PROGRESS: at 55.54% examples, 315483 words/s, in_qsize 14, out_qsize 4\n",
            "2021-05-21 15:16:27,816 : INFO : EPOCH 29 - PROGRESS: at 61.61% examples, 317005 words/s, in_qsize 15, out_qsize 0\n",
            "2021-05-21 15:16:28,841 : INFO : EPOCH 29 - PROGRESS: at 67.38% examples, 318590 words/s, in_qsize 16, out_qsize 1\n",
            "2021-05-21 15:16:29,847 : INFO : EPOCH 29 - PROGRESS: at 73.02% examples, 319758 words/s, in_qsize 16, out_qsize 1\n",
            "2021-05-21 15:16:30,856 : INFO : EPOCH 29 - PROGRESS: at 78.34% examples, 319481 words/s, in_qsize 15, out_qsize 0\n",
            "2021-05-21 15:16:31,876 : INFO : EPOCH 29 - PROGRESS: at 83.81% examples, 319949 words/s, in_qsize 15, out_qsize 2\n",
            "2021-05-21 15:16:32,888 : INFO : EPOCH 29 - PROGRESS: at 89.15% examples, 319296 words/s, in_qsize 15, out_qsize 0\n",
            "2021-05-21 15:16:33,954 : INFO : EPOCH 29 - PROGRESS: at 95.11% examples, 320051 words/s, in_qsize 15, out_qsize 0\n",
            "2021-05-21 15:16:34,647 : INFO : worker thread finished; awaiting finish of 7 more threads\n",
            "2021-05-21 15:16:34,656 : INFO : worker thread finished; awaiting finish of 6 more threads\n",
            "2021-05-21 15:16:34,692 : INFO : worker thread finished; awaiting finish of 5 more threads\n",
            "2021-05-21 15:16:34,707 : INFO : worker thread finished; awaiting finish of 4 more threads\n",
            "2021-05-21 15:16:34,712 : INFO : worker thread finished; awaiting finish of 3 more threads\n",
            "2021-05-21 15:16:34,716 : INFO : worker thread finished; awaiting finish of 2 more threads\n",
            "2021-05-21 15:16:34,724 : INFO : worker thread finished; awaiting finish of 1 more threads\n",
            "2021-05-21 15:16:34,742 : INFO : worker thread finished; awaiting finish of 0 more threads\n",
            "2021-05-21 15:16:34,744 : INFO : EPOCH - 29 : training on 6748672 raw words (5977570 effective words) took 18.6s, 322240 effective words/s\n",
            "2021-05-21 15:16:35,820 : INFO : EPOCH 30 - PROGRESS: at 4.59% examples, 259187 words/s, in_qsize 13, out_qsize 2\n",
            "2021-05-21 15:16:36,918 : INFO : EPOCH 30 - PROGRESS: at 10.97% examples, 303808 words/s, in_qsize 15, out_qsize 0\n",
            "2021-05-21 15:16:37,942 : INFO : EPOCH 30 - PROGRESS: at 16.59% examples, 311809 words/s, in_qsize 15, out_qsize 1\n",
            "2021-05-21 15:16:38,943 : INFO : EPOCH 30 - PROGRESS: at 22.36% examples, 319758 words/s, in_qsize 15, out_qsize 0\n",
            "2021-05-21 15:16:39,993 : INFO : EPOCH 30 - PROGRESS: at 26.96% examples, 308075 words/s, in_qsize 13, out_qsize 5\n",
            "2021-05-21 15:16:40,999 : INFO : EPOCH 30 - PROGRESS: at 33.03% examples, 316585 words/s, in_qsize 15, out_qsize 0\n",
            "2021-05-21 15:16:42,065 : INFO : EPOCH 30 - PROGRESS: at 38.35% examples, 314024 words/s, in_qsize 15, out_qsize 0\n",
            "2021-05-21 15:16:43,156 : INFO : EPOCH 30 - PROGRESS: at 44.27% examples, 315390 words/s, in_qsize 15, out_qsize 0\n",
            "2021-05-21 15:16:44,226 : INFO : EPOCH 30 - PROGRESS: at 50.07% examples, 316243 words/s, in_qsize 15, out_qsize 0\n",
            "2021-05-21 15:16:45,266 : INFO : EPOCH 30 - PROGRESS: at 55.54% examples, 316138 words/s, in_qsize 15, out_qsize 0\n",
            "2021-05-21 15:16:46,285 : INFO : EPOCH 30 - PROGRESS: at 61.46% examples, 318918 words/s, in_qsize 15, out_qsize 0\n",
            "2021-05-21 15:16:47,290 : INFO : EPOCH 30 - PROGRESS: at 67.09% examples, 320209 words/s, in_qsize 16, out_qsize 0\n",
            "2021-05-21 15:16:48,308 : INFO : EPOCH 30 - PROGRESS: at 72.28% examples, 319010 words/s, in_qsize 16, out_qsize 1\n",
            "2021-05-21 15:16:49,314 : INFO : EPOCH 30 - PROGRESS: at 77.60% examples, 318846 words/s, in_qsize 15, out_qsize 0\n",
            "2021-05-21 15:16:50,359 : INFO : EPOCH 30 - PROGRESS: at 83.22% examples, 319042 words/s, in_qsize 15, out_qsize 0\n",
            "2021-05-21 15:16:51,382 : INFO : EPOCH 30 - PROGRESS: at 88.85% examples, 319651 words/s, in_qsize 15, out_qsize 0\n",
            "2021-05-21 15:16:52,416 : INFO : EPOCH 30 - PROGRESS: at 94.21% examples, 318955 words/s, in_qsize 15, out_qsize 0\n",
            "2021-05-21 15:16:53,276 : INFO : worker thread finished; awaiting finish of 7 more threads\n",
            "2021-05-21 15:16:53,282 : INFO : worker thread finished; awaiting finish of 6 more threads\n",
            "2021-05-21 15:16:53,301 : INFO : worker thread finished; awaiting finish of 5 more threads\n",
            "2021-05-21 15:16:53,307 : INFO : worker thread finished; awaiting finish of 4 more threads\n",
            "2021-05-21 15:16:53,330 : INFO : worker thread finished; awaiting finish of 3 more threads\n",
            "2021-05-21 15:16:53,368 : INFO : worker thread finished; awaiting finish of 2 more threads\n",
            "2021-05-21 15:16:53,382 : INFO : worker thread finished; awaiting finish of 1 more threads\n",
            "2021-05-21 15:16:53,385 : INFO : worker thread finished; awaiting finish of 0 more threads\n",
            "2021-05-21 15:16:53,392 : INFO : EPOCH - 30 : training on 6748672 raw words (5977689 effective words) took 18.6s, 320844 effective words/s\n",
            "2021-05-21 15:16:54,440 : INFO : EPOCH 31 - PROGRESS: at 4.74% examples, 276177 words/s, in_qsize 15, out_qsize 0\n",
            "2021-05-21 15:16:55,481 : INFO : EPOCH 31 - PROGRESS: at 9.93% examples, 286966 words/s, in_qsize 16, out_qsize 2\n",
            "2021-05-21 15:16:56,528 : INFO : EPOCH 31 - PROGRESS: at 15.84% examples, 307484 words/s, in_qsize 16, out_qsize 0\n",
            "2021-05-21 15:16:57,532 : INFO : EPOCH 31 - PROGRESS: at 21.03% examples, 305441 words/s, in_qsize 15, out_qsize 0\n",
            "2021-05-21 15:16:58,631 : INFO : EPOCH 31 - PROGRESS: at 26.81% examples, 307359 words/s, in_qsize 15, out_qsize 0\n",
            "2021-05-21 15:16:59,681 : INFO : EPOCH 31 - PROGRESS: at 32.59% examples, 310935 words/s, in_qsize 15, out_qsize 0\n",
            "2021-05-21 15:17:00,742 : INFO : EPOCH 31 - PROGRESS: at 37.76% examples, 309033 words/s, in_qsize 15, out_qsize 7\n",
            "2021-05-21 15:17:01,785 : INFO : EPOCH 31 - PROGRESS: at 43.82% examples, 313156 words/s, in_qsize 15, out_qsize 0\n",
            "2021-05-21 15:17:02,819 : INFO : EPOCH 31 - PROGRESS: at 50.07% examples, 318295 words/s, in_qsize 15, out_qsize 0\n",
            "2021-05-21 15:17:03,836 : INFO : EPOCH 31 - PROGRESS: at 55.10% examples, 316149 words/s, in_qsize 15, out_qsize 0\n",
            "2021-05-21 15:17:04,837 : INFO : EPOCH 31 - PROGRESS: at 60.72% examples, 317894 words/s, in_qsize 15, out_qsize 0\n",
            "2021-05-21 15:17:05,845 : INFO : EPOCH 31 - PROGRESS: at 65.75% examples, 316338 words/s, in_qsize 16, out_qsize 5\n",
            "2021-05-21 15:17:06,882 : INFO : EPOCH 31 - PROGRESS: at 71.53% examples, 317624 words/s, in_qsize 15, out_qsize 0\n",
            "2021-05-21 15:17:07,936 : INFO : EPOCH 31 - PROGRESS: at 77.31% examples, 318327 words/s, in_qsize 15, out_qsize 0\n",
            "2021-05-21 15:17:08,942 : INFO : EPOCH 31 - PROGRESS: at 83.22% examples, 320505 words/s, in_qsize 16, out_qsize 0\n",
            "2021-05-21 15:17:09,955 : INFO : EPOCH 31 - PROGRESS: at 88.11% examples, 318542 words/s, in_qsize 14, out_qsize 1\n",
            "2021-05-21 15:17:10,984 : INFO : EPOCH 31 - PROGRESS: at 93.62% examples, 318505 words/s, in_qsize 15, out_qsize 0\n",
            "2021-05-21 15:17:11,975 : INFO : worker thread finished; awaiting finish of 7 more threads\n",
            "2021-05-21 15:17:11,999 : INFO : EPOCH 31 - PROGRESS: at 99.11% examples, 318807 words/s, in_qsize 5, out_qsize 3\n",
            "2021-05-21 15:17:12,007 : INFO : worker thread finished; awaiting finish of 6 more threads\n",
            "2021-05-21 15:17:12,014 : INFO : worker thread finished; awaiting finish of 5 more threads\n",
            "2021-05-21 15:17:12,020 : INFO : worker thread finished; awaiting finish of 4 more threads\n",
            "2021-05-21 15:17:12,027 : INFO : worker thread finished; awaiting finish of 3 more threads\n",
            "2021-05-21 15:17:12,038 : INFO : worker thread finished; awaiting finish of 2 more threads\n",
            "2021-05-21 15:17:12,041 : INFO : worker thread finished; awaiting finish of 1 more threads\n",
            "2021-05-21 15:17:12,052 : INFO : worker thread finished; awaiting finish of 0 more threads\n",
            "2021-05-21 15:17:12,053 : INFO : EPOCH - 31 : training on 6748672 raw words (5978545 effective words) took 18.6s, 320734 effective words/s\n",
            "2021-05-21 15:17:13,099 : INFO : EPOCH 32 - PROGRESS: at 4.59% examples, 266415 words/s, in_qsize 15, out_qsize 0\n",
            "2021-05-21 15:17:14,107 : INFO : EPOCH 32 - PROGRESS: at 10.07% examples, 295399 words/s, in_qsize 15, out_qsize 0\n",
            "2021-05-21 15:17:15,213 : INFO : EPOCH 32 - PROGRESS: at 15.84% examples, 301398 words/s, in_qsize 14, out_qsize 1\n",
            "2021-05-21 15:17:16,247 : INFO : EPOCH 32 - PROGRESS: at 21.77% examples, 311636 words/s, in_qsize 15, out_qsize 0\n",
            "2021-05-21 15:17:17,329 : INFO : EPOCH 32 - PROGRESS: at 27.25% examples, 309834 words/s, in_qsize 14, out_qsize 1\n",
            "2021-05-21 15:17:18,353 : INFO : EPOCH 32 - PROGRESS: at 32.88% examples, 312910 words/s, in_qsize 16, out_qsize 0\n",
            "2021-05-21 15:17:19,421 : INFO : EPOCH 32 - PROGRESS: at 38.20% examples, 310806 words/s, in_qsize 14, out_qsize 1\n",
            "2021-05-21 15:17:20,450 : INFO : EPOCH 32 - PROGRESS: at 44.12% examples, 314893 words/s, in_qsize 15, out_qsize 0\n",
            "2021-05-21 15:17:21,474 : INFO : EPOCH 32 - PROGRESS: at 49.32% examples, 313585 words/s, in_qsize 16, out_qsize 0\n",
            "2021-05-21 15:17:22,507 : INFO : EPOCH 32 - PROGRESS: at 54.95% examples, 314803 words/s, in_qsize 15, out_qsize 0\n",
            "2021-05-21 15:17:23,571 : INFO : EPOCH 32 - PROGRESS: at 60.72% examples, 315710 words/s, in_qsize 15, out_qsize 0\n",
            "2021-05-21 15:17:24,592 : INFO : EPOCH 32 - PROGRESS: at 66.20% examples, 316150 words/s, in_qsize 15, out_qsize 0\n",
            "2021-05-21 15:17:25,597 : INFO : EPOCH 32 - PROGRESS: at 71.68% examples, 316864 words/s, in_qsize 15, out_qsize 0\n",
            "2021-05-21 15:17:26,604 : INFO : EPOCH 32 - PROGRESS: at 77.02% examples, 316814 words/s, in_qsize 16, out_qsize 3\n",
            "2021-05-21 15:17:27,647 : INFO : EPOCH 32 - PROGRESS: at 82.92% examples, 318346 words/s, in_qsize 15, out_qsize 0\n",
            "2021-05-21 15:17:28,656 : INFO : EPOCH 32 - PROGRESS: at 88.41% examples, 318731 words/s, in_qsize 14, out_qsize 0\n",
            "2021-05-21 15:17:29,684 : INFO : EPOCH 32 - PROGRESS: at 93.33% examples, 316683 words/s, in_qsize 14, out_qsize 1\n",
            "2021-05-21 15:17:30,668 : INFO : worker thread finished; awaiting finish of 7 more threads\n",
            "2021-05-21 15:17:30,671 : INFO : worker thread finished; awaiting finish of 6 more threads\n",
            "2021-05-21 15:17:30,681 : INFO : worker thread finished; awaiting finish of 5 more threads\n",
            "2021-05-21 15:17:30,689 : INFO : EPOCH 32 - PROGRESS: at 99.40% examples, 319161 words/s, in_qsize 3, out_qsize 3\n",
            "2021-05-21 15:17:30,693 : INFO : worker thread finished; awaiting finish of 4 more threads\n",
            "2021-05-21 15:17:30,712 : INFO : worker thread finished; awaiting finish of 3 more threads\n",
            "2021-05-21 15:17:30,714 : INFO : worker thread finished; awaiting finish of 2 more threads\n",
            "2021-05-21 15:17:30,755 : INFO : worker thread finished; awaiting finish of 1 more threads\n",
            "2021-05-21 15:17:30,758 : INFO : worker thread finished; awaiting finish of 0 more threads\n",
            "2021-05-21 15:17:30,759 : INFO : EPOCH - 32 : training on 6748672 raw words (5978323 effective words) took 18.7s, 319860 effective words/s\n",
            "2021-05-21 15:17:30,761 : INFO : Word2Vec lifecycle event {'msg': 'training on 215957504 raw words (191288640 effective words) took 601.5s, 318023 effective words/s', 'datetime': '2021-05-21T15:17:30.761635', 'gensim': '4.0.1', 'python': '3.7.10 (default, May  3 2021, 02:48:31) \\n[GCC 7.5.0]', 'platform': 'Linux-5.4.109+-x86_64-with-Ubuntu-18.04-bionic', 'event': 'train'}\n"
          ],
          "name": "stderr"
        },
        {
          "output_type": "stream",
          "text": [
            "CPU times: user 19min 25s, sys: 5.06 s, total: 19min 30s\n",
            "Wall time: 10min 1s\n"
          ],
          "name": "stdout"
        },
        {
          "output_type": "execute_result",
          "data": {
            "text/plain": [
              "(191288640, 215957504)"
            ]
          },
          "metadata": {
            "tags": []
          },
          "execution_count": 21
        }
      ]
    },
    {
      "cell_type": "code",
      "metadata": {
        "colab": {
          "base_uri": "https://localhost:8080/"
        },
        "id": "ONL-NTyieQqY",
        "outputId": "f3bfe02b-2fd8-4242-b88e-938e9c909043"
      },
      "source": [
        "w2v_model.wv.most_similar(\"love\")"
      ],
      "execution_count": 22,
      "outputs": [
        {
          "output_type": "execute_result",
          "data": {
            "text/plain": [
              "[('luv', 0.5577350854873657),\n",
              " ('loves', 0.5275534391403198),\n",
              " ('loved', 0.5092127919197083),\n",
              " ('amazing', 0.4759472906589508),\n",
              " ('looove', 0.4724307954311371),\n",
              " ('miss', 0.4594375789165497),\n",
              " ('adore', 0.44783076643943787),\n",
              " ('awesome', 0.42001354694366455),\n",
              " ('loove', 0.40371033549308777),\n",
              " ('loving', 0.40242186188697815)]"
            ]
          },
          "metadata": {
            "tags": []
          },
          "execution_count": 22
        }
      ]
    },
    {
      "cell_type": "code",
      "metadata": {
        "colab": {
          "base_uri": "https://localhost:8080/"
        },
        "id": "9JRSiqblecf-",
        "outputId": "903a876b-b32e-4f26-c70f-4c792c01a597"
      },
      "source": [
        "%%time\n",
        "tokenizer = Tokenizer()\n",
        "tokenizer.fit_on_texts(df_train.text)\n",
        "\n",
        "vocab_size = len(tokenizer.word_index) + 1\n",
        "print(\"Total words\", vocab_size)"
      ],
      "execution_count": 23,
      "outputs": [
        {
          "output_type": "stream",
          "text": [
            "Total words 228377\n",
            "CPU times: user 14.7 s, sys: 74.3 ms, total: 14.8 s\n",
            "Wall time: 14.8 s\n"
          ],
          "name": "stdout"
        }
      ]
    },
    {
      "cell_type": "code",
      "metadata": {
        "colab": {
          "base_uri": "https://localhost:8080/"
        },
        "id": "jaSo1AOSeddY",
        "outputId": "d8f28f5a-317f-4482-db2d-8da2ebd798a6"
      },
      "source": [
        "%%time\n",
        "x_train = pad_sequences(tokenizer.texts_to_sequences(df_train.text), maxlen=SEQUENCE_LENGTH)\n",
        "x_test = pad_sequences(tokenizer.texts_to_sequences(df_test.text), maxlen=SEQUENCE_LENGTH)"
      ],
      "execution_count": 24,
      "outputs": [
        {
          "output_type": "stream",
          "text": [
            "CPU times: user 20.8 s, sys: 635 ms, total: 21.5 s\n",
            "Wall time: 21.5 s\n"
          ],
          "name": "stdout"
        }
      ]
    },
    {
      "cell_type": "markdown",
      "metadata": {
        "id": "6xctvLSNelT-"
      },
      "source": [
        "**LABEL** **ENCODER**"
      ]
    },
    {
      "cell_type": "code",
      "metadata": {
        "colab": {
          "base_uri": "https://localhost:8080/"
        },
        "id": "izDdQuMgeges",
        "outputId": "3d185be1-3d07-4294-ee8f-7eaf8423f7ca"
      },
      "source": [
        "labels = df_train.target.unique().tolist()\n",
        "labels.append(NEUTRAL)\n",
        "labels"
      ],
      "execution_count": 25,
      "outputs": [
        {
          "output_type": "execute_result",
          "data": {
            "text/plain": [
              "['NEGATIVE', 'POSITIVE', 'NEUTRAL']"
            ]
          },
          "metadata": {
            "tags": []
          },
          "execution_count": 25
        }
      ]
    },
    {
      "cell_type": "code",
      "metadata": {
        "colab": {
          "base_uri": "https://localhost:8080/"
        },
        "id": "gYpObXQOes-Z",
        "outputId": "5bf72739-82a0-4352-9709-3f8df0804a23"
      },
      "source": [
        "encoder = LabelEncoder()\n",
        "encoder.fit(df_train.target.tolist())\n",
        "\n",
        "y_train = encoder.transform(df_train.target.tolist())\n",
        "y_test = encoder.transform(df_test.target.tolist())\n",
        "\n",
        "y_train = y_train.reshape(-1,1)\n",
        "y_test = y_test.reshape(-1,1)\n",
        "\n",
        "print(\"y_train\",y_train.shape)\n",
        "print(\"y_test\",y_test.shape)"
      ],
      "execution_count": 26,
      "outputs": [
        {
          "output_type": "stream",
          "text": [
            "y_train (929853, 1)\n",
            "y_test (232464, 1)\n"
          ],
          "name": "stdout"
        }
      ]
    },
    {
      "cell_type": "code",
      "metadata": {
        "colab": {
          "base_uri": "https://localhost:8080/"
        },
        "id": "Kdw4GSCdexsv",
        "outputId": "e4540077-292e-405a-d009-e806cd8146af"
      },
      "source": [
        "print(\"x_train\", x_train.shape)\n",
        "print(\"y_train\", y_train.shape)\n",
        "print()\n",
        "print(\"x_test\", x_test.shape)\n",
        "print(\"y_test\", y_test.shape)"
      ],
      "execution_count": 27,
      "outputs": [
        {
          "output_type": "stream",
          "text": [
            "x_train (929853, 300)\n",
            "y_train (929853, 1)\n",
            "\n",
            "x_test (232464, 300)\n",
            "y_test (232464, 1)\n"
          ],
          "name": "stdout"
        }
      ]
    },
    {
      "cell_type": "code",
      "metadata": {
        "colab": {
          "base_uri": "https://localhost:8080/"
        },
        "id": "Ycf_8Qkle1eT",
        "outputId": "de03c840-22c8-4e49-c086-9cadfe451117"
      },
      "source": [
        "y_train[:10]"
      ],
      "execution_count": 28,
      "outputs": [
        {
          "output_type": "execute_result",
          "data": {
            "text/plain": [
              "array([[0],\n",
              "       [0],\n",
              "       [0],\n",
              "       [0],\n",
              "       [0],\n",
              "       [1],\n",
              "       [0],\n",
              "       [0],\n",
              "       [1],\n",
              "       [0]])"
            ]
          },
          "metadata": {
            "tags": []
          },
          "execution_count": 28
        }
      ]
    },
    {
      "cell_type": "markdown",
      "metadata": {
        "id": "bDd8YHf0e7cU"
      },
      "source": [
        "**EMBEDDING LAYER**"
      ]
    },
    {
      "cell_type": "code",
      "metadata": {
        "colab": {
          "base_uri": "https://localhost:8080/"
        },
        "id": "gfRsA3SefBGq",
        "outputId": "2ad244c5-f7b5-4cc1-fae4-d7985b00498c"
      },
      "source": [
        "embedding_matrix = np.zeros((vocab_size, W2V_SIZE))\n",
        "for word, i in tokenizer.word_index.items():\n",
        "  if word in w2v_model.wv:\n",
        "    embedding_matrix[i] = w2v_model.wv[word]\n",
        "print(embedding_matrix.shape)"
      ],
      "execution_count": 29,
      "outputs": [
        {
          "output_type": "stream",
          "text": [
            "(228377, 300)\n"
          ],
          "name": "stdout"
        }
      ]
    },
    {
      "cell_type": "code",
      "metadata": {
        "id": "4ij_u8yHfEDS"
      },
      "source": [
        "embedding_layer = Embedding(vocab_size, W2V_SIZE, weights=[embedding_matrix], input_length=SEQUENCE_LENGTH, trainable=False)"
      ],
      "execution_count": 30,
      "outputs": []
    },
    {
      "cell_type": "markdown",
      "metadata": {
        "id": "qHMYjCczfOvo"
      },
      "source": [
        "**Build Model**"
      ]
    },
    {
      "cell_type": "code",
      "metadata": {
        "colab": {
          "base_uri": "https://localhost:8080/"
        },
        "id": "CFKv1wsxfRjt",
        "outputId": "04739450-7103-44fd-c9d7-a8ebd546e045"
      },
      "source": [
        "model = Sequential()\n",
        "model.add(embedding_layer)\n",
        "model.add(Dropout(0.5))\n",
        "model.add(LSTM(100, dropout=0.2, recurrent_dropout=0.2))\n",
        "model.add(Dense(1, activation='sigmoid'))\n",
        "\n",
        "model.summary()"
      ],
      "execution_count": 31,
      "outputs": [
        {
          "output_type": "stream",
          "text": [
            "Model: \"sequential\"\n",
            "_________________________________________________________________\n",
            "Layer (type)                 Output Shape              Param #   \n",
            "=================================================================\n",
            "embedding (Embedding)        (None, 300, 300)          68513100  \n",
            "_________________________________________________________________\n",
            "dropout (Dropout)            (None, 300, 300)          0         \n",
            "_________________________________________________________________\n",
            "lstm (LSTM)                  (None, 100)               160400    \n",
            "_________________________________________________________________\n",
            "dense (Dense)                (None, 1)                 101       \n",
            "=================================================================\n",
            "Total params: 68,673,601\n",
            "Trainable params: 160,501\n",
            "Non-trainable params: 68,513,100\n",
            "_________________________________________________________________\n"
          ],
          "name": "stdout"
        }
      ]
    },
    {
      "cell_type": "markdown",
      "metadata": {
        "id": "MRDhTWRaffbP"
      },
      "source": [
        "**COMPILE MODEL**"
      ]
    },
    {
      "cell_type": "code",
      "metadata": {
        "id": "arOSWlMcfVfF"
      },
      "source": [
        "model.compile(loss='binary_crossentropy',\n",
        "              optimizer=\"adam\",\n",
        "              metrics=['accuracy'])"
      ],
      "execution_count": 32,
      "outputs": []
    },
    {
      "cell_type": "markdown",
      "metadata": {
        "id": "Y_GmJ4-1fnSA"
      },
      "source": [
        "**CALLBACKS**"
      ]
    },
    {
      "cell_type": "code",
      "metadata": {
        "id": "T_wWlV5qfb89"
      },
      "source": [
        "callbacks = [ ReduceLROnPlateau(monitor='val_loss', patience=5, cooldown=0),\n",
        "              EarlyStopping(monitor='val_acc', min_delta=1e-4, patience=5)]\n",
        "\n"
      ],
      "execution_count": 33,
      "outputs": []
    },
    {
      "cell_type": "markdown",
      "metadata": {
        "id": "8rGiy07uf3q8"
      },
      "source": [
        "**TRAIN**"
      ]
    },
    {
      "cell_type": "code",
      "metadata": {
        "colab": {
          "base_uri": "https://localhost:8080/"
        },
        "id": "DLyl1A25fNqm",
        "outputId": "e7f4a5e3-989d-441e-cc7c-1327f16549dd"
      },
      "source": [
        "%%time\n",
        "history = model.fit(x_train, y_train,\n",
        "                    batch_size=BATCH_SIZE,\n",
        "                    epochs=1\n",
        "                    \n",
        "                    ,\n",
        "                    validation_split=0.1,\n",
        "                    verbose=1,\n",
        "                    callbacks=callbacks)\n"
      ],
      "execution_count": 37,
      "outputs": [
        {
          "output_type": "stream",
          "text": [
            "818/818 [==============================] - 11504s 14s/step - loss: 0.4381 - accuracy: 0.7941 - val_loss: 0.4140 - val_accuracy: 0.8101\n",
            "WARNING:tensorflow:Early stopping conditioned on metric `val_acc` which is not available. Available metrics are: loss,accuracy,val_loss,val_accuracy,lr\n"
          ],
          "name": "stdout"
        },
        {
          "output_type": "stream",
          "text": [
            "2021-05-21 22:04:50,192 : WARNING : Early stopping conditioned on metric `val_acc` which is not available. Available metrics are: loss,accuracy,val_loss,val_accuracy,lr\n"
          ],
          "name": "stderr"
        },
        {
          "output_type": "stream",
          "text": [
            "CPU times: user 5h 33min 28s, sys: 32min 21s, total: 6h 5min 49s\n",
            "Wall time: 3h 11min 44s\n"
          ],
          "name": "stdout"
        }
      ]
    },
    {
      "cell_type": "markdown",
      "metadata": {
        "id": "x_KcBhjXgDsJ"
      },
      "source": [
        "**EVALUATE**"
      ]
    },
    {
      "cell_type": "code",
      "metadata": {
        "colab": {
          "base_uri": "https://localhost:8080/"
        },
        "id": "vqJ5KT1mgBgq",
        "outputId": "2ce6db5b-7b1c-4b35-e579-e43009693659"
      },
      "source": [
        "%%time\n",
        "score = model.evaluate(x_test, y_test, batch_size=BATCH_SIZE)\n",
        "print()\n",
        "print(\"ACCURACY:\",score[1])\n",
        "print(\"LOSS:\",score[0])"
      ],
      "execution_count": 38,
      "outputs": [
        {
          "output_type": "stream",
          "text": [
            "228/228 [==============================] - 687s 3s/step - loss: 0.4126 - accuracy: 0.8114\n",
            "\n",
            "ACCURACY: 0.8114116787910461\n",
            "LOSS: 0.4126356542110443\n",
            "CPU times: user 19min 12s, sys: 2min 11s, total: 21min 24s\n",
            "Wall time: 11min 27s\n"
          ],
          "name": "stdout"
        }
      ]
    },
    {
      "cell_type": "code",
      "metadata": {
        "id": "h28d-3h4fJgz",
        "colab": {
          "base_uri": "https://localhost:8080/",
          "height": 545
        },
        "outputId": "a0309910-fc7c-4bc0-e9b5-6022d047095b"
      },
      "source": [
        "acc = history.history['accuracy']\n",
        "val_acc = history.history['val_accuracy']\n",
        "loss = history.history['loss']\n",
        "val_loss = history.history['val_loss']\n",
        " \n",
        "epochs = range(len(acc))\n",
        " \n",
        "plt.plot(epochs, acc, 'b', label='Training accuracy')\n",
        "plt.plot(epochs, val_acc, 'r', label='Validation accuracy')\n",
        "plt.title('Training and validation accuracy')\n",
        "plt.legend()\n",
        " \n",
        "plt.figure()\n",
        " \n",
        "plt.plot(epochs, loss, 'b', label='Training loss')\n",
        "plt.plot(epochs, val_loss, 'r', label='Validation loss')\n",
        "plt.title('Training and validation loss')\n",
        "plt.legend()\n",
        " \n",
        "plt.show()"
      ],
      "execution_count": 41,
      "outputs": [
        {
          "output_type": "display_data",
          "data": {
            "image/png": "[encoded data removed]",
            "text/plain": [
              "<Figure size 432x288 with 1 Axes>"
            ]
          },
          "metadata": {
            "tags": [],
            "needs_background": "light"
          }
        },
        {
          "output_type": "display_data",
          "data": {
            "image/png": "[encoded data removed]",
            "text/plain": [
              "<Figure size 432x288 with 1 Axes>"
            ]
          },
          "metadata": {
            "tags": [],
            "needs_background": "light"
          }
        }
      ]
    },
    {
      "cell_type": "markdown",
      "metadata": {
        "id": "Db_bI1_CgV9O"
      },
      "source": [
        "**PREDICT**"
      ]
    },
    {
      "cell_type": "code",
      "metadata": {
        "id": "-f6AzaJJe4HX"
      },
      "source": [
        "def decode_sentiment(score, include_neutral=True):\n",
        "    if include_neutral:        \n",
        "        label = NEUTRAL\n",
        "        if score <= SENTIMENT_THRESHOLDS[0]:\n",
        "            label = NEGATIVE\n",
        "        elif score >= SENTIMENT_THRESHOLDS[1]:\n",
        "            label = POSITIVE\n",
        "\n",
        "        return label\n",
        "    else:\n",
        "        return NEGATIVE if score < 0.5 else POSITIVE"
      ],
      "execution_count": 42,
      "outputs": []
    },
    {
      "cell_type": "code",
      "metadata": {
        "id": "mI4awVEXgnDF"
      },
      "source": [
        "def predict(text, include_neutral=True):\n",
        "    start_at = time.time()\n",
        "    # Tokenize text\n",
        "    x_test = pad_sequences(tokenizer.texts_to_sequences([text]), maxlen=SEQUENCE_LENGTH)\n",
        "    # Predict\n",
        "    score = model.predict([x_test])[0]\n",
        "    # Decode sentiment\n",
        "    label = decode_sentiment(score, include_neutral=include_neutral)\n",
        "\n",
        "    return {\"label\": label, \"score\": float(score),\n",
        "       \"elapsed_time\": time.time()-start_at}  \n"
      ],
      "execution_count": 43,
      "outputs": []
    },
    {
      "cell_type": "code",
      "metadata": {
        "colab": {
          "base_uri": "https://localhost:8080/"
        },
        "id": "MmsVvj4bUXjb",
        "outputId": "0ccd88e2-95e8-4c37-9633-c789ad4e5141"
      },
      "source": [
        "predict(\"I am confused\")"
      ],
      "execution_count": 45,
      "outputs": [
        {
          "output_type": "execute_result",
          "data": {
            "text/plain": [
              "{'elapsed_time': 0.12145185470581055,\n",
              " 'label': 'NEGATIVE',\n",
              " 'score': 0.043205976486206055}"
            ]
          },
          "metadata": {
            "tags": []
          },
          "execution_count": 45
        }
      ]
    },
    {
      "cell_type": "code",
      "metadata": {
        "colab": {
          "base_uri": "https://localhost:8080/"
        },
        "id": "iR8U9QJ7U0Ko",
        "outputId": "d20d8b85-9bf7-4f59-b873-bc60b18365f5"
      },
      "source": [
        "predict(\"i don't know what i'm doing\")"
      ],
      "execution_count": 46,
      "outputs": [
        {
          "output_type": "execute_result",
          "data": {
            "text/plain": [
              "{'elapsed_time': 0.11214709281921387,\n",
              " 'label': 'NEGATIVE',\n",
              " 'score': 0.23698842525482178}"
            ]
          },
          "metadata": {
            "tags": []
          },
          "execution_count": 46
        }
      ]
    },
    {
      "cell_type": "code",
      "metadata": {
        "colab": {
          "base_uri": "https://localhost:8080/"
        },
        "id": "ZCKh6mrbU617",
        "outputId": "50baad8c-81d1-4a5c-950c-9edc09508898"
      },
      "source": [
        "predict(\"I love the music\")"
      ],
      "execution_count": 47,
      "outputs": [
        {
          "output_type": "execute_result",
          "data": {
            "text/plain": [
              "{'elapsed_time': 0.13424992561340332,\n",
              " 'label': 'POSITIVE',\n",
              " 'score': 0.9604392051696777}"
            ]
          },
          "metadata": {
            "tags": []
          },
          "execution_count": 47
        }
      ]
    },
    {
      "cell_type": "code",
      "metadata": {
        "colab": {
          "base_uri": "https://localhost:8080/"
        },
        "id": "9j4aE-BAVAlh",
        "outputId": "f9872e52-b2df-4b57-b13d-6f905432e41a"
      },
      "source": [
        "%%time\n",
        "y_pred_1d = []\n",
        "y_test_1d = list(df_test.target)\n",
        "scores = model.predict(x_test, verbose=1, batch_size=8000)\n",
        "y_pred_1d = [decode_sentiment(score, include_neutral=False) for score in scores]"
      ],
      "execution_count": 48,
      "outputs": [
        {
          "output_type": "stream",
          "text": [
            "30/30 [==============================] - 745s 24s/step\n",
            "CPU times: user 18min 16s, sys: 5min 7s, total: 23min 24s\n",
            "Wall time: 12min 25s\n"
          ],
          "name": "stdout"
        }
      ]
    },
    {
      "cell_type": "code",
      "metadata": {
        "id": "40r5u-_0VLeW"
      },
      "source": [
        "def plot_confusion_matrix(cm, classes,\n",
        "                          title='Confusion matrix',\n",
        "                          cmap=plt.cm.Blues):\n",
        "    \"\"\"\n",
        "    This function prints and plots the confusion matrix.\n",
        "    Normalization can be applied by setting `normalize=True`.\n",
        "    \"\"\"\n",
        "\n",
        "    cm = cm.astype('float') / cm.sum(axis=1)[:, np.newaxis]\n",
        "\n",
        "    plt.imshow(cm, interpolation='nearest', cmap=cmap)\n",
        "    plt.title(title, fontsize=30)\n",
        "    plt.colorbar()\n",
        "    tick_marks = np.arange(len(classes))\n",
        "    plt.xticks(tick_marks, classes, rotation=90, fontsize=22)\n",
        "    plt.yticks(tick_marks, classes, fontsize=22)\n",
        "\n",
        "    fmt = '.2f'\n",
        "    thresh = cm.max() / 2.\n",
        "    for i, j in itertools.product(range(cm.shape[0]), range(cm.shape[1])):\n",
        "        plt.text(j, i, format(cm[i, j], fmt),\n",
        "                 horizontalalignment=\"center\",\n",
        "                 color=\"white\" if cm[i, j] > thresh else \"black\")\n",
        "\n",
        "    plt.ylabel('True label', fontsize=25)\n",
        "    plt.xlabel('Predicted label', fontsize=25)"
      ],
      "execution_count": 49,
      "outputs": []
    },
    {
      "cell_type": "code",
      "metadata": {
        "colab": {
          "base_uri": "https://localhost:8080/",
          "height": 807
        },
        "id": "CZe66uM_VO2E",
        "outputId": "6ef6776c-69c5-487a-c678-a5362a183f65"
      },
      "source": [
        "%%time\n",
        "\n",
        "cnf_matrix = confusion_matrix(y_test_1d, y_pred_1d)\n",
        "plt.figure(figsize=(12,12))\n",
        "plot_confusion_matrix(cnf_matrix, classes=df_train.target.unique(), title=\"Confusion matrix\")\n",
        "plt.show()"
      ],
      "execution_count": 50,
      "outputs": [
        {
          "output_type": "display_data",
          "data": {
            "image/png": "[encoded data removed]",
            "text/plain": [
              "<Figure size 864x864 with 2 Axes>"
            ]
          },
          "metadata": {
            "tags": [],
            "needs_background": "light"
          }
        },
        {
          "output_type": "stream",
          "text": [
            "CPU times: user 1.18 s, sys: 43.7 ms, total: 1.22 s\n",
            "Wall time: 1.34 s\n"
          ],
          "name": "stdout"
        }
      ]
    },
    {
      "cell_type": "code",
      "metadata": {
        "colab": {
          "base_uri": "https://localhost:8080/"
        },
        "id": "ZiQ7qUDMVVx9",
        "outputId": "a71bfab2-bba4-4fb8-da34-42e65f59a59b"
      },
      "source": [
        "print(classification_report(y_test_1d, y_pred_1d))"
      ],
      "execution_count": 51,
      "outputs": [
        {
          "output_type": "stream",
          "text": [
            "              precision    recall  f1-score   support\n",
            "\n",
            "    NEGATIVE       0.84      0.90      0.87    160017\n",
            "    POSITIVE       0.74      0.61      0.67     72447\n",
            "\n",
            "    accuracy                           0.81    232464\n",
            "   macro avg       0.79      0.76      0.77    232464\n",
            "weighted avg       0.81      0.81      0.81    232464\n",
            "\n"
          ],
          "name": "stdout"
        }
      ]
    },
    {
      "cell_type": "code",
      "metadata": {
        "colab": {
          "base_uri": "https://localhost:8080/"
        },
        "id": "_HQdzVXMVfqf",
        "outputId": "fa391d1b-a77d-4fe8-8b96-954ff9e25e99"
      },
      "source": [
        "accuracy_score(y_test_1d, y_pred_1d)"
      ],
      "execution_count": 52,
      "outputs": [
        {
          "output_type": "execute_result",
          "data": {
            "text/plain": [
              "0.8114116594397413"
            ]
          },
          "metadata": {
            "tags": []
          },
          "execution_count": 52
        }
      ]
    },
    {
      "cell_type": "code",
      "metadata": {
        "colab": {
          "base_uri": "https://localhost:8080/"
        },
        "id": "wUx_bCOlVj6y",
        "outputId": "7b3fbc4f-0e1b-49c0-feed-ee053009c784"
      },
      "source": [
        "model.save(KERAS_MODEL)\n",
        "w2v_model.save(WORD2VEC_MODEL)\n",
        "pickle.dump(tokenizer, open(TOKENIZER_MODEL, \"wb\"), protocol=0)\n",
        "pickle.dump(encoder, open(ENCODER_MODEL, \"wb\"), protocol=0)"
      ],
      "execution_count": 53,
      "outputs": [
        {
          "output_type": "stream",
          "text": [
            "2021-05-22 00:03:49,740 : INFO : Word2Vec lifecycle event {'fname_or_handle': 'model.w2v', 'separately': 'None', 'sep_limit': 10485760, 'ignore': frozenset(), 'datetime': '2021-05-22T00:03:49.740032', 'gensim': '4.0.1', 'python': '3.7.10 (default, May  3 2021, 02:48:31) \\n[GCC 7.5.0]', 'platform': 'Linux-5.4.109+-x86_64-with-Ubuntu-18.04-bionic', 'event': 'saving'}\n",
            "2021-05-22 00:03:49,747 : INFO : not storing attribute cum_table\n",
            "2021-05-22 00:03:50,311 : INFO : saved model.w2v\n"
          ],
          "name": "stderr"
        }
      ]
    }
  ]
}